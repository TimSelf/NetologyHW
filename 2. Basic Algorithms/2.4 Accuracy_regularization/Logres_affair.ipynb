{
 "cells": [
  {
   "cell_type": "markdown",
   "metadata": {},
   "source": [
    "# Метрики precision и recall"
   ]
  },
  {
   "cell_type": "markdown",
   "metadata": {},
   "source": [
    "Данные содержат признаки пользователей и целевую переменную affair - была ли связь на стороне"
   ]
  },
  {
   "cell_type": "code",
   "execution_count": 1,
   "metadata": {},
   "outputs": [],
   "source": [
    "import pandas as pd"
   ]
  },
  {
   "cell_type": "code",
   "execution_count": 2,
   "metadata": {},
   "outputs": [
    {
     "data": {
      "text/html": [
       "<div>\n",
       "<style scoped>\n",
       "    .dataframe tbody tr th:only-of-type {\n",
       "        vertical-align: middle;\n",
       "    }\n",
       "\n",
       "    .dataframe tbody tr th {\n",
       "        vertical-align: top;\n",
       "    }\n",
       "\n",
       "    .dataframe thead th {\n",
       "        text-align: right;\n",
       "    }\n",
       "</style>\n",
       "<table border=\"1\" class=\"dataframe\">\n",
       "  <thead>\n",
       "    <tr style=\"text-align: right;\">\n",
       "      <th></th>\n",
       "      <th>rate_marriage</th>\n",
       "      <th>age</th>\n",
       "      <th>yrs_married</th>\n",
       "      <th>children</th>\n",
       "      <th>religious</th>\n",
       "      <th>educ</th>\n",
       "      <th>occupation</th>\n",
       "      <th>occupation_husb</th>\n",
       "      <th>affair</th>\n",
       "    </tr>\n",
       "  </thead>\n",
       "  <tbody>\n",
       "    <tr>\n",
       "      <th>0</th>\n",
       "      <td>3.0</td>\n",
       "      <td>32.0</td>\n",
       "      <td>9.0</td>\n",
       "      <td>3.0</td>\n",
       "      <td>3.0</td>\n",
       "      <td>17.0</td>\n",
       "      <td>2.0</td>\n",
       "      <td>5.0</td>\n",
       "      <td>1</td>\n",
       "    </tr>\n",
       "    <tr>\n",
       "      <th>1</th>\n",
       "      <td>3.0</td>\n",
       "      <td>27.0</td>\n",
       "      <td>13.0</td>\n",
       "      <td>3.0</td>\n",
       "      <td>1.0</td>\n",
       "      <td>14.0</td>\n",
       "      <td>3.0</td>\n",
       "      <td>4.0</td>\n",
       "      <td>1</td>\n",
       "    </tr>\n",
       "    <tr>\n",
       "      <th>2</th>\n",
       "      <td>4.0</td>\n",
       "      <td>22.0</td>\n",
       "      <td>2.5</td>\n",
       "      <td>0.0</td>\n",
       "      <td>1.0</td>\n",
       "      <td>16.0</td>\n",
       "      <td>3.0</td>\n",
       "      <td>5.0</td>\n",
       "      <td>1</td>\n",
       "    </tr>\n",
       "    <tr>\n",
       "      <th>3</th>\n",
       "      <td>4.0</td>\n",
       "      <td>37.0</td>\n",
       "      <td>16.5</td>\n",
       "      <td>4.0</td>\n",
       "      <td>3.0</td>\n",
       "      <td>16.0</td>\n",
       "      <td>5.0</td>\n",
       "      <td>5.0</td>\n",
       "      <td>1</td>\n",
       "    </tr>\n",
       "    <tr>\n",
       "      <th>4</th>\n",
       "      <td>5.0</td>\n",
       "      <td>27.0</td>\n",
       "      <td>9.0</td>\n",
       "      <td>1.0</td>\n",
       "      <td>1.0</td>\n",
       "      <td>14.0</td>\n",
       "      <td>3.0</td>\n",
       "      <td>4.0</td>\n",
       "      <td>1</td>\n",
       "    </tr>\n",
       "  </tbody>\n",
       "</table>\n",
       "</div>"
      ],
      "text/plain": [
       "   rate_marriage   age  yrs_married  children  religious  educ  occupation  \\\n",
       "0            3.0  32.0          9.0       3.0        3.0  17.0         2.0   \n",
       "1            3.0  27.0         13.0       3.0        1.0  14.0         3.0   \n",
       "2            4.0  22.0          2.5       0.0        1.0  16.0         3.0   \n",
       "3            4.0  37.0         16.5       4.0        3.0  16.0         5.0   \n",
       "4            5.0  27.0          9.0       1.0        1.0  14.0         3.0   \n",
       "\n",
       "   occupation_husb  affair  \n",
       "0              5.0       1  \n",
       "1              4.0       1  \n",
       "2              5.0       1  \n",
       "3              5.0       1  \n",
       "4              4.0       1  "
      ]
     },
     "execution_count": 2,
     "metadata": {},
     "output_type": "execute_result"
    }
   ],
   "source": [
    "data = pd.read_csv( 'affair_data.csv' )\n",
    "data.head()"
   ]
  },
  {
   "cell_type": "code",
   "execution_count": 3,
   "metadata": {},
   "outputs": [
    {
     "name": "stdout",
     "output_type": "stream",
     "text": [
      "<class 'pandas.core.frame.DataFrame'>\n",
      "RangeIndex: 6366 entries, 0 to 6365\n",
      "Data columns (total 9 columns):\n",
      "rate_marriage      6366 non-null float64\n",
      "age                6366 non-null float64\n",
      "yrs_married        6366 non-null float64\n",
      "children           6366 non-null float64\n",
      "religious          6366 non-null float64\n",
      "educ               6366 non-null float64\n",
      "occupation         6366 non-null float64\n",
      "occupation_husb    6366 non-null float64\n",
      "affair             6366 non-null int64\n",
      "dtypes: float64(8), int64(1)\n",
      "memory usage: 447.7 KB\n"
     ]
    }
   ],
   "source": [
    "data.info()"
   ]
  },
  {
   "cell_type": "code",
   "execution_count": 4,
   "metadata": {},
   "outputs": [],
   "source": [
    "from sklearn.linear_model import LogisticRegression\n",
    "\n",
    "# импортируем метод для автоматической разбивки на обучающую и тестовую выборки\n",
    "# раньше использовали from sklearn.cross_validation import train_test_split  \n",
    "from sklearn.model_selection import train_test_split"
   ]
  },
  {
   "cell_type": "markdown",
   "metadata": {},
   "source": [
    "Формируем набор признаков и целевую переменную"
   ]
  },
  {
   "cell_type": "code",
   "execution_count": 11,
   "metadata": {},
   "outputs": [],
   "source": [
    "X = pd.get_dummies(data, columns = ['occupation', 'occupation_husb', 'religious'])"
   ]
  },
  {
   "cell_type": "code",
   "execution_count": 13,
   "metadata": {},
   "outputs": [],
   "source": [
    "Y = data['affair']"
   ]
  },
  {
   "cell_type": "code",
   "execution_count": 14,
   "metadata": {},
   "outputs": [],
   "source": [
    "model = LogisticRegression()"
   ]
  },
  {
   "cell_type": "markdown",
   "metadata": {},
   "source": [
    "Разбиваем данные на обучающую и тестовую выборки в соотношении 70 / 30"
   ]
  },
  {
   "cell_type": "code",
   "execution_count": 15,
   "metadata": {},
   "outputs": [],
   "source": [
    "x_train, x_test, y_train, y_test = train_test_split(X, Y, test_size = 0.3, random_state = 0)"
   ]
  },
  {
   "cell_type": "markdown",
   "metadata": {},
   "source": [
    "Обучаем модель"
   ]
  },
  {
   "cell_type": "code",
   "execution_count": 16,
   "metadata": {},
   "outputs": [
    {
     "data": {
      "text/plain": [
       "LogisticRegression(C=1.0, class_weight=None, dual=False, fit_intercept=True,\n",
       "          intercept_scaling=1, max_iter=100, multi_class='ovr', n_jobs=1,\n",
       "          penalty='l2', random_state=None, solver='liblinear', tol=0.0001,\n",
       "          verbose=0, warm_start=False)"
      ]
     },
     "execution_count": 16,
     "metadata": {},
     "output_type": "execute_result"
    }
   ],
   "source": [
    "model.fit(x_train, y_train)"
   ]
  },
  {
   "cell_type": "markdown",
   "metadata": {},
   "source": [
    "Получаем прогнозные значения модели (переменная predictions)"
   ]
  },
  {
   "cell_type": "code",
   "execution_count": 24,
   "metadata": {},
   "outputs": [],
   "source": [
    "predictions = model.predict_proba(x_test)"
   ]
  },
  {
   "cell_type": "code",
   "execution_count": 27,
   "metadata": {},
   "outputs": [],
   "source": [
    "# for line in zip( predictions[:, 1], y_test ):\n",
    "#     print( line )"
   ]
  },
  {
   "cell_type": "code",
   "execution_count": 26,
   "metadata": {},
   "outputs": [
    {
     "data": {
      "text/plain": [
       "0.6769633507853403"
      ]
     },
     "execution_count": 26,
     "metadata": {},
     "output_type": "execute_result"
    }
   ],
   "source": [
    "model.score(x_test, y_test)"
   ]
  },
  {
   "cell_type": "markdown",
   "metadata": {},
   "source": [
    "### Упражнение\n",
    "\n",
    "Постройте набор моделей для значений random_state от 0 до 9. Получите model.score для каждого варианта."
   ]
  },
  {
   "cell_type": "code",
   "execution_count": 30,
   "metadata": {},
   "outputs": [],
   "source": [
    "def get_model_score(random):\n",
    "    x_train, x_test, y_train, y_test = train_test_split(X, Y, test_size = 0.3, random_state = random)\n",
    "    model.fit(x_train, y_train)\n",
    "    predictions = model.predict_proba(x_test)\n",
    "    return model.score(x_test, y_test)\n",
    "    \n"
   ]
  },
  {
   "cell_type": "code",
   "execution_count": 33,
   "metadata": {},
   "outputs": [
    {
     "name": "stdout",
     "output_type": "stream",
     "text": [
      "0 0.6769633507853403\n",
      "1 0.6821989528795811\n",
      "2 0.6675392670157068\n",
      "3 0.6732984293193718\n",
      "4 0.6780104712041884\n",
      "5 0.6890052356020943\n",
      "6 0.6633507853403141\n",
      "7 0.6848167539267016\n",
      "8 0.6722513089005235\n",
      "9 0.6863874345549739\n"
     ]
    }
   ],
   "source": [
    "for random in range(10):\n",
    "    print(random, get_model_score(random))"
   ]
  },
  {
   "cell_type": "markdown",
   "metadata": {},
   "source": [
    "### Оценка качества модели"
   ]
  },
  {
   "cell_type": "markdown",
   "metadata": {},
   "source": [
    "Считаем accuracy последней модели"
   ]
  },
  {
   "cell_type": "code",
   "execution_count": 44,
   "metadata": {},
   "outputs": [
    {
     "name": "stdout",
     "output_type": "stream",
     "text": [
      "true positive = 27, true negative = 1264, false positive = 580, false negative = 39\n"
     ]
    }
   ],
   "source": [
    "tp = 0 # True positive\n",
    "fp = 0 # False positive\n",
    "fn = 0 # False negative\n",
    "tn = 0 # True negative\n",
    "\n",
    "predictions = model.predict_proba( x_test )\n",
    "for predicted_prob, actual in zip( predictions[:, 1], y_test ):\n",
    "    if predicted_prob >= 0.5:\n",
    "        pred = 1\n",
    "    else:\n",
    "        pred = 0\n",
    "    if actual == 1:\n",
    "        if pred == 1:\n",
    "            tp += 1\n",
    "        else:\n",
    "            fp += 1\n",
    "    else:\n",
    "        if pred == 0:\n",
    "            tn += 1\n",
    "        else:\n",
    "            fn += 1\n",
    "print('true positive = {}, true negative = {}, false positive = {}, false negative = {}'.format(tp, tn, fp, fn))"
   ]
  },
  {
   "cell_type": "code",
   "execution_count": 42,
   "metadata": {},
   "outputs": [
    {
     "data": {
      "text/plain": [
       "0.6759162303664922"
      ]
     },
     "execution_count": 42,
     "metadata": {},
     "output_type": "execute_result"
    }
   ],
   "source": [
    "# какая точность получилась?\n",
    "(tp + tn) / (tp + fp + fn + tn)"
   ]
  },
  {
   "cell_type": "code",
   "execution_count": 45,
   "metadata": {},
   "outputs": [
    {
     "data": {
      "text/plain": [
       "0.044481054365733116"
      ]
     },
     "execution_count": 45,
     "metadata": {},
     "output_type": "execute_result"
    }
   ],
   "source": [
    "precision = tp / (tp + fp)\n",
    "precision"
   ]
  },
  {
   "cell_type": "markdown",
   "metadata": {},
   "source": [
    "### Используем готовые библиотеки"
   ]
  },
  {
   "cell_type": "code",
   "execution_count": 46,
   "metadata": {},
   "outputs": [],
   "source": [
    "# метод для построения графика precision-recall\n",
    "from sklearn.metrics import precision_recall_curve"
   ]
  },
  {
   "cell_type": "code",
   "execution_count": 49,
   "metadata": {},
   "outputs": [],
   "source": [
    "pr, re, thres = precision_recall_curve( y_test, predictions[:, 1] )"
   ]
  },
  {
   "cell_type": "code",
   "execution_count": 50,
   "metadata": {},
   "outputs": [
    {
     "name": "stdout",
     "output_type": "stream",
     "text": [
      "(0.3186351706036745, 1.0, 0.08937103449494822)\n",
      "(0.3184445612191277, 0.9983525535420099, 0.09316855534884906)\n",
      "(0.3186119873817035, 0.9983525535420099, 0.09782412748238262)\n",
      "(0.31877958968963704, 0.9983525535420099, 0.10717170662823036)\n",
      "(0.3192834562697576, 0.9983525535420099, 0.1282213485325535)\n",
      "(0.3217900905700586, 0.9950576606260296, 0.13070683347415774)\n",
      "(0.32401934443847397, 0.9934102141680395, 0.13285620542668589)\n",
      "(0.3246753246753247, 0.9884678747940692, 0.13822101799369085)\n",
      "(0.32695462001093495, 0.985172981878089, 0.14382032643825848)\n",
      "(0.3274725274725275, 0.9818780889621087, 0.14476843944120785)\n",
      "(0.327796234772979, 0.9752883031301482, 0.14655735381392698)\n",
      "(0.32998885172798215, 0.9752883031301482, 0.1489227221243326)\n",
      "(0.3301728945900725, 0.9752883031301482, 0.15368465670733594)\n",
      "(0.33035714285714285, 0.9752883031301482, 0.15482047734393728)\n",
      "(0.32997762863534674, 0.9719934102141681, 0.16065914634051887)\n",
      "(0.3301622831561276, 0.9719934102141681, 0.1717710433738942)\n",
      "(0.3303471444568869, 0.9719934102141681, 0.17484727174875153)\n",
      "(0.3321995464852608, 0.9654036243822076, 0.1780519744554075)\n",
      "(0.3333333333333333, 0.9604612850082372, 0.18081795665745626)\n",
      "(0.3340974212034384, 0.9604612850082372, 0.18770027370631664)\n",
      "(0.3344927536231884, 0.9505766062602965, 0.19605826607627627)\n",
      "(0.3358644859813084, 0.9472817133443163, 0.19802493673243032)\n",
      "(0.33548009367681497, 0.943986820428336, 0.20736745843443902)\n",
      "(0.3356848912404468, 0.9406919275123559, 0.2166359169980623)\n",
      "(0.33588235294117647, 0.9406919275123559, 0.21984097403462782)\n",
      "(0.33608490566037735, 0.9390444810543658, 0.21997320670336237)\n",
      "(0.336283185840708, 0.9390444810543658, 0.22779556300477655)\n",
      "(0.3364817001180638, 0.9390444810543658, 0.23006744721873632)\n",
      "(0.34218653489808526, 0.9126853377265239, 0.23313187337399427)\n",
      "(0.3426270136307311, 0.9110378912685337, 0.2334115276010659)\n",
      "(0.34202358783364367, 0.9077429983525536, 0.23399724349350215)\n",
      "(0.34520025429116336, 0.8945634266886326, 0.2373813213247828)\n",
      "(0.3462033462033462, 0.886326194398682, 0.23993728869612693)\n",
      "(0.3462532299741602, 0.8830313014827018, 0.2439822490577962)\n",
      "(0.34672715489306544, 0.8813838550247117, 0.24577064184937056)\n",
      "(0.3533378287255563, 0.8632619439868204, 0.24746407958316502)\n",
      "(0.35385656292286877, 0.8616144975288303, 0.25444041537488143)\n",
      "(0.35550935550935553, 0.8451400329489291, 0.256090077150597)\n",
      "(0.3559440559440559, 0.8385502471169687, 0.25635675319912)\n",
      "(0.3561931420573828, 0.8385502471169687, 0.25772081442663175)\n",
      "(0.3566923615977575, 0.8385502471169687, 0.25864667298473343)\n",
      "(0.3599712023038157, 0.8237232289950577, 0.26004172296543393)\n",
      "(0.3595100864553314, 0.8220757825370676, 0.26226517935992444)\n",
      "(0.3597692862292718, 0.8220757825370676, 0.26239398622780086)\n",
      "(0.3623819898329702, 0.8220757825370676, 0.2636728048187239)\n",
      "(0.3626453488372093, 0.8220757825370676, 0.2695036848432405)\n",
      "(0.36423841059602646, 0.8154859967051071, 0.2712211610879496)\n",
      "(0.36587183308494786, 0.8088962108731467, 0.2964458877795538)\n",
      "(0.36649214659685864, 0.8072487644151565, 0.2979628723012748)\n",
      "(0.36676646706586824, 0.8072487644151565, 0.3009436026987821)\n",
      "(0.3788368336025848, 0.7726523887973641, 0.30356511108485323)\n",
      "(0.3818493150684932, 0.7347611202635914, 0.30457861976012995)\n",
      "(0.384151593453919, 0.7347611202635914, 0.30560350878212683)\n",
      "(0.38349954669084313, 0.6968698517298187, 0.30824771034484627)\n",
      "(0.3869767441860465, 0.685337726523888, 0.30960459941438834)\n",
      "(0.3874296435272045, 0.6803953871499177, 0.31226785192900863)\n",
      "(0.390057361376673, 0.6721581548599671, 0.31947709531951696)\n",
      "(0.3912133891213389, 0.6161449752883031, 0.3221856406488506)\n",
      "(0.38907103825136613, 0.586490939044481, 0.33236315834291186)\n",
      "(0.3927765237020316, 0.5733113673805601, 0.3372748473587511)\n",
      "(0.3962485345838218, 0.556836902800659, 0.34148667591212467)\n",
      "(0.3957597173144876, 0.5535420098846787, 0.3463934255427604)\n",
      "(0.39669421487603307, 0.5535420098846787, 0.34705259069502153)\n",
      "(0.39751552795031053, 0.5271828665568369, 0.3492348480019452)\n",
      "(0.39846743295019155, 0.514003294892916, 0.34987472680670184)\n",
      "(0.40025906735751293, 0.5090609555189456, 0.35185768348755986)\n",
      "(0.4007884362680683, 0.5024711696869851, 0.35426356729239783)\n",
      "(0.40106241699867196, 0.4975288303130148, 0.35466719118057183)\n",
      "(0.4015957446808511, 0.4975288303130148, 0.35857276136146055)\n",
      "(0.40161725067385445, 0.49093904448105435, 0.35861822665315424)\n",
      "(0.40215924426450744, 0.49093904448105435, 0.3597308926490166)\n",
      "(0.401894451962111, 0.48929159802306427, 0.36406909524526804)\n",
      "(0.4041095890410959, 0.48599670510708404, 0.3691717695454217)\n",
      "(0.40392706872370265, 0.4744645799011532, 0.3747356530559419)\n",
      "(0.40479548660084624, 0.4728171334431631, 0.3800014231932547)\n",
      "(0.4103299856527977, 0.471169686985173, 0.38066469900641287)\n",
      "(0.4104803493449782, 0.4645799011532125, 0.38521092145532476)\n",
      "(0.40922619047619047, 0.45304777594728174, 0.385739621193803)\n",
      "(0.411660777385159, 0.38385502471169686, 0.3896693920365466)\n",
      "(0.41354723707664887, 0.38220757825370677, 0.39074630139702343)\n",
      "(0.41929499072356213, 0.3723228995057661, 0.39097817772078136)\n",
      "(0.4297872340425532, 0.33278418451400327, 0.39485334028969815)\n",
      "(0.42948717948717946, 0.3311367380560132, 0.39546046193842466)\n",
      "(0.423841059602649, 0.3163097199341021, 0.3960090165203212)\n",
      "(0.41743119266055045, 0.29983525535420097, 0.39852471339315226)\n",
      "(0.41435185185185186, 0.29489291598023065, 0.4005110469103314)\n",
      "(0.4098360655737705, 0.2883031301482702, 0.4006134924201458)\n",
      "(0.4099526066350711, 0.28500823723228996, 0.40645889165961346)\n",
      "(0.39457831325301207, 0.2158154859967051, 0.4115543169448758)\n",
      "(0.3993174061433447, 0.1927512355848435, 0.43075929907933325)\n",
      "(0.39655172413793105, 0.18945634266886327, 0.43603188292102574)\n",
      "(0.3784860557768924, 0.15650741350906094, 0.43672406849468864)\n",
      "(0.36771300448430494, 0.13509060955518945, 0.4414625734686372)\n",
      "(0.38219895287958117, 0.12026359143327842, 0.441916416624725)\n",
      "(0.3709677419354839, 0.11367380560131796, 0.44496536048501184)\n",
      "(0.375, 0.11367380560131796, 0.44609968631824953)\n",
      "(0.3728813559322034, 0.10873146622734761, 0.45507299210393154)\n",
      "(0.36416184971098264, 0.10378912685337727, 0.4574408040301776)\n",
      "(0.362962962962963, 0.08072487644151564, 0.4664501266502858)\n",
      "(0.3684210526315789, 0.08072487644151564, 0.4833501480434175)\n",
      "(0.34579439252336447, 0.060955518945634266, 0.4883785747996848)\n",
      "(0.37777777777777777, 0.05601317957166392, 0.488859326334033)\n",
      "(0.3974358974358974, 0.051070840197693576, 0.4935543620802529)\n",
      "(0.39705882352941174, 0.044481054365733116, 0.49673501679513093)\n",
      "(0.40298507462686567, 0.044481054365733116, 0.49743857014259346)\n",
      "(0.4090909090909091, 0.044481054365733116, 0.5050019836567863)\n",
      "(0.375, 0.02471169686985173, 0.5069445390048022)\n",
      "(0.38235294117647056, 0.0214168039538715, 0.535278763101061)\n",
      "(0.391304347826087, 0.014827018121911038, 0.5359787678222955)\n",
      "(0.42857142857142855, 0.014827018121911038, 0.540760320286689)\n",
      "(0.2857142857142857, 0.006589785831960461, 0.5454219252227593)\n",
      "(0.3076923076923077, 0.006589785831960461, 0.5567500518983811)\n"
     ]
    }
   ],
   "source": [
    "# посмотрим что получилось\n",
    "for line in zip( pr, re, thres ):\n",
    "    print( line )"
   ]
  },
  {
   "cell_type": "code",
   "execution_count": 51,
   "metadata": {},
   "outputs": [
    {
     "name": "stdout",
     "output_type": "stream",
     "text": [
      "Populating the interactive namespace from numpy and matplotlib\n"
     ]
    },
    {
     "name": "stderr",
     "output_type": "stream",
     "text": [
      "C:\\ProgramData\\Anaconda3\\lib\\site-packages\\IPython\\core\\magics\\pylab.py:160: UserWarning: pylab import has clobbered these variables: ['random']\n",
      "`%matplotlib` prevents importing * from pylab and numpy\n",
      "  \"\\n`%matplotlib` prevents importing * from pylab and numpy\"\n"
     ]
    }
   ],
   "source": [
    "%pylab inline"
   ]
  },
  {
   "cell_type": "code",
   "execution_count": 52,
   "metadata": {},
   "outputs": [
    {
     "data": {
      "text/plain": [
       "[<matplotlib.lines.Line2D at 0xb824f60>]"
      ]
     },
     "execution_count": 52,
     "metadata": {},
     "output_type": "execute_result"
    },
    {
     "data": {
      "image/png": "[encoded data removed]",
      "text/plain": [
       "<matplotlib.figure.Figure at 0xb83a7f0>"
      ]
     },
     "metadata": {},
     "output_type": "display_data"
    }
   ],
   "source": [
    "plt.plot( re, pr )"
   ]
  },
  {
   "cell_type": "code",
   "execution_count": 53,
   "metadata": {},
   "outputs": [],
   "source": [
    "from sklearn.metrics import average_precision_score"
   ]
  },
  {
   "cell_type": "code",
   "execution_count": 55,
   "metadata": {},
   "outputs": [
    {
     "data": {
      "text/plain": [
       "0.384615310362239"
      ]
     },
     "execution_count": 55,
     "metadata": {},
     "output_type": "execute_result"
    }
   ],
   "source": [
    "# площадь под кривой\n",
    "average_precision_score( y_test, predictions[:, 1] )"
   ]
  },
  {
   "cell_type": "markdown",
   "metadata": {},
   "source": [
    "### ROC"
   ]
  },
  {
   "cell_type": "code",
   "execution_count": 56,
   "metadata": {},
   "outputs": [],
   "source": [
    "# посчитаем ROC-кривую (Receiver Operating Characteristic)\n",
    "from sklearn.metrics import roc_curve"
   ]
  },
  {
   "cell_type": "code",
   "execution_count": 59,
   "metadata": {},
   "outputs": [],
   "source": [
    "# получаем значения false и true positive rate для различных значений порога\n",
    "fpr, tpr, thres = roc_curve( y_test, predictions[:, 1] )"
   ]
  },
  {
   "cell_type": "code",
   "execution_count": 60,
   "metadata": {},
   "outputs": [
    {
     "name": "stdout",
     "output_type": "stream",
     "text": [
      "(0.0, 0.0, 1.5567500518983812)\n",
      "(0.006907137375287797, 0.006589785831960461, 0.5567500518983811)\n",
      "(0.007674597083653108, 0.006589785831960461, 0.5454219252227593)\n",
      "(0.00920951650038373, 0.014827018121911038, 0.540760320286689)\n",
      "(0.010744435917114352, 0.014827018121911038, 0.5359787678222955)\n",
      "(0.016116653875671526, 0.0214168039538715, 0.535278763101061)\n",
      "(0.01918649270913277, 0.02471169686985173, 0.5069445390048022)\n",
      "(0.029930928626247123, 0.044481054365733116, 0.5050019836567863)\n",
      "(0.031465848042977744, 0.044481054365733116, 0.49673501679513093)\n",
      "(0.03607060629316961, 0.051070840197693576, 0.4935543620802529)\n",
      "(0.042977743668457406, 0.05601317957166392, 0.488859326334033)\n",
      "(0.05372217958557176, 0.060955518945634266, 0.4883785747996848)\n",
      "(0.0644666155026861, 0.08072487644151564, 0.4833501480434175)\n",
      "(0.06600153491941672, 0.08072487644151564, 0.4664501266502858)\n",
      "(0.0844205679201842, 0.10378912685337727, 0.4574408040301776)\n",
      "(0.0851880276285495, 0.10873146622734761, 0.45507299210393154)\n",
      "(0.08825786646201074, 0.11367380560131796, 0.44609968631824953)\n",
      "(0.08979278587874137, 0.11367380560131796, 0.44496536048501184)\n",
      "(0.09056024558710668, 0.12026359143327842, 0.441916416624725)\n",
      "(0.10821181887950883, 0.13509060955518945, 0.4414625734686372)\n",
      "(0.11972371450498849, 0.15650741350906094, 0.43672406849468864)\n",
      "(0.1343054489639294, 0.18945634266886327, 0.43603188292102574)\n",
      "(0.1350729086722947, 0.1927512355848435, 0.43075929907933325)\n",
      "(0.15425940138142746, 0.2158154859967051, 0.4115543169448758)\n",
      "(0.1910974673829624, 0.28500823723228996, 0.40645889165961346)\n",
      "(0.19339984650805833, 0.2883031301482702, 0.4006134924201458)\n",
      "(0.19416730621642364, 0.29489291598023065, 0.4005110469103314)\n",
      "(0.19493476592478895, 0.29983525535420097, 0.39852471339315226)\n",
      "(0.2003069838833461, 0.3163097199341021, 0.3960090165203212)\n",
      "(0.204911742133538, 0.3311367380560132, 0.39546046193842466)\n",
      "(0.2056792018419033, 0.33278418451400327, 0.39485334028969815)\n",
      "(0.2402148887183423, 0.3723228995057661, 0.39097817772078136)\n",
      "(0.25249424405218723, 0.38220757825370677, 0.39074630139702343)\n",
      "(0.2555640828856485, 0.38385502471169686, 0.3896693920365466)\n",
      "(0.3046815042210284, 0.45304777594728174, 0.385739621193803)\n",
      "(0.3108211818879509, 0.4645799011532125, 0.38521092145532476)\n",
      "(0.31542594013814274, 0.471169686985173, 0.38066469900641287)\n",
      "(0.32386799693016116, 0.4728171334431631, 0.3800014231932547)\n",
      "(0.3261703760552571, 0.4744645799011532, 0.3747356530559419)\n",
      "(0.3338449731389102, 0.48599670510708404, 0.3691717695454217)\n",
      "(0.3392171910974674, 0.48929159802306427, 0.36406909524526804)\n",
      "(0.3399846508058327, 0.49093904448105435, 0.3597308926490166)\n",
      "(0.340752110514198, 0.49093904448105435, 0.35861822665315424)\n",
      "(0.34535686876438987, 0.4975288303130148, 0.35857276136146055)\n",
      "(0.3461243284727552, 0.4975288303130148, 0.35466719118057183)\n",
      "(0.3499616270145817, 0.5024711696869851, 0.35426356729239783)\n",
      "(0.3553338449731389, 0.5090609555189456, 0.35185768348755986)\n",
      "(0.3614735226400614, 0.514003294892916, 0.34987472680670184)\n",
      "(0.37221795855717577, 0.5271828665568369, 0.3492348480019452)\n",
      "(0.39217191097467385, 0.5535420098846787, 0.34705259069502153)\n",
      "(0.39370683039140447, 0.5535420098846787, 0.3463934255427604)\n",
      "(0.3952417498081351, 0.556836902800659, 0.34148667591212467)\n",
      "(0.4128933231005372, 0.5733113673805601, 0.3372748473587511)\n",
      "(0.42900997697620874, 0.586490939044481, 0.33236315834291186)\n",
      "(0.4466615502686109, 0.6161449752883031, 0.3221856406488506)\n",
      "(0.4896392939370683, 0.6721581548599671, 0.31947709531951696)\n",
      "(0.501151189562548, 0.6803953871499177, 0.31226785192900863)\n",
      "(0.5057559478127398, 0.685337726523888, 0.30960459941438834)\n",
      "(0.5218726016884113, 0.6968698517298187, 0.30824771034484627)\n",
      "(0.5487336914811972, 0.7347611202635914, 0.30560350878212683)\n",
      "(0.5541059094397545, 0.7347611202635914, 0.30457861976012995)\n",
      "(0.5901765157329241, 0.7726523887973641, 0.30356511108485323)\n",
      "(0.649270913277053, 0.8072487644151565, 0.3009436026987821)\n",
      "(0.6500383729854182, 0.8072487644151565, 0.2979628723012748)\n",
      "(0.6531082118188795, 0.8088962108731467, 0.2964458877795538)\n",
      "(0.6730621642363775, 0.8220757825370676, 0.2695036848432405)\n",
      "(0.6738296239447429, 0.8220757825370676, 0.2636728048187239)\n",
      "(0.681504221028396, 0.8220757825370676, 0.26239398622780086)\n",
      "(0.6822716807367614, 0.8220757825370676, 0.26226517935992444)\n",
      "(0.6822716807367614, 0.8237232289950577, 0.26004172296543393)\n",
      "(0.7045280122793554, 0.8385502471169687, 0.25864667298473343)\n",
      "(0.7060629316960859, 0.8385502471169687, 0.25772081442663175)\n",
      "(0.7068303914044513, 0.8385502471169687, 0.25635675319912)\n",
      "(0.7137375287797391, 0.8451400329489291, 0.256090077150597)\n",
      "(0.7329240214888718, 0.8616144975288303, 0.25444041537488143)\n",
      "(0.735993860322333, 0.8632619439868204, 0.24746407958316502)\n",
      "(0.7735993860322333, 0.8813838550247117, 0.24577064184937056)\n",
      "(0.7766692248656946, 0.8830313014827018, 0.2439822490577962)\n",
      "(0.7797390636991558, 0.886326194398682, 0.23993728869612693)\n",
      "(0.7904834996162702, 0.8945634266886326, 0.2373813213247828)\n",
      "(0.8135072908672295, 0.9077429983525536, 0.23399724349350215)\n",
      "(0.8142747505755947, 0.9110378912685337, 0.2334115276010659)\n",
      "(0.8173445894090561, 0.9126853377265239, 0.23313187337399427)\n",
      "(0.8626247122026094, 0.9390444810543658, 0.23006744721873632)\n",
      "(0.86415963161934, 0.9390444810543658, 0.21997320670336237)\n",
      "(0.866462010744436, 0.9406919275123559, 0.21984097403462782)\n",
      "(0.8672294704528012, 0.9406919275123559, 0.2166359169980623)\n",
      "(0.8710667689946278, 0.943986820428336, 0.20736745843443902)\n",
      "(0.8726016884113584, 0.9472817133443163, 0.19802493673243032)\n",
      "(0.8810437452033768, 0.9505766062602965, 0.19605826607627627)\n",
      "(0.8917881811204912, 0.9604612850082372, 0.18770027370631664)\n",
      "(0.8948580199539524, 0.9604612850082372, 0.18081795665745626)\n",
      "(0.9040675364543361, 0.9654036243822076, 0.1780519744554075)\n",
      "(0.9178818112049117, 0.9719934102141681, 0.17484727174875153)\n",
      "(0.9194167306216423, 0.9719934102141681, 0.16065914634051887)\n",
      "(0.920951650038373, 0.9752883031301482, 0.15482047734393728)\n",
      "(0.9224865694551037, 0.9752883031301482, 0.1489227221243326)\n",
      "(0.9316960859554874, 0.9752883031301482, 0.14655735381392698)\n",
      "(0.9393706830391404, 0.9818780889621087, 0.14476843944120785)\n",
      "(0.9447429009976976, 0.985172981878089, 0.14382032643825848)\n",
      "(0.9577897160399079, 0.9884678747940692, 0.13822101799369085)\n",
      "(0.965464313123561, 0.9934102141680395, 0.13285620542668589)\n",
      "(0.9769762087490407, 0.9950576606260296, 0.13070683347415774)\n",
      "(0.9915579432079816, 0.9983525535420099, 0.1282213485325535)\n",
      "(0.9938603223330775, 0.9983525535420099, 0.10717170662823036)\n",
      "(0.9953952417498081, 0.9983525535420099, 0.09316855534884906)\n",
      "(0.9961627014581734, 1.0, 0.08937103449494822)\n",
      "(0.9969301611665388, 1.0, 0.08785389798723903)\n",
      "(0.9992325402916347, 1.0, 0.0769104948874275)\n",
      "(1.0, 1.0, 0.05066697573706309)\n"
     ]
    }
   ],
   "source": [
    "for line in zip( fpr, tpr, thres ):\n",
    "    print( line )"
   ]
  },
  {
   "cell_type": "code",
   "execution_count": 61,
   "metadata": {},
   "outputs": [
    {
     "data": {
      "text/plain": [
       "[<matplotlib.lines.Line2D at 0xc613da0>]"
      ]
     },
     "execution_count": 61,
     "metadata": {},
     "output_type": "execute_result"
    },
    {
     "data": {
      "image/png": "[encoded data removed]",
      "text/plain": [
       "<matplotlib.figure.Figure at 0xc5605f8>"
      ]
     },
     "metadata": {},
     "output_type": "display_data"
    }
   ],
   "source": [
    "plt.plot( fpr, tpr )"
   ]
  },
  {
   "cell_type": "markdown",
   "metadata": {},
   "source": [
    "**Построим еще одну модель и сравним их между собой**"
   ]
  },
  {
   "cell_type": "code",
   "execution_count": 66,
   "metadata": {},
   "outputs": [],
   "source": [
    "X = pd.get_dummies(data, columns = ['occupation', 'occupation_husb', 'religious'])"
   ]
  },
  {
   "cell_type": "code",
   "execution_count": 67,
   "metadata": {},
   "outputs": [
    {
     "data": {
      "text/html": [
       "<div>\n",
       "<style scoped>\n",
       "    .dataframe tbody tr th:only-of-type {\n",
       "        vertical-align: middle;\n",
       "    }\n",
       "\n",
       "    .dataframe tbody tr th {\n",
       "        vertical-align: top;\n",
       "    }\n",
       "\n",
       "    .dataframe thead th {\n",
       "        text-align: right;\n",
       "    }\n",
       "</style>\n",
       "<table border=\"1\" class=\"dataframe\">\n",
       "  <thead>\n",
       "    <tr style=\"text-align: right;\">\n",
       "      <th></th>\n",
       "      <th>age</th>\n",
       "      <th>children</th>\n",
       "    </tr>\n",
       "  </thead>\n",
       "  <tbody>\n",
       "    <tr>\n",
       "      <th>0</th>\n",
       "      <td>32.0</td>\n",
       "      <td>3.0</td>\n",
       "    </tr>\n",
       "    <tr>\n",
       "      <th>1</th>\n",
       "      <td>27.0</td>\n",
       "      <td>3.0</td>\n",
       "    </tr>\n",
       "    <tr>\n",
       "      <th>2</th>\n",
       "      <td>22.0</td>\n",
       "      <td>0.0</td>\n",
       "    </tr>\n",
       "    <tr>\n",
       "      <th>3</th>\n",
       "      <td>37.0</td>\n",
       "      <td>4.0</td>\n",
       "    </tr>\n",
       "    <tr>\n",
       "      <th>4</th>\n",
       "      <td>27.0</td>\n",
       "      <td>1.0</td>\n",
       "    </tr>\n",
       "  </tbody>\n",
       "</table>\n",
       "</div>"
      ],
      "text/plain": [
       "    age  children\n",
       "0  32.0       3.0\n",
       "1  27.0       3.0\n",
       "2  22.0       0.0\n",
       "3  37.0       4.0\n",
       "4  27.0       1.0"
      ]
     },
     "execution_count": 67,
     "metadata": {},
     "output_type": "execute_result"
    }
   ],
   "source": [
    "Xshort = X.loc[ :, ['age', 'children'] ]\n",
    "Xshort.head()"
   ]
  },
  {
   "cell_type": "code",
   "execution_count": 68,
   "metadata": {},
   "outputs": [],
   "source": [
    "model2 = LogisticRegression()"
   ]
  },
  {
   "cell_type": "code",
   "execution_count": 69,
   "metadata": {},
   "outputs": [],
   "source": [
    "X_train_short, X_test_short, Y_train, Y_test = train_test_split( Xshort, Y, test_size = 0.3, random_state = 0 )"
   ]
  },
  {
   "cell_type": "code",
   "execution_count": 70,
   "metadata": {},
   "outputs": [
    {
     "data": {
      "text/plain": [
       "LogisticRegression(C=1.0, class_weight=None, dual=False, fit_intercept=True,\n",
       "          intercept_scaling=1, max_iter=100, multi_class='ovr', n_jobs=1,\n",
       "          penalty='l2', random_state=None, solver='liblinear', tol=0.0001,\n",
       "          verbose=0, warm_start=False)"
      ]
     },
     "execution_count": 70,
     "metadata": {},
     "output_type": "execute_result"
    }
   ],
   "source": [
    "model2.fit( X_train_short, Y_train )"
   ]
  },
  {
   "cell_type": "code",
   "execution_count": 71,
   "metadata": {},
   "outputs": [],
   "source": [
    "predictions2 = model2.predict_proba( X_test_short )"
   ]
  },
  {
   "cell_type": "code",
   "execution_count": 72,
   "metadata": {},
   "outputs": [],
   "source": [
    "fpr2, tpr2, thres2 = roc_curve( Y_test, predictions2[:, 1] )"
   ]
  },
  {
   "cell_type": "code",
   "execution_count": 73,
   "metadata": {},
   "outputs": [
    {
     "data": {
      "image/png": "[encoded data removed]",
      "text/plain": [
       "<matplotlib.figure.Figure at 0xc648c88>"
      ]
     },
     "metadata": {},
     "output_type": "display_data"
    }
   ],
   "source": [
    "plt.plot( fpr, tpr, label = 'All columns' )\n",
    "plt.plot( fpr2, tpr2, label = 'Age & children' )\n",
    "\n",
    "plt.xlabel('False Positive Rate')\n",
    "plt.ylabel('True Positive Rate')\n",
    "\n",
    "plt.legend( loc = 0 )\n",
    "plt.show()"
   ]
  },
  {
   "cell_type": "markdown",
   "metadata": {},
   "source": [
    "**Посчитаем площадь под ROC-кривой для двух моделей**"
   ]
  },
  {
   "cell_type": "code",
   "execution_count": 74,
   "metadata": {},
   "outputs": [],
   "source": [
    "from sklearn.metrics import roc_auc_score"
   ]
  },
  {
   "cell_type": "code",
   "execution_count": 77,
   "metadata": {},
   "outputs": [
    {
     "data": {
      "text/plain": [
       "0.6105021866912119"
      ]
     },
     "execution_count": 77,
     "metadata": {},
     "output_type": "execute_result"
    }
   ],
   "source": [
    "roc_auc_score( y_test, predictions[:, 1] )"
   ]
  },
  {
   "cell_type": "code",
   "execution_count": 78,
   "metadata": {},
   "outputs": [
    {
     "data": {
      "text/plain": [
       "0.6311452091928271"
      ]
     },
     "execution_count": 78,
     "metadata": {},
     "output_type": "execute_result"
    }
   ],
   "source": [
    "roc_auc_score( y_test, predictions2[:, 1] )"
   ]
  },
  {
   "cell_type": "markdown",
   "metadata": {},
   "source": [
    "Можно посчитать с помощью более общего метода auc\n",
    "\n",
    "Про разницу между ними https://stackoverflow.com/questions/31159157/different-result-with-roc-auc-score-and-auc"
   ]
  },
  {
   "cell_type": "code",
   "execution_count": 79,
   "metadata": {},
   "outputs": [],
   "source": [
    "from sklearn.metrics import auc"
   ]
  },
  {
   "cell_type": "code",
   "execution_count": 80,
   "metadata": {},
   "outputs": [
    {
     "data": {
      "text/plain": [
       "0.6105021866912119"
      ]
     },
     "execution_count": 80,
     "metadata": {},
     "output_type": "execute_result"
    }
   ],
   "source": [
    "auc( fpr, tpr )"
   ]
  },
  {
   "cell_type": "code",
   "execution_count": 81,
   "metadata": {},
   "outputs": [
    {
     "data": {
      "text/plain": [
       "0.6311452091928271"
      ]
     },
     "execution_count": 81,
     "metadata": {},
     "output_type": "execute_result"
    }
   ],
   "source": [
    "auc( fpr2, tpr2 )"
   ]
  },
  {
   "cell_type": "markdown",
   "metadata": {},
   "source": [
    "## Пример влияния L1 и L2-регуляризации"
   ]
  },
  {
   "cell_type": "code",
   "execution_count": 84,
   "metadata": {},
   "outputs": [],
   "source": [
    "model1 = LogisticRegression( penalty = 'l1', C = 0.01 ).fit( x_train, y_train )\n",
    "predictions = model1.predict_proba( x_test )"
   ]
  },
  {
   "cell_type": "code",
   "execution_count": 86,
   "metadata": {},
   "outputs": [],
   "source": [
    "model2 = LogisticRegression( penalty = 'l2', C = 0.01 ).fit( x_train, y_train )\n",
    "predictions2 = model2.predict_proba( x_test )"
   ]
  },
  {
   "cell_type": "code",
   "execution_count": 85,
   "metadata": {},
   "outputs": [],
   "source": [
    "model3 = LogisticRegression( penalty = 'l1', C = 0.001 ).fit( x_train, y_train )\n",
    "predictions3 = model3.predict_proba( x_test )"
   ]
  },
  {
   "cell_type": "code",
   "execution_count": 88,
   "metadata": {},
   "outputs": [],
   "source": [
    "fpr, tpr, thres = roc_curve( Y_test, predictions[:, 1] )\n",
    "fpr2, tpr2, thres2 = roc_curve( Y_test, predictions2[:, 1] )\n",
    "fpr3, tpr3, thres3 = roc_curve( Y_test, predictions3[:, 1] )"
   ]
  },
  {
   "cell_type": "code",
   "execution_count": 89,
   "metadata": {},
   "outputs": [
    {
     "data": {
      "image/png": "[encoded data removed]",
      "text/plain": [
       "<matplotlib.figure.Figure at 0xc6e8b00>"
      ]
     },
     "metadata": {},
     "output_type": "display_data"
    }
   ],
   "source": [
    "plt.plot( fpr, tpr, label = 'l1' )\n",
    "plt.plot( fpr2, tpr2, label = 'l2' )\n",
    "plt.plot( fpr3, tpr3, label = 'C=1' )\n",
    "\n",
    "plt.xlabel('False Positive Rate')\n",
    "plt.ylabel('True Positive Rate')\n",
    "\n",
    "plt.legend( loc = 0 )\n",
    "plt.show()"
   ]
  },
  {
   "cell_type": "markdown",
   "metadata": {},
   "source": [
    "**Построим еще одну модель, используя другие признаки**"
   ]
  },
  {
   "cell_type": "code",
   "execution_count": 90,
   "metadata": {},
   "outputs": [
    {
     "data": {
      "text/html": [
       "<div>\n",
       "<style scoped>\n",
       "    .dataframe tbody tr th:only-of-type {\n",
       "        vertical-align: middle;\n",
       "    }\n",
       "\n",
       "    .dataframe tbody tr th {\n",
       "        vertical-align: top;\n",
       "    }\n",
       "\n",
       "    .dataframe thead th {\n",
       "        text-align: right;\n",
       "    }\n",
       "</style>\n",
       "<table border=\"1\" class=\"dataframe\">\n",
       "  <thead>\n",
       "    <tr style=\"text-align: right;\">\n",
       "      <th></th>\n",
       "      <th>age_17.5</th>\n",
       "      <th>age_22.0</th>\n",
       "      <th>age_27.0</th>\n",
       "      <th>age_32.0</th>\n",
       "      <th>age_37.0</th>\n",
       "      <th>age_42.0</th>\n",
       "      <th>children_0.0</th>\n",
       "      <th>children_1.0</th>\n",
       "      <th>children_2.0</th>\n",
       "      <th>children_3.0</th>\n",
       "      <th>children_4.0</th>\n",
       "      <th>children_5.5</th>\n",
       "    </tr>\n",
       "  </thead>\n",
       "  <tbody>\n",
       "    <tr>\n",
       "      <th>0</th>\n",
       "      <td>0</td>\n",
       "      <td>0</td>\n",
       "      <td>0</td>\n",
       "      <td>1</td>\n",
       "      <td>0</td>\n",
       "      <td>0</td>\n",
       "      <td>0</td>\n",
       "      <td>0</td>\n",
       "      <td>0</td>\n",
       "      <td>1</td>\n",
       "      <td>0</td>\n",
       "      <td>0</td>\n",
       "    </tr>\n",
       "    <tr>\n",
       "      <th>1</th>\n",
       "      <td>0</td>\n",
       "      <td>0</td>\n",
       "      <td>1</td>\n",
       "      <td>0</td>\n",
       "      <td>0</td>\n",
       "      <td>0</td>\n",
       "      <td>0</td>\n",
       "      <td>0</td>\n",
       "      <td>0</td>\n",
       "      <td>1</td>\n",
       "      <td>0</td>\n",
       "      <td>0</td>\n",
       "    </tr>\n",
       "    <tr>\n",
       "      <th>2</th>\n",
       "      <td>0</td>\n",
       "      <td>1</td>\n",
       "      <td>0</td>\n",
       "      <td>0</td>\n",
       "      <td>0</td>\n",
       "      <td>0</td>\n",
       "      <td>1</td>\n",
       "      <td>0</td>\n",
       "      <td>0</td>\n",
       "      <td>0</td>\n",
       "      <td>0</td>\n",
       "      <td>0</td>\n",
       "    </tr>\n",
       "    <tr>\n",
       "      <th>3</th>\n",
       "      <td>0</td>\n",
       "      <td>0</td>\n",
       "      <td>0</td>\n",
       "      <td>0</td>\n",
       "      <td>1</td>\n",
       "      <td>0</td>\n",
       "      <td>0</td>\n",
       "      <td>0</td>\n",
       "      <td>0</td>\n",
       "      <td>0</td>\n",
       "      <td>1</td>\n",
       "      <td>0</td>\n",
       "    </tr>\n",
       "    <tr>\n",
       "      <th>4</th>\n",
       "      <td>0</td>\n",
       "      <td>0</td>\n",
       "      <td>1</td>\n",
       "      <td>0</td>\n",
       "      <td>0</td>\n",
       "      <td>0</td>\n",
       "      <td>0</td>\n",
       "      <td>1</td>\n",
       "      <td>0</td>\n",
       "      <td>0</td>\n",
       "      <td>0</td>\n",
       "      <td>0</td>\n",
       "    </tr>\n",
       "  </tbody>\n",
       "</table>\n",
       "</div>"
      ],
      "text/plain": [
       "   age_17.5  age_22.0  age_27.0  age_32.0  age_37.0  age_42.0  children_0.0  \\\n",
       "0         0         0         0         1         0         0             0   \n",
       "1         0         0         1         0         0         0             0   \n",
       "2         0         1         0         0         0         0             1   \n",
       "3         0         0         0         0         1         0             0   \n",
       "4         0         0         1         0         0         0             0   \n",
       "\n",
       "   children_1.0  children_2.0  children_3.0  children_4.0  children_5.5  \n",
       "0             0             0             1             0             0  \n",
       "1             0             0             1             0             0  \n",
       "2             0             0             0             0             0  \n",
       "3             0             0             0             1             0  \n",
       "4             1             0             0             0             0  "
      ]
     },
     "execution_count": 90,
     "metadata": {},
     "output_type": "execute_result"
    }
   ],
   "source": [
    "Xshort = pd.get_dummies( data.loc[ :, ['age', 'children'] ], columns = ['age', 'children'] )\n",
    "Xshort.head()"
   ]
  },
  {
   "cell_type": "code",
   "execution_count": 91,
   "metadata": {},
   "outputs": [],
   "source": [
    "Y = data['affair']"
   ]
  },
  {
   "cell_type": "code",
   "execution_count": 92,
   "metadata": {},
   "outputs": [],
   "source": [
    "X_train, X_test, Y_train, Y_test = train_test_split( Xshort, Y, test_size = 0.3, random_state = 0 )"
   ]
  },
  {
   "cell_type": "code",
   "execution_count": 93,
   "metadata": {},
   "outputs": [],
   "source": [
    "model1 = LogisticRegression( penalty = 'l1', C = 0.01 ).fit( X_train, Y_train )\n",
    "model2 = LogisticRegression( penalty = 'l2', C = 0.01 ).fit( X_train, Y_train )\n",
    "model3 = LogisticRegression( penalty = 'l2', C = 1 ).fit( X_train, Y_train )"
   ]
  },
  {
   "cell_type": "code",
   "execution_count": 94,
   "metadata": {},
   "outputs": [],
   "source": [
    "predictions = model1.predict_proba( X_test )\n",
    "predictions2 = model2.predict_proba( X_test )\n",
    "predictions3 = model3.predict_proba( X_test )"
   ]
  },
  {
   "cell_type": "code",
   "execution_count": 95,
   "metadata": {},
   "outputs": [],
   "source": [
    "fpr, tpr, thres = roc_curve( Y_test, predictions[:, 1] )\n",
    "fpr2, tpr2, thres2 = roc_curve( Y_test, predictions2[:, 1] )\n",
    "fpr3, tpr3, thres3 = roc_curve( Y_test, predictions3[:, 1] )"
   ]
  },
  {
   "cell_type": "code",
   "execution_count": 96,
   "metadata": {},
   "outputs": [
    {
     "data": {
      "image/png": "[encoded data removed]",
      "text/plain": [
       "<matplotlib.figure.Figure at 0xc6f6f28>"
      ]
     },
     "metadata": {},
     "output_type": "display_data"
    }
   ],
   "source": [
    "plt.plot( fpr, tpr, label = 'l1' )\n",
    "plt.plot( fpr2, tpr2, label = 'l2' )\n",
    "plt.plot( fpr3, tpr3, label = 'C=1' )\n",
    "\n",
    "plt.xlabel('False Positive Rate')\n",
    "plt.ylabel('True Positive Rate')\n",
    "\n",
    "plt.legend( loc = 0 )\n",
    "plt.show()"
   ]
  },
  {
   "cell_type": "code",
   "execution_count": null,
   "metadata": {},
   "outputs": [],
   "source": []
  }
 ],
 "metadata": {
  "kernelspec": {
   "display_name": "Python 3",
   "language": "python",
   "name": "python3"
  },
  "language_info": {
   "codemirror_mode": {
    "name": "ipython",
    "version": 3
   },
   "file_extension": ".py",
   "mimetype": "text/x-python",
   "name": "python",
   "nbconvert_exporter": "python",
   "pygments_lexer": "ipython3",
   "version": "3.6.4"
  }
 },
 "nbformat": 4,
 "nbformat_minor": 2
}
