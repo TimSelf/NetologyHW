{
 "cells": [
  {
   "cell_type": "markdown",
   "metadata": {},
   "source": [
    "# Построение первой модели. Линейная регрессия"
   ]
  },
  {
   "cell_type": "markdown",
   "metadata": {},
   "source": [
    "## Краткое описание:\n",
    "Пытался провести анализ всех features из dataset'a. Анализировал с помощью описания данных, value_counts, визуализации. Графики не сохранял, но можно посмотреть ниже, чем в целом пользовался. Часть данных выкинул, большую часть переписал. Добавил вместо некоторых фич свои, созданные из удаленных. Большинство категориальных признаков переведены в наборы бинарных.\n",
    "Обучение делал вначале на части выборки, на отложенной выборке провел анализ результатов, посчитал некоторые метрики. Визуализация приведена.\n",
    "Итоговое обучение построено на полной выборке, результаты загружены на kaggle.\n",
    "\n",
    "Это первый опыт работы. Столкнулся с ошибкой \"выброса\" на одной из строк - предсказание получалось на 15 порядков больше, не понял как с этим бороться и просто заменил строку на другую. Наверное, что то с матрицей и сильной корреляцией величин. Пока не умею с этим работать.\n"
   ]
  },
  {
   "cell_type": "code",
   "execution_count": 2,
   "metadata": {},
   "outputs": [],
   "source": [
    "from matplotlib import pyplot as plt\n",
    "%matplotlib inline\n",
    "import seaborn as sns\n",
    "\n",
    "%config InlineBackend.figure_format = 'retina'\n",
    "from pylab import rcParams\n",
    "rcParams['figure.figsize'] = (9, 6)\n",
    "import numpy as np\n",
    "import pandas as pd\n",
    "import seaborn as sns"
   ]
  },
  {
   "cell_type": "markdown",
   "metadata": {},
   "source": [
    "Чтение данных, запись данных для визуализации (чтобы не искажать исходные)"
   ]
  },
  {
   "cell_type": "code",
   "execution_count": 100,
   "metadata": {},
   "outputs": [],
   "source": [
    "# s_s = pd.read_csv('sample_submission.csv')\n",
    "train = pd.read_csv('train.csv')\n",
    "test = pd.read_csv('test.csv')\n",
    "for_visual = pd.read_csv('train.csv')"
   ]
  },
  {
   "cell_type": "code",
   "execution_count": 4,
   "metadata": {},
   "outputs": [],
   "source": [
    "# запись вектора решений\n",
    "y_train = train.SalePrice\n",
    "train.drop('SalePrice', axis=1, inplace=True)"
   ]
  },
  {
   "cell_type": "code",
   "execution_count": 5,
   "metadata": {},
   "outputs": [],
   "source": [
    "train['is_test'] = 0\n",
    "test['is_test'] = 1"
   ]
  },
  {
   "cell_type": "code",
   "execution_count": 6,
   "metadata": {},
   "outputs": [],
   "source": [
    "# объединение матриц\n",
    "train = pd.concat([train, test])"
   ]
  },
  {
   "cell_type": "code",
   "execution_count": 7,
   "metadata": {},
   "outputs": [],
   "source": [
    "'''удаляем 'лишние' столбцы'''\n",
    "train.drop( ['Id', 'Alley', 'LandContour', 'Utilities', 'LotConfig', 'LandSlope', 'RoofStyle', 'RoofMatl', 'Exterior1st', \n",
    "          'Exterior2nd', 'Condition2', 'BsmtFinSF2', 'BsmtFinType1', 'BsmtFinSF1', 'BsmtFinType2','BsmtUnfSF', 'LowQualFinSF',\n",
    "          'GrLivArea', 'Functional', 'GarageType', 'GarageYrBlt', 'GarageFinish', 'GarageCars', 'GarageQual', 'GarageCond',\n",
    "          'PoolQC', 'Fence', 'MiscFeature', 'MiscVal', 'Street'], axis=1, inplace = True)\n"
   ]
  },
  {
   "cell_type": "code",
   "execution_count": 8,
   "metadata": {},
   "outputs": [],
   "source": [
    "'''создаем новый параметр умножением состояния на качество материалов'''\n",
    "train.OverallQual = train.OverallCond * train.OverallQual\n",
    "train.drop('OverallCond', axis=1, inplace = True)"
   ]
  },
  {
   "cell_type": "code",
   "execution_count": 9,
   "metadata": {},
   "outputs": [],
   "source": [
    "'''переводим состояние и качество фасада в int и создаем на основе новый параметр'''\n",
    "train.ExterCond = train.ExterCond.replace(to_replace=['Ex', 'Gd', 'TA', 'Fa', 'Po' ], value=[5, 4, 2, 1, 0])\n",
    "train.ExterQual = train.ExterQual.replace(to_replace=['Ex', 'Gd', 'TA', 'Fa', 'Po' ], value=[5, 4, 2, 1, 0])\n",
    "train.ExterQual = train.ExterCond * train.ExterQual\n",
    "train.drop('ExterCond', axis=1, inplace = True)\n"
   ]
  },
  {
   "cell_type": "code",
   "execution_count": 10,
   "metadata": {},
   "outputs": [],
   "source": [
    "'''переводим наличие ремонта в булеву переменную'''\n",
    "train['IsRemod'] = train.apply(lambda row: row['YearBuilt'] - row['YearRemodAdd'] < 0, axis = 1)\n",
    "train.drop('YearRemodAdd', axis=1, inplace = True)\n"
   ]
  },
  {
   "cell_type": "code",
   "execution_count": 11,
   "metadata": {},
   "outputs": [],
   "source": [
    "'''переводим год постройки в возраст дома'''\n",
    "train.YearBuilt = 2010 - train.YearBuilt"
   ]
  },
  {
   "cell_type": "code",
   "execution_count": 12,
   "metadata": {},
   "outputs": [],
   "source": [
    "'''заполняем пропуски'''\n",
    "train.MasVnrType = train.MasVnrType.fillna('None')\n",
    "train.BsmtQual = train.BsmtQual.fillna('Po')\n",
    "train.BsmtCond = train.BsmtCond.fillna('Po')\n",
    "train.Electrical = train.Electrical.fillna('SBrkr')"
   ]
  },
  {
   "cell_type": "code",
   "execution_count": 13,
   "metadata": {},
   "outputs": [],
   "source": [
    "'''переводим состояние и качество фасада в int и создаем на основе новый параметр'''\n",
    "train.BsmtCond = train.BsmtCond.replace(to_replace=['Ex', 'Gd', 'TA', 'Fa', 'Po' ], value=[5, 4, 2, 1, 0])\n",
    "train.BsmtQual = train.BsmtQual.replace(to_replace=['Ex', 'Gd', 'TA', 'Fa', 'Po' ], value=[5, 4, 2, 1, 0])\n",
    "train.BsmtQual = train.BsmtQual * train.BsmtCond\n",
    "train.drop('BsmtCond', axis=1, inplace = True)"
   ]
  },
  {
   "cell_type": "code",
   "execution_count": 14,
   "metadata": {},
   "outputs": [],
   "source": [
    "'''наличие кондиционера - 1/0'''\n",
    "train.CentralAir = train.CentralAir.replace(to_replace=['Y', 'N'], value = [1, 0])"
   ]
  },
  {
   "cell_type": "code",
   "execution_count": 15,
   "metadata": {},
   "outputs": [],
   "source": [
    "'''заменяем значения в качестве отопления и в других столбцах'''\n",
    "train.HeatingQC = train.HeatingQC.replace(to_replace=['Ex', 'Gd', 'TA', 'Fa', 'Po' ], value=[5, 4, 2, 1, 0])\n",
    "train.KitchenQual = train.KitchenQual.replace(to_replace=['Ex', 'Gd', 'TA', 'Fa', 'Po' ], value=[5, 4, 2, 1, 0])\n",
    "train.FireplaceQu.fillna('TA')\n",
    "train.FireplaceQu = train.FireplaceQu.replace(to_replace=['Ex', 'Gd', 'TA', 'Fa', 'Po' ], value=[7, 4, 2, 1, 0])\n",
    "train.Fireplaces = train.Fireplaces * train.FireplaceQu\n",
    "train.drop('FireplaceQu', axis=1, inplace = True)"
   ]
  },
  {
   "cell_type": "code",
   "execution_count": 16,
   "metadata": {},
   "outputs": [],
   "source": [
    "'''длительность продажи'''\n",
    "train['duration'] = (2010 - train.YrSold)"
   ]
  },
  {
   "cell_type": "code",
   "execution_count": 17,
   "metadata": {},
   "outputs": [],
   "source": [
    "'''заполняем пропуски'''\n",
    "train.LotFrontage = train.LotFrontage.fillna(0)\n",
    "train.MasVnrArea = train.MasVnrArea.fillna(0)\n",
    "train.BsmtExposure = train.BsmtExposure.fillna('No')\n",
    "train.Fireplaces = train.Fireplaces.fillna(0)\n",
    "train.BsmtFullBath = train.BsmtFullBath.fillna(0)\n",
    "train.GarageArea = train.GarageArea.fillna(0)\n",
    "train.KitchenQual = train.KitchenQual.fillna(0)\n",
    "train.MSZoning = train.MSZoning.fillna('RL')\n",
    "train.SaleType = train.SaleType.fillna('WD')\n",
    "train.TotalBsmtSF = train.TotalBsmtSF.fillna(0)\n",
    "train.BsmtHalfBath = train.BsmtHalfBath.fillna(0)\n"
   ]
  },
  {
   "cell_type": "code",
   "execution_count": 18,
   "metadata": {},
   "outputs": [],
   "source": [
    "'''форма здания: стандартная/не стандартная'''\n",
    "train['Shape'] = train.apply(lambda x: x['LotShape'] != 'Reg', axis = 1)\n",
    "train.drop('LotShape', axis=1, inplace = True)"
   ]
  },
  {
   "cell_type": "code",
   "execution_count": 19,
   "metadata": {},
   "outputs": [],
   "source": [
    "'''переводим категориальные признаки'''\n",
    "df_dummies = pd.get_dummies(train, columns=['MSSubClass', 'MSZoning', 'Neighborhood', 'Condition1', \n",
    "                                            'BldgType', 'HouseStyle', 'MasVnrType', 'Foundation', \n",
    "                                            'BsmtExposure', 'Heating', 'Electrical', 'PavedDrive',\n",
    "                                            'SaleType', 'SaleCondition'])"
   ]
  },
  {
   "cell_type": "code",
   "execution_count": 22,
   "metadata": {},
   "outputs": [
    {
     "name": "stdout",
     "output_type": "stream",
     "text": [
      "<class 'pandas.core.frame.DataFrame'>\n",
      "Int64Index: 2919 entries, 0 to 1458\n",
      "Columns: 145 entries, LotFrontage to SaleCondition_Partial\n",
      "dtypes: bool(2), float64(8), int64(24), uint8(111)\n",
      "memory usage: 1.0 MB\n"
     ]
    }
   ],
   "source": [
    "df_dummies.info()"
   ]
  },
  {
   "cell_type": "markdown",
   "metadata": {},
   "source": [
    "Такими графиками пытался оценить фичи и их влияние"
   ]
  },
  {
   "cell_type": "code",
   "execution_count": 101,
   "metadata": {},
   "outputs": [
    {
     "data": {
      "text/plain": [
       "<matplotlib.axes._subplots.AxesSubplot at 0xd86bf60>"
      ]
     },
     "execution_count": 101,
     "metadata": {},
     "output_type": "execute_result"
    },
    {
     "data": {
      "image/png": "[encoded data removed]",
      "text/plain": [
       "<matplotlib.figure.Figure at 0xd863080>"
      ]
     },
     "metadata": {
      "image/png": {
       "height": 263,
       "width": 410
      }
     },
     "output_type": "display_data"
    }
   ],
   "source": [
    "sns.boxplot(x=\"SaleCondition\", y=\"SalePrice\", \n",
    "            data=for_visual)"
   ]
  },
  {
   "cell_type": "code",
   "execution_count": 102,
   "metadata": {},
   "outputs": [
    {
     "data": {
      "text/plain": [
       "[<matplotlib.lines.Line2D at 0xdd8e9b0>]"
      ]
     },
     "execution_count": 102,
     "metadata": {},
     "output_type": "execute_result"
    },
    {
     "data": {
      "image/png": "[encoded data removed]",
      "text/plain": [
       "<matplotlib.figure.Figure at 0x8218048>"
      ]
     },
     "metadata": {
      "image/png": {
       "height": 250,
       "width": 396
      }
     },
     "output_type": "display_data"
    }
   ],
   "source": [
    "plt.plot(for_visual['LotArea'], train['SalePrice'], 'bo')"
   ]
  },
  {
   "cell_type": "markdown",
   "metadata": {},
   "source": [
    "Разбиваем на train и test обратно"
   ]
  },
  {
   "cell_type": "code",
   "execution_count": 23,
   "metadata": {},
   "outputs": [],
   "source": [
    "X_train = df_dummies[df_dummies.is_test==0].drop('is_test', axis=1)\n",
    "X_test = df_dummies[df_dummies.is_test==1].drop('is_test', axis=1)"
   ]
  },
  {
   "cell_type": "markdown",
   "metadata": {},
   "source": [
    "## Нормировка значений"
   ]
  },
  {
   "cell_type": "code",
   "execution_count": 24,
   "metadata": {},
   "outputs": [],
   "source": [
    "from sklearn.preprocessing import StandardScaler"
   ]
  },
  {
   "cell_type": "code",
   "execution_count": 25,
   "metadata": {},
   "outputs": [
    {
     "data": {
      "text/plain": [
       "(1460, 144)"
      ]
     },
     "execution_count": 25,
     "metadata": {},
     "output_type": "execute_result"
    }
   ],
   "source": [
    "X_train.shape"
   ]
  },
  {
   "cell_type": "code",
   "execution_count": 26,
   "metadata": {},
   "outputs": [],
   "source": [
    "scaler = StandardScaler()"
   ]
  },
  {
   "cell_type": "code",
   "execution_count": 27,
   "metadata": {},
   "outputs": [
    {
     "data": {
      "text/plain": [
       "StandardScaler(copy=True, with_mean=True, with_std=True)"
      ]
     },
     "execution_count": 27,
     "metadata": {},
     "output_type": "execute_result"
    }
   ],
   "source": [
    "scaler.fit(X_train)"
   ]
  },
  {
   "cell_type": "code",
   "execution_count": 28,
   "metadata": {},
   "outputs": [],
   "source": [
    "columns = X_train.columns"
   ]
  },
  {
   "cell_type": "code",
   "execution_count": 29,
   "metadata": {},
   "outputs": [],
   "source": [
    "X_train_scaled = scaler.transform(X_train)\n",
    "X_train_scaled = pd.DataFrame(X_train_scaled, columns=columns)"
   ]
  },
  {
   "cell_type": "code",
   "execution_count": 32,
   "metadata": {},
   "outputs": [],
   "source": [
    "X_test_scaled = scaler.transform(X_test)\n",
    "X_test_scaled = pd.DataFrame(X_test_scaled, columns=columns)"
   ]
  },
  {
   "cell_type": "markdown",
   "metadata": {},
   "source": [
    "## Выделение отложенной выборки"
   ]
  },
  {
   "cell_type": "code",
   "execution_count": 33,
   "metadata": {},
   "outputs": [],
   "source": [
    "from sklearn.model_selection import train_test_split"
   ]
  },
  {
   "cell_type": "code",
   "execution_count": 34,
   "metadata": {},
   "outputs": [],
   "source": [
    "X_train_fin, X_val, y_train_fin, y_val = train_test_split(X_train_scaled, y_train, test_size=0.2)"
   ]
  },
  {
   "cell_type": "markdown",
   "metadata": {},
   "source": [
    "## Предсказание на выборке 0.8"
   ]
  },
  {
   "cell_type": "code",
   "execution_count": 40,
   "metadata": {},
   "outputs": [],
   "source": [
    "from sklearn.linear_model import LinearRegression"
   ]
  },
  {
   "cell_type": "code",
   "execution_count": 41,
   "metadata": {},
   "outputs": [],
   "source": [
    "lr = LinearRegression()"
   ]
  },
  {
   "cell_type": "code",
   "execution_count": 42,
   "metadata": {},
   "outputs": [
    {
     "data": {
      "text/plain": [
       "LinearRegression(copy_X=True, fit_intercept=True, n_jobs=1, normalize=False)"
      ]
     },
     "execution_count": 42,
     "metadata": {},
     "output_type": "execute_result"
    }
   ],
   "source": [
    "lr.fit(X_train_fin, y_train_fin)"
   ]
  },
  {
   "cell_type": "code",
   "execution_count": 43,
   "metadata": {},
   "outputs": [],
   "source": [
    "y_pred_val = lr.predict(X_val)"
   ]
  },
  {
   "cell_type": "code",
   "execution_count": 44,
   "metadata": {},
   "outputs": [
    {
     "data": {
      "text/plain": [
       "[<matplotlib.lines.Line2D at 0xc7d04e0>]"
      ]
     },
     "execution_count": 44,
     "metadata": {},
     "output_type": "execute_result"
    },
    {
     "data": {
      "image/png": "[encoded data removed]",
      "text/plain": [
       "<matplotlib.figure.Figure at 0xc60af98>"
      ]
     },
     "metadata": {
      "image/png": {
       "height": 250,
       "width": 402
      }
     },
     "output_type": "display_data"
    }
   ],
   "source": [
    "plt.plot(y_pred_val, y_val, 'ro')"
   ]
  },
  {
   "cell_type": "code",
   "execution_count": 45,
   "metadata": {},
   "outputs": [
    {
     "data": {
      "text/plain": [
       "1625765506.3642597"
      ]
     },
     "execution_count": 45,
     "metadata": {},
     "output_type": "execute_result"
    }
   ],
   "source": [
    "np.mean((y_pred_val-y_val)**2)"
   ]
  },
  {
   "cell_type": "code",
   "execution_count": 46,
   "metadata": {},
   "outputs": [
    {
     "data": {
      "text/plain": [
       "40320.78256140696"
      ]
     },
     "execution_count": 46,
     "metadata": {},
     "output_type": "execute_result"
    }
   ],
   "source": [
    "(np.mean((y_pred_val-y_val)**2))**(1/2)"
   ]
  },
  {
   "cell_type": "markdown",
   "metadata": {},
   "source": [
    "## Финальное предсказание"
   ]
  },
  {
   "cell_type": "code",
   "execution_count": 47,
   "metadata": {},
   "outputs": [],
   "source": [
    "X_test_scaled.loc[1358] = X_test_scaled.loc[1348]"
   ]
  },
  {
   "cell_type": "code",
   "execution_count": 48,
   "metadata": {},
   "outputs": [],
   "source": [
    "lr_f= LinearRegression()"
   ]
  },
  {
   "cell_type": "code",
   "execution_count": 49,
   "metadata": {},
   "outputs": [
    {
     "data": {
      "text/plain": [
       "LinearRegression(copy_X=True, fit_intercept=True, n_jobs=1, normalize=False)"
      ]
     },
     "execution_count": 49,
     "metadata": {},
     "output_type": "execute_result"
    }
   ],
   "source": [
    "lr_f.fit(X_train_scaled, y_train)"
   ]
  },
  {
   "cell_type": "code",
   "execution_count": 50,
   "metadata": {},
   "outputs": [],
   "source": [
    "y_pred = lr_f.predict(X_test_scaled)"
   ]
  },
  {
   "cell_type": "markdown",
   "metadata": {},
   "source": [
    "## Создание файла"
   ]
  },
  {
   "cell_type": "code",
   "execution_count": 91,
   "metadata": {},
   "outputs": [],
   "source": [
    "df_pred = pd.DataFrame(for_visual.Id, columns = ['Id'])"
   ]
  },
  {
   "cell_type": "code",
   "execution_count": 92,
   "metadata": {},
   "outputs": [],
   "source": [
    "df_pred['SalePrice'] = y_pred"
   ]
  },
  {
   "cell_type": "code",
   "execution_count": 98,
   "metadata": {},
   "outputs": [],
   "source": [
    "df_pred = df_pred.set_index('Id')"
   ]
  },
  {
   "cell_type": "code",
   "execution_count": 99,
   "metadata": {},
   "outputs": [],
   "source": [
    "df_pred.to_csv('submission.csv')"
   ]
  },
  {
   "cell_type": "code",
   "execution_count": null,
   "metadata": {},
   "outputs": [],
   "source": []
  }
 ],
 "metadata": {
  "kernelspec": {
   "display_name": "Python 3",
   "language": "python",
   "name": "python3"
  },
  "language_info": {
   "codemirror_mode": {
    "name": "ipython",
    "version": 3
   },
   "file_extension": ".py",
   "mimetype": "text/x-python",
   "name": "python",
   "nbconvert_exporter": "python",
   "pygments_lexer": "ipython3",
   "version": "3.6.4"
  },
  "toc": {
   "colors": {
    "hover_highlight": "#DAA520",
    "navigate_num": "#000000",
    "navigate_text": "#333333",
    "running_highlight": "#FF0000",
    "selected_highlight": "#FFD700",
    "sidebar_border": "#EEEEEE",
    "wrapper_background": "#FFFFFF"
   },
   "moveMenuLeft": true,
   "nav_menu": {
    "height": "12px",
    "width": "252px"
   },
   "navigate_menu": true,
   "number_sections": true,
   "sideBar": true,
   "skip_h1_title": false,
   "threshold": 4,
   "toc_cell": false,
   "toc_section_display": "block",
   "toc_window_display": false,
   "widenNotebook": false
  }
 },
 "nbformat": 4,
 "nbformat_minor": 2
}
