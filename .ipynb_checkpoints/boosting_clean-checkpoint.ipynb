{
 "cells": [
  {
   "cell_type": "markdown",
   "metadata": {},
   "source": [
    "# ЗАНЯТИЕ 2.7. БУСТИНГ. ОБЗОР БИБЛИОТЕКИ XGBOOST"
   ]
  },
  {
   "cell_type": "markdown",
   "metadata": {},
   "source": [
    "Загружаем библиотеки"
   ]
  },
  {
   "cell_type": "code",
   "execution_count": 1,
   "metadata": {
    "ExecuteTime": {
     "end_time": "2018-04-26T08:08:29.935174Z",
     "start_time": "2018-04-26T08:08:29.915148Z"
    }
   },
   "outputs": [],
   "source": [
    "import matplotlib.pyplot as plt\n",
    "import pandas as pd\n",
    "import numpy as np\n",
    "import tqdm\n",
    "\n",
    "%matplotlib inline\n",
    "%config InlineBackend.figure_format = 'retina'\n",
    "\n",
    "#устраним ошибки со шрифтами\n",
    "from matplotlib import rcParams\n",
    "rcParams['font.family'] = 'sans-serif'\n",
    "rcParams['font.sans-serif'] = ['DejaVu Sans']"
   ]
  },
  {
   "cell_type": "markdown",
   "metadata": {},
   "source": [
    "## Описание задачи\n",
    "\n",
    "Используем данные страхового подразделения BNP Paribas из соревнования\n",
    "\n",
    "https://www.kaggle.com/c/bnp-paribas-cardif-claims-management\n",
    "\n",
    "Решается задача классификации страховых случаев:\n",
    "    1. Случаи, требующие дополнительных документов для подтвердения (0)\n",
    "    2. Случаи, которые можно подтверждать автоматически на основе имеющейся информации (1)"
   ]
  },
  {
   "cell_type": "markdown",
   "metadata": {},
   "source": [
    "## Загрузка данных"
   ]
  },
  {
   "cell_type": "code",
   "execution_count": 2,
   "metadata": {
    "ExecuteTime": {
     "end_time": "2018-04-26T08:08:34.447495Z",
     "start_time": "2018-04-26T08:08:32.039845Z"
    }
   },
   "outputs": [],
   "source": [
    "data = pd.read_csv('train.csv')"
   ]
  },
  {
   "cell_type": "markdown",
   "metadata": {},
   "source": [
    "Уменьшим размер данных для ускорения обучения, возмем случайную подвыборку 20% данных со стратификацией"
   ]
  },
  {
   "cell_type": "code",
   "execution_count": 3,
   "metadata": {
    "ExecuteTime": {
     "end_time": "2018-04-26T08:08:45.030900Z",
     "start_time": "2018-04-26T08:08:38.167336Z"
    }
   },
   "outputs": [],
   "source": [
    "from sklearn.model_selection import StratifiedShuffleSplit\n",
    "\n",
    "random_splitter = StratifiedShuffleSplit(n_splits=1, test_size=0.2, random_state=777)\n",
    "\n",
    "for train_index, test_index in random_splitter.split(data, data.target):\n",
    "    data = data.iloc[test_index]"
   ]
  },
  {
   "cell_type": "code",
   "execution_count": 4,
   "metadata": {
    "ExecuteTime": {
     "end_time": "2018-04-26T08:08:53.733715Z",
     "start_time": "2018-04-26T08:08:53.721699Z"
    }
   },
   "outputs": [
    {
     "data": {
      "text/plain": [
       "(22865, 133)"
      ]
     },
     "execution_count": 4,
     "metadata": {},
     "output_type": "execute_result"
    }
   ],
   "source": [
    "data.shape"
   ]
  },
  {
   "cell_type": "markdown",
   "metadata": {},
   "source": [
    "Разбиение на обучение и hold-out тест 70/30. Данных достаточно много, поэтому можно принебречь честной кросс-валидацией и оценивать модель на тесте"
   ]
  },
  {
   "cell_type": "code",
   "execution_count": 5,
   "metadata": {
    "ExecuteTime": {
     "end_time": "2018-04-26T08:08:54.923617Z",
     "start_time": "2018-04-26T08:08:54.879560Z"
    }
   },
   "outputs": [],
   "source": [
    "splitter = StratifiedShuffleSplit(n_splits=1, test_size=0.2, random_state=777)\n",
    "\n",
    "for train_index, test_index in splitter.split(data, data.target):\n",
    "    d_train = data.iloc[train_index]\n",
    "    d_test = data.iloc[test_index]\n",
    "    \n",
    "    y_train = data['target'].iloc[train_index]\n",
    "    y_test = data['target'].iloc[test_index]"
   ]
  },
  {
   "cell_type": "markdown",
   "metadata": {},
   "source": [
    "## Первичный анализ"
   ]
  },
  {
   "cell_type": "markdown",
   "metadata": {},
   "source": [
    "Размер датасета"
   ]
  },
  {
   "cell_type": "code",
   "execution_count": 6,
   "metadata": {
    "ExecuteTime": {
     "end_time": "2018-04-26T08:08:57.764304Z",
     "start_time": "2018-04-26T08:08:57.756291Z"
    }
   },
   "outputs": [
    {
     "data": {
      "text/plain": [
       "(22865, 133)"
      ]
     },
     "execution_count": 6,
     "metadata": {},
     "output_type": "execute_result"
    }
   ],
   "source": [
    "data.shape"
   ]
  },
  {
   "cell_type": "markdown",
   "metadata": {},
   "source": [
    "Распределение значений таргета (event rate)"
   ]
  },
  {
   "cell_type": "code",
   "execution_count": 7,
   "metadata": {
    "ExecuteTime": {
     "end_time": "2018-04-26T08:08:58.993749Z",
     "start_time": "2018-04-26T08:08:58.981735Z"
    }
   },
   "outputs": [
    {
     "data": {
      "text/plain": [
       "1    0.761207\n",
       "0    0.238793\n",
       "Name: target, dtype: float64"
      ]
     },
     "execution_count": 7,
     "metadata": {},
     "output_type": "execute_result"
    }
   ],
   "source": [
    "data.target.value_counts() / len(data)"
   ]
  },
  {
   "cell_type": "markdown",
   "metadata": {},
   "source": [
    "## Предобработка данных"
   ]
  },
  {
   "cell_type": "markdown",
   "metadata": {},
   "source": [
    "Находим категориальные признаки\n",
    "\n",
    "Чтобы в разы не увеличивать число признаков при построении dummy, будем использовать категориальные признаки с < 30 уникальных значений"
   ]
  },
  {
   "cell_type": "code",
   "execution_count": 8,
   "metadata": {
    "ExecuteTime": {
     "end_time": "2018-04-26T08:09:02.430067Z",
     "start_time": "2018-04-26T08:09:02.282122Z"
    }
   },
   "outputs": [
    {
     "name": "stdout",
     "output_type": "stream",
     "text": [
      "v3         3\n",
      "v22     7168\n",
      "v24        5\n",
      "v30        7\n",
      "v31        3\n",
      "v47        9\n",
      "v52       12\n",
      "v56       93\n",
      "v66        3\n",
      "v71        5\n",
      "v74        3\n",
      "v75        4\n",
      "v79       17\n",
      "v91        7\n",
      "v107       7\n",
      "v110       3\n",
      "v112      22\n",
      "v113      34\n",
      "v125      88\n",
      "dtype: int64\n"
     ]
    }
   ],
   "source": [
    "cat_feat = list(data.dtypes[data.dtypes == object].index)\n",
    "\n",
    "#закодируем пропущенные значений строкой, факт пропущенного значения тоже может нести в себе информацию\n",
    "data[cat_feat] = data[cat_feat].fillna('nan')\n",
    "\n",
    "#отфильтруем непрерывные признаки\n",
    "num_feat = [f for f in data if f not in (cat_feat + ['ID', 'target'])]\n",
    "\n",
    "cat_nunique = d_train[cat_feat].nunique()\n",
    "print(cat_nunique)\n",
    "cat_feat = list(cat_nunique[cat_nunique < 30].index)"
   ]
  },
  {
   "cell_type": "code",
   "execution_count": 9,
   "metadata": {
    "ExecuteTime": {
     "end_time": "2018-04-26T08:09:04.250622Z",
     "start_time": "2018-04-26T08:09:04.242607Z"
    }
   },
   "outputs": [],
   "source": [
    "from sklearn.metrics import auc, roc_curve"
   ]
  },
  {
   "cell_type": "markdown",
   "metadata": {},
   "source": [
    "**Создаем признаки для \"деревянных\" моделей**\n",
    "\n",
    "1. Заменяем пропуски на специальное значение -999, чтобы деревья могли их отличить\n",
    "3. Создаем дамми-переменные для категорий"
   ]
  },
  {
   "cell_type": "code",
   "execution_count": 10,
   "metadata": {
    "ExecuteTime": {
     "end_time": "2018-04-26T08:09:05.738668Z",
     "start_time": "2018-04-26T08:09:05.603523Z"
    }
   },
   "outputs": [],
   "source": [
    "dummy_train = pd.get_dummies(d_train[cat_feat], columns=cat_feat)\n",
    "dummy_test = pd.get_dummies(d_test[cat_feat], columns=cat_feat)\n",
    "\n",
    "dummy_cols = list(set(dummy_train) & set(dummy_test))\n",
    "\n",
    "dummy_train = dummy_train[dummy_cols]\n",
    "dummy_test = dummy_test[dummy_cols]\n",
    "\n",
    "\n",
    "X_train = pd.concat([d_train[num_feat].fillna(-999),\n",
    "                     dummy_train], axis=1)\n",
    "\n",
    "X_test = pd.concat([d_test[num_feat].fillna(-999),\n",
    "                     dummy_test], axis=1)"
   ]
  },
  {
   "cell_type": "markdown",
   "metadata": {
    "ExecuteTime": {
     "end_time": "2018-04-25T23:33:03.321847Z",
     "start_time": "2018-04-25T23:33:03.316834Z"
    }
   },
   "source": [
    "**Добавляем средние значения таргета внутри всех категориальных признаков по фолдам, через стекинг**"
   ]
  },
  {
   "cell_type": "code",
   "execution_count": 11,
   "metadata": {
    "ExecuteTime": {
     "end_time": "2018-04-26T08:09:12.648809Z",
     "start_time": "2018-04-26T08:09:08.108417Z"
    }
   },
   "outputs": [
    {
     "name": "stderr",
     "output_type": "stream",
     "text": [
      "100%|██████████████████████████████████████████| 19/19 [00:12<00:00,  1.47it/s]\n"
     ]
    }
   ],
   "source": [
    "class MeanClassifier():\n",
    "    def __init__(self, col):\n",
    "        self._col = col\n",
    "        \n",
    "    def fit(self, X, y):\n",
    "        self._y_mean = y.mean()\n",
    "        self._means = y.groupby(X[self._col].astype(str)).mean()\n",
    "\n",
    "    def predict_proba(self, X):\n",
    "        new_feature = X[self._col].astype(str)\\\n",
    "            .map(self._means.to_dict())\\\n",
    "            .fillna(self._y_mean)\n",
    "        return np.stack([1-new_feature, new_feature], axis=1)\n",
    "    \n",
    "    \n",
    "def get_meta_features(clf, X_train, y_train, X_test, stack_cv):\n",
    "    meta_train = np.zeros_like(y_train, dtype=float)\n",
    "    meta_test = np.zeros_like(y_test, dtype=float)\n",
    "    \n",
    "    for i, (train_ind, test_ind) in enumerate(stack_cv.split(X_train, y_train)):\n",
    "        \n",
    "        clf.fit(X_train.iloc[train_ind], y_train.iloc[train_ind])\n",
    "        meta_train[test_ind] = clf.predict_proba(X_train.iloc[test_ind])[:, 1]\n",
    "        meta_test += clf.predict_proba(X_test)[:, 1]\n",
    "    \n",
    "    return meta_train, meta_test / stack_cv.n_splits\n",
    "\n",
    "\n",
    "from sklearn.model_selection import StratifiedKFold\n",
    "\n",
    "stack_cv = StratifiedKFold(n_splits=10, random_state=555)\n",
    "\n",
    "meta_train = []\n",
    "meta_test = []\n",
    "col_names = []\n",
    "\n",
    "for c in tqdm.tqdm(cat_nunique.index.tolist()):\n",
    "    clf = MeanClassifier(c)\n",
    "    \n",
    "    meta_tr, meta_te = get_meta_features(clf, d_train, y_train, d_test, stack_cv)\n",
    "\n",
    "    meta_train.append(meta_tr)\n",
    "    meta_test.append(meta_te)\n",
    "    col_names.append('mean_pred_{}'.format(c))\n",
    "\n",
    "X_mean_train = pd.DataFrame(np.stack(meta_train, axis=1), columns=col_names, index=d_train.index)\n",
    "X_mean_test = pd.DataFrame(np.stack(meta_test, axis=1), columns=col_names, index=d_test.index)\n",
    "\n",
    "X_train = pd.concat([X_train, X_mean_train], axis=1)\n",
    "X_test = pd.concat([X_test, X_mean_test], axis=1)"
   ]
  },
  {
   "cell_type": "markdown",
   "metadata": {},
   "source": [
    "#### Считаем ROC AUC"
   ]
  },
  {
   "cell_type": "code",
   "execution_count": 12,
   "metadata": {
    "ExecuteTime": {
     "end_time": "2018-04-26T08:09:13.930260Z",
     "start_time": "2018-04-26T08:09:13.914237Z"
    }
   },
   "outputs": [],
   "source": [
    "def calc_auc(y, y_pred, plot_label='', prin=True):\n",
    "    fpr, tpr, _ = roc_curve(y, y_pred)\n",
    "    auc_val = auc(fpr, tpr)\n",
    "    if prin:\n",
    "        print('ROC AUC: {0:.4f}'.format(auc_val))\n",
    "    if plot_label:\n",
    "        plt.plot(fpr, tpr, label=plot_label)\n",
    "        plt.xlabel('FPR')\n",
    "        plt.ylabel('TPR')\n",
    "    return auc_val"
   ]
  },
  {
   "cell_type": "markdown",
   "metadata": {},
   "source": [
    "## Обучение моделей"
   ]
  },
  {
   "cell_type": "markdown",
   "metadata": {},
   "source": [
    "### Случайный лес"
   ]
  },
  {
   "cell_type": "markdown",
   "metadata": {},
   "source": [
    "Предсказываем вероятность класса 1 и считаем ROC AUC"
   ]
  },
  {
   "cell_type": "code",
   "execution_count": 13,
   "metadata": {
    "ExecuteTime": {
     "end_time": "2018-04-26T08:15:47.255701Z",
     "start_time": "2018-04-26T08:15:33.106506Z"
    }
   },
   "outputs": [
    {
     "data": {
      "text/plain": [
       "RandomForestClassifier(bootstrap=True, class_weight=None, criterion='gini',\n",
       "            max_depth=5, max_features=0.8, max_leaf_nodes=None,\n",
       "            min_impurity_decrease=0.0, min_impurity_split=None,\n",
       "            min_samples_leaf=20, min_samples_split=2,\n",
       "            min_weight_fraction_leaf=0.0, n_estimators=20, n_jobs=-1,\n",
       "            oob_score=False, random_state=None, verbose=0,\n",
       "            warm_start=False)"
      ]
     },
     "execution_count": 13,
     "metadata": {},
     "output_type": "execute_result"
    }
   ],
   "source": [
    "from sklearn.ensemble import RandomForestClassifier\n",
    "\n",
    "clf_rf = RandomForestClassifier(n_estimators=20, max_depth=5, min_samples_leaf=20, max_features=0.8, n_jobs=-1)\n",
    "\n",
    "clf_rf.fit(X_train, y_train)"
   ]
  },
  {
   "cell_type": "code",
   "execution_count": 14,
   "metadata": {
    "ExecuteTime": {
     "end_time": "2018-04-26T08:15:50.500044Z",
     "start_time": "2018-04-26T08:15:49.938494Z"
    }
   },
   "outputs": [
    {
     "name": "stdout",
     "output_type": "stream",
     "text": [
      "Train:\n",
      "ROC AUC: 0.7521\n",
      "Test:\n",
      "ROC AUC: 0.7363\n"
     ]
    },
    {
     "data": {
      "image/png": "[encoded data removed]",
      "text/plain": [
       "<matplotlib.figure.Figure at 0x96fbef0>"
      ]
     },
     "metadata": {
      "image/png": {
       "height": 263,
       "width": 387
      }
     },
     "output_type": "display_data"
    }
   ],
   "source": [
    "y_pred_rf_test = clf_rf.predict_proba(X_test)[:, 1]\n",
    "y_pred_rf_train = clf_rf.predict_proba(X_train)[:, 1]\n",
    "\n",
    "print('Train:')\n",
    "calc_auc(y_train, y_pred_rf_train, 'train')\n",
    "print('Test:')\n",
    "calc_auc(y_test, y_pred_rf_test, 'test')\n",
    "plt.legend();"
   ]
  },
  {
   "cell_type": "markdown",
   "metadata": {},
   "source": [
    "### Бустинг в sklearn"
   ]
  },
  {
   "cell_type": "code",
   "execution_count": 15,
   "metadata": {
    "ExecuteTime": {
     "end_time": "2018-04-26T10:08:47.440200Z",
     "start_time": "2018-04-26T10:08:47.432190Z"
    }
   },
   "outputs": [],
   "source": [
    "from sklearn.ensemble import AdaBoostClassifier, GradientBoostingClassifier\n",
    "from sklearn.tree import DecisionTreeClassifier"
   ]
  },
  {
   "cell_type": "markdown",
   "metadata": {},
   "source": [
    "Adaboost"
   ]
  },
  {
   "cell_type": "code",
   "execution_count": 16,
   "metadata": {
    "ExecuteTime": {
     "end_time": "2018-04-26T10:38:08.023105Z",
     "start_time": "2018-04-26T10:37:55.943611Z"
    }
   },
   "outputs": [
    {
     "name": "stdout",
     "output_type": "stream",
     "text": [
      "Train:\n",
      "ROC AUC: 0.7895\n",
      "Test:\n",
      "ROC AUC: 0.7358\n"
     ]
    },
    {
     "data": {
      "image/png": "[encoded data removed]",
      "text/plain": [
       "<matplotlib.figure.Figure at 0x96ff4a8>"
      ]
     },
     "metadata": {
      "image/png": {
       "height": 263,
       "width": 387
      }
     },
     "output_type": "display_data"
    }
   ],
   "source": [
    "clf_ada = AdaBoostClassifier(DecisionTreeClassifier(max_depth=5, min_samples_leaf=20, max_features=0.8),\n",
    "                             n_estimators=20, learning_rate=0.1)\n",
    "\n",
    "clf_ada.fit(X_train, y_train)\n",
    "y_pred_ada_test = clf_ada.predict_proba(X_test)[:, 1]\n",
    "y_pred_ada_train = clf_ada.predict_proba(X_train)[:, 1]\n",
    "\n",
    "print('Train:')\n",
    "calc_auc(y_train, y_pred_ada_train, 'train')\n",
    "print('Test:')\n",
    "calc_auc(y_test, y_pred_ada_test, 'test')\n",
    "plt.legend();"
   ]
  },
  {
   "cell_type": "markdown",
   "metadata": {},
   "source": [
    "GradientBoosting"
   ]
  },
  {
   "cell_type": "code",
   "execution_count": 17,
   "metadata": {
    "ExecuteTime": {
     "end_time": "2018-04-26T10:37:50.103771Z",
     "start_time": "2018-04-26T10:37:43.457709Z"
    }
   },
   "outputs": [
    {
     "name": "stdout",
     "output_type": "stream",
     "text": [
      "      Iter       Train Loss      OOB Improve   Remaining Time \n",
      "         1           1.0753           0.0253           16.00s\n",
      "         2           1.0458           0.0176           14.96s\n",
      "         3           1.0326           0.0142           13.89s\n",
      "         4           1.0175           0.0113           12.64s\n",
      "         5           1.0022           0.0107           11.80s\n",
      "         6           0.9932           0.0089           10.93s\n",
      "         7           0.9848           0.0076           10.16s\n",
      "         8           0.9820           0.0056            9.34s\n",
      "         9           0.9727           0.0047            8.52s\n",
      "        10           0.9656           0.0044            7.70s\n",
      "        11           0.9587           0.0039            6.95s\n",
      "        12           0.9533           0.0024            6.22s\n",
      "        13           0.9439           0.0013            5.45s\n",
      "        14           0.9479           0.0021            4.66s\n",
      "        15           0.9382           0.0010            3.86s\n",
      "        16           0.9411           0.0009            3.09s\n",
      "        17           0.9344           0.0015            2.32s\n",
      "        18           0.9252           0.0016            1.54s\n",
      "        19           0.9241           0.0003            0.77s\n",
      "        20           0.9245           0.0002            0.00s\n",
      "Train:\n",
      "ROC AUC: 0.7777\n",
      "Test:\n",
      "ROC AUC: 0.7422\n"
     ]
    },
    {
     "data": {
      "image/png": "[encoded data removed]",
      "text/plain": [
       "<matplotlib.figure.Figure at 0x96d0b38>"
      ]
     },
     "metadata": {
      "image/png": {
       "height": 263,
       "width": 387
      }
     },
     "output_type": "display_data"
    }
   ],
   "source": [
    "clf_gbm = GradientBoostingClassifier(max_depth=5, min_samples_leaf=20, n_estimators=20, learning_rate=0.1, \n",
    "                                     subsample=0.8, max_features=0.8, verbose=2)\n",
    "\n",
    "clf_gbm.fit(X_train, y_train)\n",
    "y_pred_gbm_test = clf_gbm.predict_proba(X_test)[:, 1]\n",
    "y_pred_gbm_train = clf_gbm.predict_proba(X_train)[:, 1]\n",
    "\n",
    "print('Train:')\n",
    "calc_auc(y_train, y_pred_gbm_train, 'train')\n",
    "print('Test:')\n",
    "calc_auc(y_test, y_pred_gbm_test, 'test')\n",
    "plt.legend();"
   ]
  },
  {
   "cell_type": "markdown",
   "metadata": {},
   "source": [
    "### XGBOOST"
   ]
  },
  {
   "cell_type": "code",
   "execution_count": 18,
   "metadata": {
    "ExecuteTime": {
     "end_time": "2018-04-26T08:17:33.628311Z",
     "start_time": "2018-04-26T08:17:33.194379Z"
    }
   },
   "outputs": [],
   "source": [
    "import xgboost as xgb\n",
    "# conda install -c anaconda py-xgboost"
   ]
  },
  {
   "cell_type": "markdown",
   "metadata": {
    "ExecuteTime": {
     "end_time": "2018-04-26T08:18:07.469330Z",
     "start_time": "2018-04-26T08:18:07.449305Z"
    }
   },
   "source": [
    "**Важные гиперпараметры алгоритма**\n",
    "\n",
    "a. Параметры деревьев\n",
    "    1. max_depth - максимальная глубина дерева (обычно 3-10, больше глубина -> больше риск переобучения)\n",
    "    2. min_child_weight - минимальное число объектов в листе (обычно до 20, больше объектов -> меньше риск переобучения, но должен быть согласован с глубиной дерева)\n",
    "    3. gamma - минимально необходимый прирост качества для разбиения листа (редко используется)\n",
    "\n",
    "b. Параметры бустинга\n",
    "    0. objective - оптимизируемый функционал (встроен для классификации и регрессии, можно написать свой дифференцируемый)\n",
    "    1. n_estimators - кол-во базовых алгоритмов (чем меньше learning_rate, тем больше деревьев)\n",
    "    2. learning_rate - шаг создания ансамбля (зависит от n_estimators, но обычно 0.01 - 0.1)\n",
    "    2. colsample_bytree - доля признаков, случайно выбирающихся для построения дерева\n",
    "    3. subsample - доля объектов, случайно выбирающихся для построения дерева\n",
    "    4. n_jobs - кол-во потоков для одновременного построения деревьев (большая прибавка к скорости на многоядерных процах)\n",
    "    5. reg_alpha - вес L1 регуляризации (редко используется)\n",
    "    6. reg_lambda - вес L2 регуляризации (редко используется)"
   ]
  },
  {
   "cell_type": "markdown",
   "metadata": {},
   "source": [
    "Параметры по умолчанию"
   ]
  },
  {
   "cell_type": "code",
   "execution_count": 19,
   "metadata": {
    "ExecuteTime": {
     "end_time": "2018-04-26T10:20:26.421747Z",
     "start_time": "2018-04-26T10:20:19.963783Z"
    }
   },
   "outputs": [
    {
     "data": {
      "text/plain": [
       "XGBClassifier(base_score=0.5, booster='gbtree', colsample_bylevel=1,\n",
       "       colsample_bytree=1, gamma=0, learning_rate=0.1, max_delta_step=0,\n",
       "       max_depth=3, min_child_weight=1, missing=None, n_estimators=100,\n",
       "       n_jobs=4, nthread=None, objective='binary:logistic', random_state=0,\n",
       "       reg_alpha=0, reg_lambda=1, scale_pos_weight=1, seed=None,\n",
       "       silent=True, subsample=1)"
      ]
     },
     "execution_count": 19,
     "metadata": {},
     "output_type": "execute_result"
    }
   ],
   "source": [
    "params = {'n_estimators': 100,\n",
    "          'learning_rate': 0.1,\n",
    "          'max_depth': 3,\n",
    "          'min_child_weight': 1,\n",
    "          'subsample': 1,\n",
    "          'colsample_bytree': 1,\n",
    "          'n_jobs': 4}\n",
    "\n",
    "clf_xgb = xgb.XGBClassifier(**params)\n",
    "clf_xgb.fit(X_train, y_train)"
   ]
  },
  {
   "cell_type": "code",
   "execution_count": 20,
   "metadata": {
    "ExecuteTime": {
     "end_time": "2018-04-26T08:34:44.455117Z",
     "start_time": "2018-04-26T08:34:43.946222Z"
    }
   },
   "outputs": [
    {
     "name": "stdout",
     "output_type": "stream",
     "text": [
      "Train:\n",
      "ROC AUC: 0.7767\n",
      "Test:\n",
      "ROC AUC: 0.7407\n"
     ]
    },
    {
     "data": {
      "image/png": "[encoded data removed]",
      "text/plain": [
       "<matplotlib.figure.Figure at 0x9700b00>"
      ]
     },
     "metadata": {
      "image/png": {
       "height": 263,
       "width": 387
      }
     },
     "output_type": "display_data"
    }
   ],
   "source": [
    "y_pred_xgb_test = clf_xgb.predict_proba(X_test)[:, 1]\n",
    "y_pred_xgb_train = clf_xgb.predict_proba(X_train)[:, 1]\n",
    "\n",
    "print('Train:')\n",
    "calc_auc(y_train, y_pred_xgb_train, 'train')\n",
    "print('Test:')\n",
    "calc_auc(y_test, y_pred_xgb_test, 'test')\n",
    "plt.legend();"
   ]
  },
  {
   "cell_type": "markdown",
   "metadata": {},
   "source": [
    "#### Онлайн оценка качества "
   ]
  },
  {
   "cell_type": "markdown",
   "metadata": {},
   "source": [
    "Во время обучения можно следить за качеством во время каждой итерации\n",
    "\n",
    "Для этого используются параметры:\n",
    "    1. eval_metric - метрика 'auc', 'rmse', 'logloss', ...\n",
    "    2. eval_set - список выборок вида [(X, y), ...] на которых тестировать алгоритм"
   ]
  },
  {
   "cell_type": "code",
   "execution_count": 21,
   "metadata": {
    "ExecuteTime": {
     "end_time": "2018-04-26T08:35:19.128072Z",
     "start_time": "2018-04-26T08:35:00.603304Z"
    },
    "scrolled": true
   },
   "outputs": [
    {
     "name": "stdout",
     "output_type": "stream",
     "text": [
      "[0]\tvalidation_0-auc:0.707057\tvalidation_1-auc:0.710633\n",
      "[1]\tvalidation_0-auc:0.713917\tvalidation_1-auc:0.712757\n",
      "[2]\tvalidation_0-auc:0.713913\tvalidation_1-auc:0.713197\n",
      "[3]\tvalidation_0-auc:0.719527\tvalidation_1-auc:0.721959\n",
      "[4]\tvalidation_0-auc:0.719556\tvalidation_1-auc:0.722356\n",
      "[5]\tvalidation_0-auc:0.721113\tvalidation_1-auc:0.722748\n",
      "[6]\tvalidation_0-auc:0.72181\tvalidation_1-auc:0.724063\n",
      "[7]\tvalidation_0-auc:0.724771\tvalidation_1-auc:0.727713\n",
      "[8]\tvalidation_0-auc:0.725834\tvalidation_1-auc:0.727387\n",
      "[9]\tvalidation_0-auc:0.727845\tvalidation_1-auc:0.73005\n",
      "[10]\tvalidation_0-auc:0.728308\tvalidation_1-auc:0.7315\n",
      "[11]\tvalidation_0-auc:0.729433\tvalidation_1-auc:0.731407\n",
      "[12]\tvalidation_0-auc:0.729845\tvalidation_1-auc:0.731325\n",
      "[13]\tvalidation_0-auc:0.731194\tvalidation_1-auc:0.732601\n",
      "[14]\tvalidation_0-auc:0.73211\tvalidation_1-auc:0.733587\n",
      "[15]\tvalidation_0-auc:0.732692\tvalidation_1-auc:0.733318\n",
      "[16]\tvalidation_0-auc:0.733286\tvalidation_1-auc:0.734206\n",
      "[17]\tvalidation_0-auc:0.733632\tvalidation_1-auc:0.733999\n",
      "[18]\tvalidation_0-auc:0.735016\tvalidation_1-auc:0.735161\n",
      "[19]\tvalidation_0-auc:0.735479\tvalidation_1-auc:0.73566\n",
      "[20]\tvalidation_0-auc:0.736839\tvalidation_1-auc:0.736454\n",
      "[21]\tvalidation_0-auc:0.737389\tvalidation_1-auc:0.736627\n",
      "[22]\tvalidation_0-auc:0.738026\tvalidation_1-auc:0.736382\n",
      "[23]\tvalidation_0-auc:0.739158\tvalidation_1-auc:0.737548\n",
      "[24]\tvalidation_0-auc:0.739528\tvalidation_1-auc:0.737288\n",
      "[25]\tvalidation_0-auc:0.740307\tvalidation_1-auc:0.737818\n",
      "[26]\tvalidation_0-auc:0.740828\tvalidation_1-auc:0.738011\n",
      "[27]\tvalidation_0-auc:0.741362\tvalidation_1-auc:0.738346\n",
      "[28]\tvalidation_0-auc:0.741752\tvalidation_1-auc:0.738036\n",
      "[29]\tvalidation_0-auc:0.742305\tvalidation_1-auc:0.738587\n",
      "[30]\tvalidation_0-auc:0.742923\tvalidation_1-auc:0.739163\n",
      "[31]\tvalidation_0-auc:0.743296\tvalidation_1-auc:0.738726\n",
      "[32]\tvalidation_0-auc:0.74358\tvalidation_1-auc:0.738501\n",
      "[33]\tvalidation_0-auc:0.744166\tvalidation_1-auc:0.738589\n",
      "[34]\tvalidation_0-auc:0.744709\tvalidation_1-auc:0.738419\n",
      "[35]\tvalidation_0-auc:0.745895\tvalidation_1-auc:0.738912\n",
      "[36]\tvalidation_0-auc:0.746488\tvalidation_1-auc:0.738929\n",
      "[37]\tvalidation_0-auc:0.747009\tvalidation_1-auc:0.73868\n",
      "[38]\tvalidation_0-auc:0.747571\tvalidation_1-auc:0.739185\n",
      "[39]\tvalidation_0-auc:0.748102\tvalidation_1-auc:0.739108\n",
      "[40]\tvalidation_0-auc:0.748714\tvalidation_1-auc:0.738939\n",
      "[41]\tvalidation_0-auc:0.749489\tvalidation_1-auc:0.739359\n",
      "[42]\tvalidation_0-auc:0.749918\tvalidation_1-auc:0.739346\n",
      "[43]\tvalidation_0-auc:0.750236\tvalidation_1-auc:0.7392\n",
      "[44]\tvalidation_0-auc:0.750809\tvalidation_1-auc:0.739326\n",
      "[45]\tvalidation_0-auc:0.751373\tvalidation_1-auc:0.739521\n",
      "[46]\tvalidation_0-auc:0.752101\tvalidation_1-auc:0.739603\n",
      "[47]\tvalidation_0-auc:0.752382\tvalidation_1-auc:0.739634\n",
      "[48]\tvalidation_0-auc:0.752941\tvalidation_1-auc:0.739791\n",
      "[49]\tvalidation_0-auc:0.753612\tvalidation_1-auc:0.739915\n",
      "[50]\tvalidation_0-auc:0.754284\tvalidation_1-auc:0.740163\n",
      "[51]\tvalidation_0-auc:0.755058\tvalidation_1-auc:0.740117\n",
      "[52]\tvalidation_0-auc:0.755284\tvalidation_1-auc:0.740055\n",
      "[53]\tvalidation_0-auc:0.755833\tvalidation_1-auc:0.739998\n",
      "[54]\tvalidation_0-auc:0.756359\tvalidation_1-auc:0.739957\n",
      "[55]\tvalidation_0-auc:0.756772\tvalidation_1-auc:0.740179\n",
      "[56]\tvalidation_0-auc:0.757137\tvalidation_1-auc:0.740086\n",
      "[57]\tvalidation_0-auc:0.757341\tvalidation_1-auc:0.739989\n",
      "[58]\tvalidation_0-auc:0.758112\tvalidation_1-auc:0.740277\n",
      "[59]\tvalidation_0-auc:0.758681\tvalidation_1-auc:0.740461\n",
      "[60]\tvalidation_0-auc:0.758928\tvalidation_1-auc:0.740202\n",
      "[61]\tvalidation_0-auc:0.759126\tvalidation_1-auc:0.740226\n",
      "[62]\tvalidation_0-auc:0.759813\tvalidation_1-auc:0.740341\n",
      "[63]\tvalidation_0-auc:0.760487\tvalidation_1-auc:0.740236\n",
      "[64]\tvalidation_0-auc:0.760941\tvalidation_1-auc:0.740234\n",
      "[65]\tvalidation_0-auc:0.761552\tvalidation_1-auc:0.740323\n",
      "[66]\tvalidation_0-auc:0.762193\tvalidation_1-auc:0.740473\n",
      "[67]\tvalidation_0-auc:0.762776\tvalidation_1-auc:0.740701\n",
      "[68]\tvalidation_0-auc:0.762986\tvalidation_1-auc:0.740776\n",
      "[69]\tvalidation_0-auc:0.763447\tvalidation_1-auc:0.740728\n",
      "[70]\tvalidation_0-auc:0.763587\tvalidation_1-auc:0.740722\n",
      "[71]\tvalidation_0-auc:0.764099\tvalidation_1-auc:0.740603\n",
      "[72]\tvalidation_0-auc:0.764773\tvalidation_1-auc:0.740578\n",
      "[73]\tvalidation_0-auc:0.765156\tvalidation_1-auc:0.740489\n",
      "[74]\tvalidation_0-auc:0.765727\tvalidation_1-auc:0.740485\n",
      "[75]\tvalidation_0-auc:0.765865\tvalidation_1-auc:0.74052\n",
      "[76]\tvalidation_0-auc:0.7663\tvalidation_1-auc:0.740633\n",
      "[77]\tvalidation_0-auc:0.766851\tvalidation_1-auc:0.740577\n",
      "[78]\tvalidation_0-auc:0.767591\tvalidation_1-auc:0.740749\n",
      "[79]\tvalidation_0-auc:0.768182\tvalidation_1-auc:0.740739\n",
      "[80]\tvalidation_0-auc:0.768674\tvalidation_1-auc:0.740975\n",
      "[81]\tvalidation_0-auc:0.769074\tvalidation_1-auc:0.74091\n",
      "[82]\tvalidation_0-auc:0.769504\tvalidation_1-auc:0.741003\n",
      "[83]\tvalidation_0-auc:0.769927\tvalidation_1-auc:0.74112\n",
      "[84]\tvalidation_0-auc:0.770222\tvalidation_1-auc:0.741131\n",
      "[85]\tvalidation_0-auc:0.77077\tvalidation_1-auc:0.7409\n",
      "[86]\tvalidation_0-auc:0.771223\tvalidation_1-auc:0.740781\n",
      "[87]\tvalidation_0-auc:0.771559\tvalidation_1-auc:0.740725\n",
      "[88]\tvalidation_0-auc:0.771894\tvalidation_1-auc:0.740557\n",
      "[89]\tvalidation_0-auc:0.772493\tvalidation_1-auc:0.740503\n",
      "[90]\tvalidation_0-auc:0.772773\tvalidation_1-auc:0.740517\n",
      "[91]\tvalidation_0-auc:0.772974\tvalidation_1-auc:0.740568\n",
      "[92]\tvalidation_0-auc:0.773207\tvalidation_1-auc:0.740641\n",
      "[93]\tvalidation_0-auc:0.773738\tvalidation_1-auc:0.740912\n",
      "[94]\tvalidation_0-auc:0.774287\tvalidation_1-auc:0.741149\n",
      "[95]\tvalidation_0-auc:0.774837\tvalidation_1-auc:0.741312\n",
      "[96]\tvalidation_0-auc:0.775221\tvalidation_1-auc:0.741336\n",
      "[97]\tvalidation_0-auc:0.775767\tvalidation_1-auc:0.741212\n",
      "[98]\tvalidation_0-auc:0.776124\tvalidation_1-auc:0.741173\n",
      "[99]\tvalidation_0-auc:0.776652\tvalidation_1-auc:0.740741\n"
     ]
    },
    {
     "data": {
      "text/plain": [
       "XGBClassifier(base_score=0.5, booster='gbtree', colsample_bylevel=1,\n",
       "       colsample_bytree=1, gamma=0, learning_rate=0.1, max_delta_step=0,\n",
       "       max_depth=3, min_child_weight=1, missing=None, n_estimators=100,\n",
       "       n_jobs=4, nthread=None, objective='binary:logistic', random_state=0,\n",
       "       reg_alpha=0, reg_lambda=1, scale_pos_weight=1, seed=None,\n",
       "       silent=True, subsample=1)"
      ]
     },
     "execution_count": 21,
     "metadata": {},
     "output_type": "execute_result"
    }
   ],
   "source": [
    "params = {'n_estimators': 100,\n",
    "          'learning_rate': 0.1,\n",
    "          'max_depth': 3,\n",
    "          'min_child_weight': 1,\n",
    "          'subsample': 1,\n",
    "          'colsample_bytree': 1,\n",
    "          'n_jobs': 4}\n",
    "clf_xgb = xgb.XGBClassifier(**params)\n",
    "\n",
    "clf_xgb.fit(X_train, y_train, eval_metric='auc', eval_set=[[X_train, y_train], [X_test, y_test]])"
   ]
  },
  {
   "cell_type": "markdown",
   "metadata": {},
   "source": [
    "### Самостоятельное задание"
   ]
  },
  {
   "cell_type": "markdown",
   "metadata": {
    "ExecuteTime": {
     "end_time": "2018-04-26T10:33:28.304675Z",
     "start_time": "2018-04-26T10:33:28.296665Z"
    }
   },
   "source": [
    "Сравнить алгоритмы AdaBoost, GradientBoostingClassifier и Xgboost с похожим набором параметров"
   ]
  },
  {
   "cell_type": "code",
   "execution_count": 22,
   "metadata": {
    "ExecuteTime": {
     "end_time": "2018-04-26T10:34:11.793304Z",
     "start_time": "2018-04-26T10:34:11.785326Z"
    }
   },
   "outputs": [],
   "source": [
    "### TODO\n",
    "\n",
    "\n",
    "\n",
    "\n",
    "\n",
    "\n",
    "\n",
    "\n",
    "\n",
    "\n",
    "\n",
    "\n",
    "\n",
    "### TODO"
   ]
  },
  {
   "cell_type": "markdown",
   "metadata": {},
   "source": [
    "Возмем параметры, с которых лучше всего начать"
   ]
  },
  {
   "cell_type": "code",
   "execution_count": 23,
   "metadata": {
    "ExecuteTime": {
     "end_time": "2018-04-26T08:37:25.888518Z",
     "start_time": "2018-04-26T08:37:02.874039Z"
    },
    "scrolled": true
   },
   "outputs": [
    {
     "name": "stdout",
     "output_type": "stream",
     "text": [
      "[0]\tvalidation_0-auc:0.722945\tvalidation_1-auc:0.71799\n",
      "[1]\tvalidation_0-auc:0.736733\tvalidation_1-auc:0.72805\n",
      "[2]\tvalidation_0-auc:0.745734\tvalidation_1-auc:0.732616\n",
      "[3]\tvalidation_0-auc:0.751147\tvalidation_1-auc:0.737171\n",
      "[4]\tvalidation_0-auc:0.753767\tvalidation_1-auc:0.73485\n",
      "[5]\tvalidation_0-auc:0.75528\tvalidation_1-auc:0.735353\n",
      "[6]\tvalidation_0-auc:0.755945\tvalidation_1-auc:0.735828\n",
      "[7]\tvalidation_0-auc:0.75734\tvalidation_1-auc:0.735229\n",
      "[8]\tvalidation_0-auc:0.759171\tvalidation_1-auc:0.734859\n",
      "[9]\tvalidation_0-auc:0.760638\tvalidation_1-auc:0.735403\n",
      "[10]\tvalidation_0-auc:0.76229\tvalidation_1-auc:0.734742\n",
      "[11]\tvalidation_0-auc:0.764463\tvalidation_1-auc:0.73692\n",
      "[12]\tvalidation_0-auc:0.765921\tvalidation_1-auc:0.738113\n",
      "[13]\tvalidation_0-auc:0.767232\tvalidation_1-auc:0.738795\n",
      "[14]\tvalidation_0-auc:0.768231\tvalidation_1-auc:0.739189\n",
      "[15]\tvalidation_0-auc:0.770524\tvalidation_1-auc:0.740948\n",
      "[16]\tvalidation_0-auc:0.771756\tvalidation_1-auc:0.741106\n",
      "[17]\tvalidation_0-auc:0.774468\tvalidation_1-auc:0.742313\n",
      "[18]\tvalidation_0-auc:0.776093\tvalidation_1-auc:0.742441\n",
      "[19]\tvalidation_0-auc:0.777094\tvalidation_1-auc:0.742558\n",
      "[20]\tvalidation_0-auc:0.777955\tvalidation_1-auc:0.742814\n",
      "[21]\tvalidation_0-auc:0.779277\tvalidation_1-auc:0.743203\n",
      "[22]\tvalidation_0-auc:0.780708\tvalidation_1-auc:0.743821\n",
      "[23]\tvalidation_0-auc:0.782296\tvalidation_1-auc:0.743882\n",
      "[24]\tvalidation_0-auc:0.783736\tvalidation_1-auc:0.743594\n",
      "[25]\tvalidation_0-auc:0.78531\tvalidation_1-auc:0.743806\n",
      "[26]\tvalidation_0-auc:0.786781\tvalidation_1-auc:0.743353\n",
      "[27]\tvalidation_0-auc:0.788601\tvalidation_1-auc:0.743702\n",
      "[28]\tvalidation_0-auc:0.789788\tvalidation_1-auc:0.744094\n",
      "[29]\tvalidation_0-auc:0.790745\tvalidation_1-auc:0.744272\n",
      "[30]\tvalidation_0-auc:0.791283\tvalidation_1-auc:0.744498\n",
      "[31]\tvalidation_0-auc:0.792457\tvalidation_1-auc:0.7449\n",
      "[32]\tvalidation_0-auc:0.794059\tvalidation_1-auc:0.744261\n",
      "[33]\tvalidation_0-auc:0.795491\tvalidation_1-auc:0.74403\n",
      "[34]\tvalidation_0-auc:0.798196\tvalidation_1-auc:0.743838\n",
      "[35]\tvalidation_0-auc:0.799414\tvalidation_1-auc:0.744112\n",
      "[36]\tvalidation_0-auc:0.800388\tvalidation_1-auc:0.743777\n",
      "[37]\tvalidation_0-auc:0.80161\tvalidation_1-auc:0.743747\n",
      "[38]\tvalidation_0-auc:0.804097\tvalidation_1-auc:0.743117\n",
      "[39]\tvalidation_0-auc:0.805865\tvalidation_1-auc:0.742822\n",
      "[40]\tvalidation_0-auc:0.807775\tvalidation_1-auc:0.742407\n",
      "[41]\tvalidation_0-auc:0.808713\tvalidation_1-auc:0.74225\n",
      "[42]\tvalidation_0-auc:0.810567\tvalidation_1-auc:0.74205\n",
      "[43]\tvalidation_0-auc:0.811631\tvalidation_1-auc:0.742282\n",
      "[44]\tvalidation_0-auc:0.81242\tvalidation_1-auc:0.742736\n",
      "[45]\tvalidation_0-auc:0.814158\tvalidation_1-auc:0.742543\n",
      "[46]\tvalidation_0-auc:0.815032\tvalidation_1-auc:0.742793\n",
      "[47]\tvalidation_0-auc:0.816601\tvalidation_1-auc:0.74272\n",
      "[48]\tvalidation_0-auc:0.81756\tvalidation_1-auc:0.742864\n",
      "[49]\tvalidation_0-auc:0.818733\tvalidation_1-auc:0.742493\n",
      "[50]\tvalidation_0-auc:0.819395\tvalidation_1-auc:0.742661\n",
      "[51]\tvalidation_0-auc:0.820122\tvalidation_1-auc:0.742586\n",
      "[52]\tvalidation_0-auc:0.822008\tvalidation_1-auc:0.743131\n",
      "[53]\tvalidation_0-auc:0.823455\tvalidation_1-auc:0.743332\n",
      "[54]\tvalidation_0-auc:0.825049\tvalidation_1-auc:0.743584\n",
      "[55]\tvalidation_0-auc:0.826271\tvalidation_1-auc:0.743846\n",
      "[56]\tvalidation_0-auc:0.827209\tvalidation_1-auc:0.743447\n",
      "[57]\tvalidation_0-auc:0.828466\tvalidation_1-auc:0.743358\n",
      "[58]\tvalidation_0-auc:0.830339\tvalidation_1-auc:0.743141\n",
      "[59]\tvalidation_0-auc:0.831109\tvalidation_1-auc:0.743147\n",
      "[60]\tvalidation_0-auc:0.83173\tvalidation_1-auc:0.74301\n",
      "[61]\tvalidation_0-auc:0.83362\tvalidation_1-auc:0.743022\n",
      "[62]\tvalidation_0-auc:0.834511\tvalidation_1-auc:0.742845\n",
      "[63]\tvalidation_0-auc:0.835278\tvalidation_1-auc:0.742901\n",
      "[64]\tvalidation_0-auc:0.836712\tvalidation_1-auc:0.743201\n",
      "[65]\tvalidation_0-auc:0.83752\tvalidation_1-auc:0.743536\n",
      "[66]\tvalidation_0-auc:0.838883\tvalidation_1-auc:0.743297\n",
      "[67]\tvalidation_0-auc:0.8396\tvalidation_1-auc:0.743455\n",
      "[68]\tvalidation_0-auc:0.840826\tvalidation_1-auc:0.743531\n",
      "[69]\tvalidation_0-auc:0.842096\tvalidation_1-auc:0.743959\n",
      "[70]\tvalidation_0-auc:0.843963\tvalidation_1-auc:0.744018\n",
      "[71]\tvalidation_0-auc:0.845224\tvalidation_1-auc:0.744075\n",
      "[72]\tvalidation_0-auc:0.846394\tvalidation_1-auc:0.744416\n",
      "[73]\tvalidation_0-auc:0.847384\tvalidation_1-auc:0.744715\n",
      "[74]\tvalidation_0-auc:0.848097\tvalidation_1-auc:0.744999\n",
      "[75]\tvalidation_0-auc:0.849133\tvalidation_1-auc:0.744628\n",
      "[76]\tvalidation_0-auc:0.850522\tvalidation_1-auc:0.744542\n",
      "[77]\tvalidation_0-auc:0.85173\tvalidation_1-auc:0.744513\n",
      "[78]\tvalidation_0-auc:0.852267\tvalidation_1-auc:0.744446\n",
      "[79]\tvalidation_0-auc:0.852606\tvalidation_1-auc:0.74411\n",
      "[80]\tvalidation_0-auc:0.853532\tvalidation_1-auc:0.744013\n",
      "[81]\tvalidation_0-auc:0.85412\tvalidation_1-auc:0.744172\n",
      "[82]\tvalidation_0-auc:0.855655\tvalidation_1-auc:0.743923\n",
      "[83]\tvalidation_0-auc:0.857043\tvalidation_1-auc:0.743936\n",
      "[84]\tvalidation_0-auc:0.857679\tvalidation_1-auc:0.744178\n",
      "[85]\tvalidation_0-auc:0.858348\tvalidation_1-auc:0.744007\n",
      "[86]\tvalidation_0-auc:0.859077\tvalidation_1-auc:0.744021\n",
      "[87]\tvalidation_0-auc:0.859738\tvalidation_1-auc:0.744034\n",
      "[88]\tvalidation_0-auc:0.860866\tvalidation_1-auc:0.744082\n",
      "[89]\tvalidation_0-auc:0.861889\tvalidation_1-auc:0.743554\n",
      "[90]\tvalidation_0-auc:0.863252\tvalidation_1-auc:0.743968\n",
      "[91]\tvalidation_0-auc:0.864785\tvalidation_1-auc:0.743993\n",
      "[92]\tvalidation_0-auc:0.865611\tvalidation_1-auc:0.744239\n",
      "[93]\tvalidation_0-auc:0.866167\tvalidation_1-auc:0.744471\n",
      "[94]\tvalidation_0-auc:0.867396\tvalidation_1-auc:0.744296\n",
      "[95]\tvalidation_0-auc:0.868435\tvalidation_1-auc:0.743954\n",
      "[96]\tvalidation_0-auc:0.868897\tvalidation_1-auc:0.74401\n",
      "[97]\tvalidation_0-auc:0.869203\tvalidation_1-auc:0.743822\n",
      "[98]\tvalidation_0-auc:0.869861\tvalidation_1-auc:0.743973\n",
      "[99]\tvalidation_0-auc:0.87045\tvalidation_1-auc:0.743583\n"
     ]
    },
    {
     "data": {
      "text/plain": [
       "XGBClassifier(base_score=0.5, booster='gbtree', colsample_bylevel=1,\n",
       "       colsample_bytree=0.8, gamma=0, learning_rate=0.1, max_delta_step=0,\n",
       "       max_depth=5, min_child_weight=1, missing=None, n_estimators=100,\n",
       "       n_jobs=4, nthread=None, objective='binary:logistic', random_state=0,\n",
       "       reg_alpha=0, reg_lambda=1, scale_pos_weight=1, seed=None,\n",
       "       silent=True, subsample=0.8)"
      ]
     },
     "execution_count": 23,
     "metadata": {},
     "output_type": "execute_result"
    }
   ],
   "source": [
    "params = {'n_estimators': 100,\n",
    "          'learning_rate': 0.1,\n",
    "          'max_depth': 5,\n",
    "          'min_child_weight': 1,\n",
    "          'subsample': 0.8,\n",
    "          'colsample_bytree': 0.8,\n",
    "          'n_jobs': 4}\n",
    "clf_xgb = xgb.XGBClassifier(**params)\n",
    "\n",
    "clf_xgb.fit(X_train, y_train, eval_metric='auc', eval_set=[[X_train, y_train], [X_test, y_test]])"
   ]
  },
  {
   "cell_type": "markdown",
   "metadata": {},
   "source": [
    "Достанем из объекта clf_xgb списки результатов метрик по итерациям, построим графики"
   ]
  },
  {
   "cell_type": "code",
   "execution_count": 24,
   "metadata": {
    "ExecuteTime": {
     "end_time": "2018-04-26T08:37:27.215704Z",
     "start_time": "2018-04-26T08:37:26.815687Z"
    }
   },
   "outputs": [
    {
     "data": {
      "text/plain": [
       "Text(0.5,0,'iteration number')"
      ]
     },
     "execution_count": 24,
     "metadata": {},
     "output_type": "execute_result"
    },
    {
     "data": {
      "image/png": "[encoded data removed]",
      "text/plain": [
       "<matplotlib.figure.Figure at 0x96c5e10>"
      ]
     },
     "metadata": {
      "image/png": {
       "height": 277,
       "width": 380
      }
     },
     "output_type": "display_data"
    },
    {
     "data": {
      "image/png": "[encoded data removed]",
      "text/plain": [
       "<matplotlib.figure.Figure at 0x96cfcf8>"
      ]
     },
     "metadata": {
      "image/png": {
       "height": 277,
       "width": 386
      }
     },
     "output_type": "display_data"
    }
   ],
   "source": [
    "def save_online_metric(clf):\n",
    "    return pd.DataFrame({'train': clf.evals_result()['validation_0']['auc'],\n",
    "                         'test': clf.evals_result()['validation_1']['auc']})\n",
    "res = save_online_metric(clf_xgb)\n",
    "res.plot(title='ROC AUC')\n",
    "plt.xlabel('iteration number')\n",
    "plt.figure()\n",
    "res.test.plot(ylim=(0.73, 0.74), title='ROC AUC TEST')\n",
    "plt.xlabel('iteration number')"
   ]
  },
  {
   "cell_type": "markdown",
   "metadata": {},
   "source": [
    "Нужно побороть переобучение, уменьшим learning_rate. Также уменьшим кол-во деревьев для ускорения обучения"
   ]
  },
  {
   "cell_type": "code",
   "execution_count": 25,
   "metadata": {
    "ExecuteTime": {
     "end_time": "2018-04-26T08:37:46.351543Z",
     "start_time": "2018-04-26T08:37:34.786692Z"
    },
    "scrolled": true
   },
   "outputs": [
    {
     "name": "stdout",
     "output_type": "stream",
     "text": [
      "[0]\tvalidation_0-auc:0.722945\tvalidation_1-auc:0.71799\n",
      "[1]\tvalidation_0-auc:0.736247\tvalidation_1-auc:0.728467\n",
      "[2]\tvalidation_0-auc:0.745095\tvalidation_1-auc:0.731458\n",
      "[3]\tvalidation_0-auc:0.750499\tvalidation_1-auc:0.735368\n",
      "[4]\tvalidation_0-auc:0.751147\tvalidation_1-auc:0.735539\n",
      "[5]\tvalidation_0-auc:0.751404\tvalidation_1-auc:0.734413\n",
      "[6]\tvalidation_0-auc:0.751862\tvalidation_1-auc:0.735741\n",
      "[7]\tvalidation_0-auc:0.752926\tvalidation_1-auc:0.735004\n",
      "[8]\tvalidation_0-auc:0.753503\tvalidation_1-auc:0.735799\n",
      "[9]\tvalidation_0-auc:0.754698\tvalidation_1-auc:0.73702\n",
      "[10]\tvalidation_0-auc:0.755388\tvalidation_1-auc:0.736199\n",
      "[11]\tvalidation_0-auc:0.756022\tvalidation_1-auc:0.735374\n",
      "[12]\tvalidation_0-auc:0.756684\tvalidation_1-auc:0.73562\n",
      "[13]\tvalidation_0-auc:0.757175\tvalidation_1-auc:0.736693\n",
      "[14]\tvalidation_0-auc:0.757316\tvalidation_1-auc:0.736965\n",
      "[15]\tvalidation_0-auc:0.759191\tvalidation_1-auc:0.738105\n",
      "[16]\tvalidation_0-auc:0.759726\tvalidation_1-auc:0.738583\n",
      "[17]\tvalidation_0-auc:0.76103\tvalidation_1-auc:0.740102\n",
      "[18]\tvalidation_0-auc:0.761209\tvalidation_1-auc:0.740381\n",
      "[19]\tvalidation_0-auc:0.761866\tvalidation_1-auc:0.739687\n",
      "[20]\tvalidation_0-auc:0.762195\tvalidation_1-auc:0.740092\n",
      "[21]\tvalidation_0-auc:0.762744\tvalidation_1-auc:0.740004\n",
      "[22]\tvalidation_0-auc:0.763946\tvalidation_1-auc:0.740657\n",
      "[23]\tvalidation_0-auc:0.764735\tvalidation_1-auc:0.741292\n",
      "[24]\tvalidation_0-auc:0.764822\tvalidation_1-auc:0.741521\n",
      "[25]\tvalidation_0-auc:0.765452\tvalidation_1-auc:0.742017\n",
      "[26]\tvalidation_0-auc:0.765842\tvalidation_1-auc:0.74175\n",
      "[27]\tvalidation_0-auc:0.766379\tvalidation_1-auc:0.74188\n",
      "[28]\tvalidation_0-auc:0.766993\tvalidation_1-auc:0.741842\n",
      "[29]\tvalidation_0-auc:0.767002\tvalidation_1-auc:0.742012\n",
      "[30]\tvalidation_0-auc:0.767438\tvalidation_1-auc:0.742234\n",
      "[31]\tvalidation_0-auc:0.767982\tvalidation_1-auc:0.742621\n",
      "[32]\tvalidation_0-auc:0.768295\tvalidation_1-auc:0.742728\n",
      "[33]\tvalidation_0-auc:0.768576\tvalidation_1-auc:0.742808\n",
      "[34]\tvalidation_0-auc:0.769048\tvalidation_1-auc:0.74296\n",
      "[35]\tvalidation_0-auc:0.769685\tvalidation_1-auc:0.743048\n",
      "[36]\tvalidation_0-auc:0.77011\tvalidation_1-auc:0.742884\n",
      "[37]\tvalidation_0-auc:0.770387\tvalidation_1-auc:0.742955\n",
      "[38]\tvalidation_0-auc:0.77075\tvalidation_1-auc:0.743092\n",
      "[39]\tvalidation_0-auc:0.771249\tvalidation_1-auc:0.743243\n",
      "[40]\tvalidation_0-auc:0.771628\tvalidation_1-auc:0.743281\n",
      "[41]\tvalidation_0-auc:0.771756\tvalidation_1-auc:0.743464\n",
      "[42]\tvalidation_0-auc:0.772046\tvalidation_1-auc:0.743667\n",
      "[43]\tvalidation_0-auc:0.772557\tvalidation_1-auc:0.743591\n",
      "[44]\tvalidation_0-auc:0.772998\tvalidation_1-auc:0.74368\n",
      "[45]\tvalidation_0-auc:0.773472\tvalidation_1-auc:0.743978\n",
      "[46]\tvalidation_0-auc:0.773605\tvalidation_1-auc:0.743948\n",
      "[47]\tvalidation_0-auc:0.773868\tvalidation_1-auc:0.743989\n",
      "[48]\tvalidation_0-auc:0.77411\tvalidation_1-auc:0.744244\n",
      "[49]\tvalidation_0-auc:0.774569\tvalidation_1-auc:0.744251\n"
     ]
    }
   ],
   "source": [
    "params = {'n_estimators': 50,\n",
    "          'learning_rate': 0.03,\n",
    "          'max_depth': 5,\n",
    "          'min_child_weight': 1,\n",
    "          'subsample': 0.8,\n",
    "          'colsample_bytree': 0.8,\n",
    "          'n_jobs': 4}\n",
    "clf_xgb = xgb.XGBClassifier(**params)\n",
    "\n",
    "clf_xgb.fit(X_train, y_train, eval_metric='auc', eval_set=[[X_train, y_train], [X_test, y_test]])\n",
    "\n",
    "best_params = params"
   ]
  },
  {
   "cell_type": "markdown",
   "metadata": {
    "ExecuteTime": {
     "end_time": "2018-04-26T00:59:24.922624Z",
     "start_time": "2018-04-26T00:59:24.917104Z"
    }
   },
   "source": [
    "### Перебор параметров по сетке"
   ]
  },
  {
   "cell_type": "markdown",
   "metadata": {},
   "source": [
    "Опишем функцию, похожую на GridSearchCV, только для одной отложенной выборки X_test. Она перебирает параметки по заданной сетке и возврашает лучшие по ROC AUC"
   ]
  },
  {
   "cell_type": "code",
   "execution_count": 26,
   "metadata": {
    "ExecuteTime": {
     "end_time": "2018-04-26T08:37:59.691341Z",
     "start_time": "2018-04-26T08:37:59.675349Z"
    }
   },
   "outputs": [],
   "source": [
    "def find_params(clf, param_grid):\n",
    "    clf = GridSearchCV(clf, param_grid, scoring='roc_auc', cv=[(np.arange(len(X_train)),\n",
    "                                                               np.arange(len(X_test)) + len(X_train))],\n",
    "                  verbose=3)\n",
    "\n",
    "    clf.fit(pd.concat([X_train, X_test]).values, pd.concat([y_train, y_test]).values)\n",
    "    best_params = clf.best_estimator_.get_params()\n",
    "    print('Best test ROC AUC: ', clf.best_score_)\n",
    "    print('Best params: ', best_params)\n",
    "    return best_params"
   ]
  },
  {
   "cell_type": "markdown",
   "metadata": {},
   "source": [
    "**Процесс подбора параметров**:\n",
    "\n",
    "1. Зафиксируем learning_rate и n_estimators, чтобы модель не переобучалась во время итераций\n",
    "2. Настраиваем параметры деревьев: max_depth и min_child_weight\n",
    "3. Настраиваем gamma (опционально)\n",
    "4. Настраиваем subsample и colsample_bytree\n",
    "5. Настраиваем регуляризацию reg_lambda и reg_alpha\n",
    "6. Уменьшаем learning_rate, увеличиваем кол-во деревьев и обучаем заново на лучших параметрах"
   ]
  },
  {
   "cell_type": "markdown",
   "metadata": {
    "ExecuteTime": {
     "end_time": "2018-04-26T01:11:38.717718Z",
     "start_time": "2018-04-26T01:11:38.712703Z"
    }
   },
   "source": [
    "#### Подбираем max_depth и min_child_weight"
   ]
  },
  {
   "cell_type": "code",
   "execution_count": 28,
   "metadata": {
    "ExecuteTime": {
     "end_time": "2018-04-26T05:52:53.749323Z",
     "start_time": "2018-04-26T05:50:39.822382Z"
    },
    "scrolled": false
   },
   "outputs": [
    {
     "name": "stdout",
     "output_type": "stream",
     "text": [
      "Fitting 1 folds for each of 9 candidates, totalling 9 fits\n",
      "[CV] max_depth=3, min_child_weight=10 ................................\n",
      "[CV]  max_depth=3, min_child_weight=10, score=0.7366111218093406, total=   6.9s\n"
     ]
    },
    {
     "name": "stderr",
     "output_type": "stream",
     "text": [
      "[Parallel(n_jobs=1)]: Done   1 out of   1 | elapsed:    7.0s remaining:    0.0s\n"
     ]
    },
    {
     "name": "stdout",
     "output_type": "stream",
     "text": [
      "[CV] max_depth=3, min_child_weight=20 ................................\n",
      "[CV]  max_depth=3, min_child_weight=20, score=0.7366255907264239, total=   5.7s\n"
     ]
    },
    {
     "name": "stderr",
     "output_type": "stream",
     "text": [
      "[Parallel(n_jobs=1)]: Done   2 out of   2 | elapsed:   12.9s remaining:    0.0s\n"
     ]
    },
    {
     "name": "stdout",
     "output_type": "stream",
     "text": [
      "[CV] max_depth=3, min_child_weight=100 ...............................\n",
      "[CV]  max_depth=3, min_child_weight=100, score=0.7358662356507804, total=   5.6s\n",
      "[CV] max_depth=5, min_child_weight=10 ................................\n",
      "[CV]  max_depth=5, min_child_weight=10, score=0.7436548537166177, total=   9.4s\n",
      "[CV] max_depth=5, min_child_weight=20 ................................\n",
      "[CV]  max_depth=5, min_child_weight=20, score=0.7421506124824138, total=   9.2s\n",
      "[CV] max_depth=5, min_child_weight=100 ...............................\n",
      "[CV]  max_depth=5, min_child_weight=100, score=0.7397850760749353, total=   8.7s\n",
      "[CV] max_depth=10, min_child_weight=10 ...............................\n",
      "[CV]  max_depth=10, min_child_weight=10, score=0.7412607740818025, total=  17.8s\n",
      "[CV] max_depth=10, min_child_weight=20 ...............................\n",
      "[CV]  max_depth=10, min_child_weight=20, score=0.7400962893278321, total=  17.4s\n",
      "[CV] max_depth=10, min_child_weight=100 ..............................\n",
      "[CV]  max_depth=10, min_child_weight=100, score=0.7412922110925559, total=  12.4s\n"
     ]
    },
    {
     "name": "stderr",
     "output_type": "stream",
     "text": [
      "[Parallel(n_jobs=1)]: Done   9 out of   9 | elapsed:  1.6min finished\n"
     ]
    },
    {
     "name": "stdout",
     "output_type": "stream",
     "text": [
      "Best test ROC AUC:  0.7436548537166177\n",
      "Best params:  {'base_score': 0.5, 'booster': 'gbtree', 'colsample_bylevel': 1, 'colsample_bytree': 0.8, 'gamma': 0, 'learning_rate': 0.03, 'max_delta_step': 0, 'max_depth': 5, 'min_child_weight': 10, 'missing': None, 'n_estimators': 50, 'n_jobs': 4, 'nthread': None, 'objective': 'binary:logistic', 'random_state': 0, 'reg_alpha': 0, 'reg_lambda': 1, 'scale_pos_weight': 1, 'seed': None, 'silent': True, 'subsample': 0.8}\n"
     ]
    }
   ],
   "source": [
    "from sklearn.model_selection import GridSearchCV\n",
    "\n",
    "clf_xgb = xgb.XGBClassifier(**best_params)\n",
    "\n",
    "param_grid = {\n",
    "    'max_depth': [3, 5, 10],\n",
    "    'min_child_weight': [10, 20, 100]#[1, 5, 10]\n",
    "}\n",
    "\n",
    "best_params = find_params(clf_xgb, param_grid)"
   ]
  },
  {
   "cell_type": "markdown",
   "metadata": {
    "ExecuteTime": {
     "end_time": "2018-04-26T01:11:38.717718Z",
     "start_time": "2018-04-26T01:11:38.712703Z"
    }
   },
   "source": [
    "#### Подбираем gamma"
   ]
  },
  {
   "cell_type": "code",
   "execution_count": 29,
   "metadata": {
    "ExecuteTime": {
     "end_time": "2018-04-26T01:14:34.611791Z",
     "start_time": "2018-04-26T01:13:25.176553Z"
    }
   },
   "outputs": [
    {
     "name": "stdout",
     "output_type": "stream",
     "text": [
      "Fitting 1 folds for each of 5 candidates, totalling 5 fits\n",
      "[CV] gamma=0.0 .......................................................\n",
      "[CV] .............. gamma=0.0, score=0.7436548537166177, total=  10.2s\n"
     ]
    },
    {
     "name": "stderr",
     "output_type": "stream",
     "text": [
      "[Parallel(n_jobs=1)]: Done   1 out of   1 | elapsed:   10.3s remaining:    0.0s\n"
     ]
    },
    {
     "name": "stdout",
     "output_type": "stream",
     "text": [
      "[CV] gamma=0.125 .....................................................\n",
      "[CV] ............ gamma=0.125, score=0.7436367018024589, total=   9.1s\n"
     ]
    },
    {
     "name": "stderr",
     "output_type": "stream",
     "text": [
      "[Parallel(n_jobs=1)]: Done   2 out of   2 | elapsed:   19.6s remaining:    0.0s\n"
     ]
    },
    {
     "name": "stdout",
     "output_type": "stream",
     "text": [
      "[CV] gamma=0.25 ......................................................\n",
      "[CV] ............. gamma=0.25, score=0.7436527491468601, total=   9.4s\n",
      "[CV] gamma=0.375 .....................................................\n",
      "[CV] ............ gamma=0.375, score=0.7436527491468601, total=   9.3s\n",
      "[CV] gamma=0.5 .......................................................\n",
      "[CV] .............. gamma=0.5, score=0.7435460737672746, total=  10.1s\n"
     ]
    },
    {
     "name": "stderr",
     "output_type": "stream",
     "text": [
      "[Parallel(n_jobs=1)]: Done   5 out of   5 | elapsed:   49.1s finished\n"
     ]
    },
    {
     "name": "stdout",
     "output_type": "stream",
     "text": [
      "Best test ROC AUC:  0.7436548537166177\n",
      "Best params:  {'base_score': 0.5, 'booster': 'gbtree', 'colsample_bylevel': 1, 'colsample_bytree': 0.8, 'gamma': 0.0, 'learning_rate': 0.03, 'max_delta_step': 0, 'max_depth': 5, 'min_child_weight': 10, 'missing': None, 'n_estimators': 50, 'n_jobs': 4, 'nthread': None, 'objective': 'binary:logistic', 'random_state': 0, 'reg_alpha': 0, 'reg_lambda': 1, 'scale_pos_weight': 1, 'seed': None, 'silent': True, 'subsample': 0.8}\n"
     ]
    }
   ],
   "source": [
    "clf_xgb = xgb.XGBClassifier(**best_params)\n",
    "\n",
    "param_grid = {\n",
    "    'gamma': np.linspace(0, 0.5, 5)\n",
    "}\n",
    "\n",
    "best_params = find_params(clf_xgb, param_grid)"
   ]
  },
  {
   "cell_type": "markdown",
   "metadata": {
    "ExecuteTime": {
     "end_time": "2018-04-26T04:31:16.807992Z",
     "start_time": "2018-04-26T04:31:16.799971Z"
    }
   },
   "source": [
    "#### Подбираем subsample и colsample_bytree"
   ]
  },
  {
   "cell_type": "code",
   "execution_count": 30,
   "metadata": {
    "ExecuteTime": {
     "end_time": "2018-04-26T04:40:00.461798Z",
     "start_time": "2018-04-26T04:33:42.004822Z"
    }
   },
   "outputs": [
    {
     "name": "stdout",
     "output_type": "stream",
     "text": [
      "Fitting 1 folds for each of 9 candidates, totalling 9 fits\n",
      "[CV] colsample_bytree=0.5, subsample=0.5 .............................\n",
      "[CV]  colsample_bytree=0.5, subsample=0.5, score=0.7418245357056042, total=   8.4s\n"
     ]
    },
    {
     "name": "stderr",
     "output_type": "stream",
     "text": [
      "[Parallel(n_jobs=1)]: Done   1 out of   1 | elapsed:    8.6s remaining:    0.0s\n"
     ]
    },
    {
     "name": "stdout",
     "output_type": "stream",
     "text": [
      "[CV] colsample_bytree=0.5, subsample=0.75 ............................\n",
      "[CV]  colsample_bytree=0.5, subsample=0.75, score=0.7438605754104175, total=   6.1s\n"
     ]
    },
    {
     "name": "stderr",
     "output_type": "stream",
     "text": [
      "[Parallel(n_jobs=1)]: Done   2 out of   2 | elapsed:   14.9s remaining:    0.0s\n"
     ]
    },
    {
     "name": "stdout",
     "output_type": "stream",
     "text": [
      "[CV] colsample_bytree=0.5, subsample=1.0 .............................\n",
      "[CV]  colsample_bytree=0.5, subsample=1.0, score=0.7430183529005706, total=   6.2s\n",
      "[CV] colsample_bytree=0.75, subsample=0.5 ............................\n",
      "[CV]  colsample_bytree=0.75, subsample=0.5, score=0.7404460425144137, total=   8.1s\n",
      "[CV] colsample_bytree=0.75, subsample=0.75 ...........................\n",
      "[CV]  colsample_bytree=0.75, subsample=0.75, score=0.7425170706914459, total=   9.3s\n",
      "[CV] colsample_bytree=0.75, subsample=1.0 ............................\n",
      "[CV]  colsample_bytree=0.75, subsample=1.0, score=0.7427075342545035, total=   9.6s\n",
      "[CV] colsample_bytree=1.0, subsample=0.5 .............................\n",
      "[CV]  colsample_bytree=1.0, subsample=0.5, score=0.7377854717340497, total=  10.5s\n",
      "[CV] colsample_bytree=1.0, subsample=0.75 ............................\n",
      "[CV]  colsample_bytree=1.0, subsample=0.75, score=0.7391598873213352, total=  12.2s\n",
      "[CV] colsample_bytree=1.0, subsample=1.0 .............................\n",
      "[CV]  colsample_bytree=1.0, subsample=1.0, score=0.7404602483602771, total=  11.6s\n"
     ]
    },
    {
     "name": "stderr",
     "output_type": "stream",
     "text": [
      "[Parallel(n_jobs=1)]: Done   9 out of   9 | elapsed:  1.4min finished\n"
     ]
    },
    {
     "name": "stdout",
     "output_type": "stream",
     "text": [
      "Best test ROC AUC:  0.7438605754104175\n",
      "Best params:  {'base_score': 0.5, 'booster': 'gbtree', 'colsample_bylevel': 1, 'colsample_bytree': 0.5, 'gamma': 0.0, 'learning_rate': 0.03, 'max_delta_step': 0, 'max_depth': 5, 'min_child_weight': 10, 'missing': None, 'n_estimators': 50, 'n_jobs': 4, 'nthread': None, 'objective': 'binary:logistic', 'random_state': 0, 'reg_alpha': 0, 'reg_lambda': 1, 'scale_pos_weight': 1, 'seed': None, 'silent': True, 'subsample': 0.75}\n"
     ]
    }
   ],
   "source": [
    "clf_xgb = xgb.XGBClassifier(**best_params)\n",
    "\n",
    "param_grid = {\n",
    "    'subsample': np.linspace(0.5, 1, 3),\n",
    "    'colsample_bytree': np.linspace(0.5, 1, 3)\n",
    "}\n",
    "\n",
    "best_params = find_params(clf_xgb, param_grid)"
   ]
  },
  {
   "cell_type": "markdown",
   "metadata": {
    "ExecuteTime": {
     "end_time": "2018-04-26T04:31:16.807992Z",
     "start_time": "2018-04-26T04:31:16.799971Z"
    }
   },
   "source": [
    "#### Подбираем регуляризацию: reg_lambda и reg_alpha"
   ]
  },
  {
   "cell_type": "code",
   "execution_count": 31,
   "metadata": {
    "ExecuteTime": {
     "end_time": "2018-04-26T04:57:44.713647Z",
     "start_time": "2018-04-26T04:50:45.517400Z"
    },
    "scrolled": true
   },
   "outputs": [
    {
     "name": "stdout",
     "output_type": "stream",
     "text": [
      "Fitting 1 folds for each of 16 candidates, totalling 16 fits\n",
      "[CV] reg_alpha=0, reg_lambda=0 .......................................\n",
      "[CV]  reg_alpha=0, reg_lambda=0, score=0.7434533411623327, total=   7.1s\n"
     ]
    },
    {
     "name": "stderr",
     "output_type": "stream",
     "text": [
      "[Parallel(n_jobs=1)]: Done   1 out of   1 | elapsed:    7.2s remaining:    0.0s\n"
     ]
    },
    {
     "name": "stdout",
     "output_type": "stream",
     "text": [
      "[CV] reg_alpha=0, reg_lambda=0.001 ...................................\n",
      "[CV]  reg_alpha=0, reg_lambda=0.001, score=0.7434514996637949, total=   6.1s\n"
     ]
    },
    {
     "name": "stderr",
     "output_type": "stream",
     "text": [
      "[Parallel(n_jobs=1)]: Done   2 out of   2 | elapsed:   13.5s remaining:    0.0s\n"
     ]
    },
    {
     "name": "stdout",
     "output_type": "stream",
     "text": [
      "[CV] reg_alpha=0, reg_lambda=0.1 .....................................\n",
      "[CV]  reg_alpha=0, reg_lambda=0.1, score=0.7436585367136932, total=   6.1s\n",
      "[CV] reg_alpha=0, reg_lambda=1 .......................................\n",
      "[CV]  reg_alpha=0, reg_lambda=1, score=0.7438605754104175, total=   6.1s\n",
      "[CV] reg_alpha=0.001, reg_lambda=0 ...................................\n",
      "[CV]  reg_alpha=0.001, reg_lambda=0, score=0.7434517627350147, total=   6.5s\n",
      "[CV] reg_alpha=0.001, reg_lambda=0.001 ...............................\n",
      "[CV]  reg_alpha=0.001, reg_lambda=0.001, score=0.7434513681281851, total=   8.0s\n",
      "[CV] reg_alpha=0.001, reg_lambda=0.1 .................................\n",
      "[CV]  reg_alpha=0.001, reg_lambda=0.1, score=0.7436584051780835, total=   8.1s\n",
      "[CV] reg_alpha=0.001, reg_lambda=1 ...................................\n",
      "[CV]  reg_alpha=0.001, reg_lambda=1, score=0.7438608384816371, total=   6.6s\n",
      "[CV] reg_alpha=0.1, reg_lambda=0 .....................................\n",
      "[CV]  reg_alpha=0.1, reg_lambda=0, score=0.7436780039839506, total=   7.0s\n",
      "[CV] reg_alpha=0.1, reg_lambda=0.001 .................................\n",
      "[CV]  reg_alpha=0.1, reg_lambda=0.001, score=0.7440221011393089, total=   6.4s\n",
      "[CV] reg_alpha=0.1, reg_lambda=0.1 ...................................\n",
      "[CV]  reg_alpha=0.1, reg_lambda=0.1, score=0.7439208187197272, total=   6.8s\n",
      "[CV] reg_alpha=0.1, reg_lambda=1 .....................................\n",
      "[CV]  reg_alpha=0.1, reg_lambda=1, score=0.7440644556056794, total=   7.0s\n",
      "[CV] reg_alpha=1, reg_lambda=0 .......................................\n",
      "[CV]  reg_alpha=1, reg_lambda=0, score=0.7438390035704026, total=   7.4s\n",
      "[CV] reg_alpha=1, reg_lambda=0.001 ...................................\n",
      "[CV]  reg_alpha=1, reg_lambda=0.001, score=0.7438393981772321, total=   7.5s\n",
      "[CV] reg_alpha=1, reg_lambda=0.1 .....................................\n",
      "[CV]  reg_alpha=1, reg_lambda=0.1, score=0.7440243372446762, total=   7.3s\n",
      "[CV] reg_alpha=1, reg_lambda=1 .......................................\n",
      "[CV]  reg_alpha=1, reg_lambda=1, score=0.7436623512463789, total=   7.1s\n"
     ]
    },
    {
     "name": "stderr",
     "output_type": "stream",
     "text": [
      "[Parallel(n_jobs=1)]: Done  16 out of  16 | elapsed:  1.9min finished\n"
     ]
    },
    {
     "name": "stdout",
     "output_type": "stream",
     "text": [
      "Best test ROC AUC:  0.7440644556056794\n",
      "Best params:  {'base_score': 0.5, 'booster': 'gbtree', 'colsample_bylevel': 1, 'colsample_bytree': 0.5, 'gamma': 0.0, 'learning_rate': 0.03, 'max_delta_step': 0, 'max_depth': 5, 'min_child_weight': 10, 'missing': None, 'n_estimators': 50, 'n_jobs': 4, 'nthread': None, 'objective': 'binary:logistic', 'random_state': 0, 'reg_alpha': 0.1, 'reg_lambda': 1, 'scale_pos_weight': 1, 'seed': None, 'silent': True, 'subsample': 0.75}\n"
     ]
    }
   ],
   "source": [
    "clf_xgb = xgb.XGBClassifier(**best_params)\n",
    "\n",
    "param_grid = {\n",
    "    'reg_alpha': [0, 0.001, 0.1, 1],\n",
    "    'reg_lambda': [0, 0.001, 0.1, 1]\n",
    "}\n",
    "\n",
    "best_params = find_params(clf_xgb, param_grid)"
   ]
  },
  {
   "cell_type": "markdown",
   "metadata": {
    "ExecuteTime": {
     "end_time": "2018-04-26T04:31:16.807992Z",
     "start_time": "2018-04-26T04:31:16.799971Z"
    }
   },
   "source": [
    "#### Уменьшим learning_rate"
   ]
  },
  {
   "cell_type": "code",
   "execution_count": 32,
   "metadata": {
    "ExecuteTime": {
     "end_time": "2018-04-26T08:39:19.973738Z",
     "start_time": "2018-04-26T08:39:11.774381Z"
    }
   },
   "outputs": [
    {
     "name": "stdout",
     "output_type": "stream",
     "text": [
      "[0]\tvalidation_0-auc:0.724422\tvalidation_1-auc:0.718837\n",
      "[1]\tvalidation_0-auc:0.73456\tvalidation_1-auc:0.720338\n",
      "[2]\tvalidation_0-auc:0.733187\tvalidation_1-auc:0.719683\n",
      "[3]\tvalidation_0-auc:0.745425\tvalidation_1-auc:0.730493\n",
      "[4]\tvalidation_0-auc:0.749855\tvalidation_1-auc:0.735448\n",
      "[5]\tvalidation_0-auc:0.750061\tvalidation_1-auc:0.73625\n",
      "[6]\tvalidation_0-auc:0.751189\tvalidation_1-auc:0.738318\n",
      "[7]\tvalidation_0-auc:0.751831\tvalidation_1-auc:0.739025\n",
      "[8]\tvalidation_0-auc:0.752557\tvalidation_1-auc:0.738981\n",
      "[9]\tvalidation_0-auc:0.753708\tvalidation_1-auc:0.739313\n",
      "[10]\tvalidation_0-auc:0.753385\tvalidation_1-auc:0.73893\n",
      "[11]\tvalidation_0-auc:0.753365\tvalidation_1-auc:0.738403\n",
      "[12]\tvalidation_0-auc:0.753665\tvalidation_1-auc:0.739159\n",
      "[13]\tvalidation_0-auc:0.754557\tvalidation_1-auc:0.73993\n",
      "[14]\tvalidation_0-auc:0.754386\tvalidation_1-auc:0.74048\n",
      "[15]\tvalidation_0-auc:0.75485\tvalidation_1-auc:0.740406\n",
      "[16]\tvalidation_0-auc:0.755155\tvalidation_1-auc:0.740393\n",
      "[17]\tvalidation_0-auc:0.755072\tvalidation_1-auc:0.740575\n",
      "[18]\tvalidation_0-auc:0.754845\tvalidation_1-auc:0.740775\n",
      "[19]\tvalidation_0-auc:0.755136\tvalidation_1-auc:0.740384\n",
      "[20]\tvalidation_0-auc:0.755381\tvalidation_1-auc:0.740595\n",
      "[21]\tvalidation_0-auc:0.755574\tvalidation_1-auc:0.740921\n",
      "[22]\tvalidation_0-auc:0.755837\tvalidation_1-auc:0.740821\n",
      "[23]\tvalidation_0-auc:0.75605\tvalidation_1-auc:0.740822\n",
      "[24]\tvalidation_0-auc:0.756512\tvalidation_1-auc:0.741175\n",
      "[25]\tvalidation_0-auc:0.756694\tvalidation_1-auc:0.74094\n",
      "[26]\tvalidation_0-auc:0.756846\tvalidation_1-auc:0.740994\n",
      "[27]\tvalidation_0-auc:0.757217\tvalidation_1-auc:0.740894\n",
      "[28]\tvalidation_0-auc:0.757163\tvalidation_1-auc:0.740765\n",
      "[29]\tvalidation_0-auc:0.757547\tvalidation_1-auc:0.740934\n",
      "[30]\tvalidation_0-auc:0.75792\tvalidation_1-auc:0.741025\n",
      "[31]\tvalidation_0-auc:0.757945\tvalidation_1-auc:0.740952\n",
      "[32]\tvalidation_0-auc:0.758138\tvalidation_1-auc:0.741406\n",
      "[33]\tvalidation_0-auc:0.758406\tvalidation_1-auc:0.741063\n",
      "[34]\tvalidation_0-auc:0.758853\tvalidation_1-auc:0.741171\n",
      "[35]\tvalidation_0-auc:0.758916\tvalidation_1-auc:0.741109\n",
      "[36]\tvalidation_0-auc:0.75907\tvalidation_1-auc:0.741222\n",
      "[37]\tvalidation_0-auc:0.759071\tvalidation_1-auc:0.741004\n",
      "[38]\tvalidation_0-auc:0.759116\tvalidation_1-auc:0.741028\n",
      "[39]\tvalidation_0-auc:0.759425\tvalidation_1-auc:0.740985\n",
      "[40]\tvalidation_0-auc:0.759521\tvalidation_1-auc:0.740883\n",
      "[41]\tvalidation_0-auc:0.759734\tvalidation_1-auc:0.740915\n",
      "[42]\tvalidation_0-auc:0.759809\tvalidation_1-auc:0.741053\n",
      "[43]\tvalidation_0-auc:0.759811\tvalidation_1-auc:0.741064\n",
      "[44]\tvalidation_0-auc:0.759727\tvalidation_1-auc:0.741152\n",
      "[45]\tvalidation_0-auc:0.759757\tvalidation_1-auc:0.740974\n",
      "[46]\tvalidation_0-auc:0.759893\tvalidation_1-auc:0.74095\n",
      "[47]\tvalidation_0-auc:0.760015\tvalidation_1-auc:0.74115\n",
      "[48]\tvalidation_0-auc:0.760297\tvalidation_1-auc:0.741541\n",
      "[49]\tvalidation_0-auc:0.760387\tvalidation_1-auc:0.741582\n",
      "[50]\tvalidation_0-auc:0.760457\tvalidation_1-auc:0.741601\n",
      "[51]\tvalidation_0-auc:0.760604\tvalidation_1-auc:0.741726\n",
      "[52]\tvalidation_0-auc:0.760822\tvalidation_1-auc:0.741894\n",
      "[53]\tvalidation_0-auc:0.76106\tvalidation_1-auc:0.741984\n",
      "[54]\tvalidation_0-auc:0.761158\tvalidation_1-auc:0.742152\n",
      "[55]\tvalidation_0-auc:0.761347\tvalidation_1-auc:0.742253\n",
      "[56]\tvalidation_0-auc:0.761321\tvalidation_1-auc:0.742056\n",
      "[57]\tvalidation_0-auc:0.761467\tvalidation_1-auc:0.742195\n",
      "[58]\tvalidation_0-auc:0.761456\tvalidation_1-auc:0.742181\n",
      "[59]\tvalidation_0-auc:0.761376\tvalidation_1-auc:0.742289\n",
      "[60]\tvalidation_0-auc:0.761446\tvalidation_1-auc:0.742026\n",
      "[61]\tvalidation_0-auc:0.761415\tvalidation_1-auc:0.742141\n",
      "[62]\tvalidation_0-auc:0.761629\tvalidation_1-auc:0.742131\n",
      "[63]\tvalidation_0-auc:0.761738\tvalidation_1-auc:0.742359\n",
      "[64]\tvalidation_0-auc:0.762046\tvalidation_1-auc:0.742537\n",
      "[65]\tvalidation_0-auc:0.762227\tvalidation_1-auc:0.742477\n",
      "[66]\tvalidation_0-auc:0.762258\tvalidation_1-auc:0.742553\n",
      "[67]\tvalidation_0-auc:0.762229\tvalidation_1-auc:0.74236\n",
      "[68]\tvalidation_0-auc:0.762368\tvalidation_1-auc:0.742289\n",
      "[69]\tvalidation_0-auc:0.762549\tvalidation_1-auc:0.742387\n",
      "[70]\tvalidation_0-auc:0.762754\tvalidation_1-auc:0.742377\n",
      "[71]\tvalidation_0-auc:0.763072\tvalidation_1-auc:0.742358\n",
      "[72]\tvalidation_0-auc:0.763163\tvalidation_1-auc:0.742657\n",
      "[73]\tvalidation_0-auc:0.763251\tvalidation_1-auc:0.742707\n",
      "[74]\tvalidation_0-auc:0.763314\tvalidation_1-auc:0.742646\n",
      "[75]\tvalidation_0-auc:0.7635\tvalidation_1-auc:0.742702\n",
      "[76]\tvalidation_0-auc:0.763687\tvalidation_1-auc:0.742858\n",
      "[77]\tvalidation_0-auc:0.763766\tvalidation_1-auc:0.742759\n",
      "[78]\tvalidation_0-auc:0.7639\tvalidation_1-auc:0.742767\n",
      "[79]\tvalidation_0-auc:0.763991\tvalidation_1-auc:0.742802\n",
      "[80]\tvalidation_0-auc:0.763999\tvalidation_1-auc:0.742873\n",
      "[81]\tvalidation_0-auc:0.764073\tvalidation_1-auc:0.742949\n",
      "[82]\tvalidation_0-auc:0.764103\tvalidation_1-auc:0.742936\n",
      "[83]\tvalidation_0-auc:0.764257\tvalidation_1-auc:0.742945\n",
      "[84]\tvalidation_0-auc:0.764334\tvalidation_1-auc:0.742965\n",
      "[85]\tvalidation_0-auc:0.764479\tvalidation_1-auc:0.743077\n",
      "[86]\tvalidation_0-auc:0.764437\tvalidation_1-auc:0.74299\n",
      "[87]\tvalidation_0-auc:0.764609\tvalidation_1-auc:0.742957\n",
      "[88]\tvalidation_0-auc:0.764703\tvalidation_1-auc:0.742991\n",
      "[89]\tvalidation_0-auc:0.764787\tvalidation_1-auc:0.743062\n",
      "[90]\tvalidation_0-auc:0.76488\tvalidation_1-auc:0.742925\n",
      "[91]\tvalidation_0-auc:0.764888\tvalidation_1-auc:0.743063\n",
      "[92]\tvalidation_0-auc:0.764972\tvalidation_1-auc:0.743203\n",
      "[93]\tvalidation_0-auc:0.765143\tvalidation_1-auc:0.743248\n",
      "[94]\tvalidation_0-auc:0.765258\tvalidation_1-auc:0.743414\n",
      "[95]\tvalidation_0-auc:0.765349\tvalidation_1-auc:0.743433\n",
      "[96]\tvalidation_0-auc:0.765451\tvalidation_1-auc:0.743495\n",
      "[97]\tvalidation_0-auc:0.765577\tvalidation_1-auc:0.743544\n",
      "[98]\tvalidation_0-auc:0.765599\tvalidation_1-auc:0.743577\n",
      "[99]\tvalidation_0-auc:0.765675\tvalidation_1-auc:0.743599\n",
      "[100]\tvalidation_0-auc:0.765857\tvalidation_1-auc:0.743493\n",
      "[101]\tvalidation_0-auc:0.766027\tvalidation_1-auc:0.743509\n",
      "[102]\tvalidation_0-auc:0.766052\tvalidation_1-auc:0.743486\n",
      "[103]\tvalidation_0-auc:0.766221\tvalidation_1-auc:0.74346\n",
      "[104]\tvalidation_0-auc:0.76628\tvalidation_1-auc:0.743403\n",
      "[105]\tvalidation_0-auc:0.766453\tvalidation_1-auc:0.743675\n",
      "[106]\tvalidation_0-auc:0.766476\tvalidation_1-auc:0.743668\n",
      "[107]\tvalidation_0-auc:0.766608\tvalidation_1-auc:0.743708\n",
      "[108]\tvalidation_0-auc:0.766732\tvalidation_1-auc:0.743602\n",
      "[109]\tvalidation_0-auc:0.766874\tvalidation_1-auc:0.743576\n",
      "[110]\tvalidation_0-auc:0.76702\tvalidation_1-auc:0.743611\n",
      "[111]\tvalidation_0-auc:0.767121\tvalidation_1-auc:0.743524\n",
      "[112]\tvalidation_0-auc:0.767216\tvalidation_1-auc:0.74366\n",
      "[113]\tvalidation_0-auc:0.767281\tvalidation_1-auc:0.743547\n",
      "[114]\tvalidation_0-auc:0.76753\tvalidation_1-auc:0.743539\n",
      "[115]\tvalidation_0-auc:0.767632\tvalidation_1-auc:0.743509\n",
      "[116]\tvalidation_0-auc:0.767828\tvalidation_1-auc:0.743491\n",
      "[117]\tvalidation_0-auc:0.767927\tvalidation_1-auc:0.7435\n",
      "[118]\tvalidation_0-auc:0.76801\tvalidation_1-auc:0.743416\n",
      "[119]\tvalidation_0-auc:0.768166\tvalidation_1-auc:0.743497\n",
      "[120]\tvalidation_0-auc:0.768207\tvalidation_1-auc:0.743428\n",
      "[121]\tvalidation_0-auc:0.76838\tvalidation_1-auc:0.743512\n",
      "[122]\tvalidation_0-auc:0.768445\tvalidation_1-auc:0.743602\n",
      "[123]\tvalidation_0-auc:0.768606\tvalidation_1-auc:0.743732\n",
      "[124]\tvalidation_0-auc:0.768671\tvalidation_1-auc:0.743787\n",
      "[125]\tvalidation_0-auc:0.768762\tvalidation_1-auc:0.743804\n",
      "[126]\tvalidation_0-auc:0.768939\tvalidation_1-auc:0.743805\n",
      "[127]\tvalidation_0-auc:0.769095\tvalidation_1-auc:0.743774\n",
      "[128]\tvalidation_0-auc:0.769181\tvalidation_1-auc:0.743837\n",
      "[129]\tvalidation_0-auc:0.769305\tvalidation_1-auc:0.743883\n",
      "[130]\tvalidation_0-auc:0.769402\tvalidation_1-auc:0.743861\n",
      "[131]\tvalidation_0-auc:0.769528\tvalidation_1-auc:0.743973\n",
      "[132]\tvalidation_0-auc:0.769657\tvalidation_1-auc:0.744042\n",
      "[133]\tvalidation_0-auc:0.769785\tvalidation_1-auc:0.744133\n",
      "[134]\tvalidation_0-auc:0.76984\tvalidation_1-auc:0.744195\n",
      "[135]\tvalidation_0-auc:0.769937\tvalidation_1-auc:0.744335\n",
      "[136]\tvalidation_0-auc:0.76999\tvalidation_1-auc:0.744433\n",
      "[137]\tvalidation_0-auc:0.770082\tvalidation_1-auc:0.744528\n",
      "[138]\tvalidation_0-auc:0.77026\tvalidation_1-auc:0.74458\n",
      "[139]\tvalidation_0-auc:0.770387\tvalidation_1-auc:0.744569\n",
      "[140]\tvalidation_0-auc:0.770509\tvalidation_1-auc:0.744613\n",
      "[141]\tvalidation_0-auc:0.770641\tvalidation_1-auc:0.744541\n",
      "[142]\tvalidation_0-auc:0.770717\tvalidation_1-auc:0.744526\n",
      "[143]\tvalidation_0-auc:0.770835\tvalidation_1-auc:0.74462\n"
     ]
    },
    {
     "name": "stdout",
     "output_type": "stream",
     "text": [
      "[144]\tvalidation_0-auc:0.770978\tvalidation_1-auc:0.744685\n",
      "[145]\tvalidation_0-auc:0.771122\tvalidation_1-auc:0.744672\n",
      "[146]\tvalidation_0-auc:0.771165\tvalidation_1-auc:0.744709\n",
      "[147]\tvalidation_0-auc:0.771293\tvalidation_1-auc:0.744748\n",
      "[148]\tvalidation_0-auc:0.771376\tvalidation_1-auc:0.744701\n",
      "[149]\tvalidation_0-auc:0.771457\tvalidation_1-auc:0.744661\n",
      "[150]\tvalidation_0-auc:0.771632\tvalidation_1-auc:0.744753\n",
      "[151]\tvalidation_0-auc:0.7717\tvalidation_1-auc:0.744778\n",
      "[152]\tvalidation_0-auc:0.771828\tvalidation_1-auc:0.744792\n",
      "[153]\tvalidation_0-auc:0.771939\tvalidation_1-auc:0.74482\n",
      "[154]\tvalidation_0-auc:0.772005\tvalidation_1-auc:0.744809\n",
      "[155]\tvalidation_0-auc:0.7721\tvalidation_1-auc:0.744916\n",
      "[156]\tvalidation_0-auc:0.772095\tvalidation_1-auc:0.744946\n",
      "[157]\tvalidation_0-auc:0.772165\tvalidation_1-auc:0.744929\n",
      "[158]\tvalidation_0-auc:0.772262\tvalidation_1-auc:0.74497\n",
      "[159]\tvalidation_0-auc:0.772384\tvalidation_1-auc:0.744948\n",
      "[160]\tvalidation_0-auc:0.77248\tvalidation_1-auc:0.744953\n",
      "[161]\tvalidation_0-auc:0.772538\tvalidation_1-auc:0.744941\n",
      "[162]\tvalidation_0-auc:0.772688\tvalidation_1-auc:0.744954\n",
      "[163]\tvalidation_0-auc:0.772771\tvalidation_1-auc:0.744954\n",
      "[164]\tvalidation_0-auc:0.772835\tvalidation_1-auc:0.745002\n",
      "[165]\tvalidation_0-auc:0.772943\tvalidation_1-auc:0.745071\n",
      "[166]\tvalidation_0-auc:0.773049\tvalidation_1-auc:0.745016\n",
      "[167]\tvalidation_0-auc:0.773149\tvalidation_1-auc:0.744922\n",
      "[168]\tvalidation_0-auc:0.773266\tvalidation_1-auc:0.744899\n",
      "[169]\tvalidation_0-auc:0.773354\tvalidation_1-auc:0.744841\n",
      "[170]\tvalidation_0-auc:0.773379\tvalidation_1-auc:0.744869\n",
      "[171]\tvalidation_0-auc:0.773559\tvalidation_1-auc:0.744904\n",
      "[172]\tvalidation_0-auc:0.773633\tvalidation_1-auc:0.744938\n",
      "[173]\tvalidation_0-auc:0.773764\tvalidation_1-auc:0.744935\n",
      "[174]\tvalidation_0-auc:0.773931\tvalidation_1-auc:0.744957\n",
      "[175]\tvalidation_0-auc:0.774027\tvalidation_1-auc:0.744946\n",
      "[176]\tvalidation_0-auc:0.774155\tvalidation_1-auc:0.74493\n",
      "[177]\tvalidation_0-auc:0.774208\tvalidation_1-auc:0.744876\n",
      "[178]\tvalidation_0-auc:0.774305\tvalidation_1-auc:0.744956\n",
      "[179]\tvalidation_0-auc:0.774402\tvalidation_1-auc:0.74489\n",
      "[180]\tvalidation_0-auc:0.774572\tvalidation_1-auc:0.744919\n",
      "[181]\tvalidation_0-auc:0.774674\tvalidation_1-auc:0.744949\n",
      "[182]\tvalidation_0-auc:0.774813\tvalidation_1-auc:0.744947\n",
      "[183]\tvalidation_0-auc:0.774899\tvalidation_1-auc:0.745003\n",
      "[184]\tvalidation_0-auc:0.77504\tvalidation_1-auc:0.745014\n",
      "[185]\tvalidation_0-auc:0.775163\tvalidation_1-auc:0.745022\n",
      "[186]\tvalidation_0-auc:0.775285\tvalidation_1-auc:0.745021\n",
      "[187]\tvalidation_0-auc:0.775353\tvalidation_1-auc:0.745017\n",
      "[188]\tvalidation_0-auc:0.77549\tvalidation_1-auc:0.745048\n",
      "[189]\tvalidation_0-auc:0.775581\tvalidation_1-auc:0.745025\n",
      "[190]\tvalidation_0-auc:0.775702\tvalidation_1-auc:0.745044\n",
      "[191]\tvalidation_0-auc:0.775801\tvalidation_1-auc:0.745041\n",
      "[192]\tvalidation_0-auc:0.775814\tvalidation_1-auc:0.745019\n",
      "[193]\tvalidation_0-auc:0.775939\tvalidation_1-auc:0.745028\n",
      "[194]\tvalidation_0-auc:0.776051\tvalidation_1-auc:0.745068\n",
      "[195]\tvalidation_0-auc:0.776139\tvalidation_1-auc:0.745081\n",
      "[196]\tvalidation_0-auc:0.776238\tvalidation_1-auc:0.745059\n",
      "[197]\tvalidation_0-auc:0.776315\tvalidation_1-auc:0.745013\n",
      "[198]\tvalidation_0-auc:0.776432\tvalidation_1-auc:0.745027\n",
      "[199]\tvalidation_0-auc:0.77655\tvalidation_1-auc:0.745098\n",
      "[200]\tvalidation_0-auc:0.776599\tvalidation_1-auc:0.745131\n",
      "[201]\tvalidation_0-auc:0.776653\tvalidation_1-auc:0.745138\n",
      "[202]\tvalidation_0-auc:0.776727\tvalidation_1-auc:0.74509\n",
      "[203]\tvalidation_0-auc:0.776817\tvalidation_1-auc:0.745151\n",
      "[204]\tvalidation_0-auc:0.776918\tvalidation_1-auc:0.745161\n",
      "[205]\tvalidation_0-auc:0.777045\tvalidation_1-auc:0.745118\n",
      "[206]\tvalidation_0-auc:0.777149\tvalidation_1-auc:0.745138\n",
      "[207]\tvalidation_0-auc:0.777219\tvalidation_1-auc:0.745165\n",
      "[208]\tvalidation_0-auc:0.777324\tvalidation_1-auc:0.745222\n",
      "[209]\tvalidation_0-auc:0.777396\tvalidation_1-auc:0.745202\n",
      "[210]\tvalidation_0-auc:0.777498\tvalidation_1-auc:0.745135\n",
      "[211]\tvalidation_0-auc:0.777593\tvalidation_1-auc:0.745109\n",
      "[212]\tvalidation_0-auc:0.777663\tvalidation_1-auc:0.745237\n",
      "[213]\tvalidation_0-auc:0.777755\tvalidation_1-auc:0.74523\n",
      "[214]\tvalidation_0-auc:0.777951\tvalidation_1-auc:0.745225\n",
      "[215]\tvalidation_0-auc:0.778013\tvalidation_1-auc:0.745263\n",
      "[216]\tvalidation_0-auc:0.778106\tvalidation_1-auc:0.745254\n",
      "[217]\tvalidation_0-auc:0.778203\tvalidation_1-auc:0.745259\n",
      "[218]\tvalidation_0-auc:0.77834\tvalidation_1-auc:0.745194\n",
      "[219]\tvalidation_0-auc:0.778496\tvalidation_1-auc:0.745202\n",
      "[220]\tvalidation_0-auc:0.7786\tvalidation_1-auc:0.745248\n",
      "[221]\tvalidation_0-auc:0.778675\tvalidation_1-auc:0.745222\n",
      "[222]\tvalidation_0-auc:0.778774\tvalidation_1-auc:0.745235\n",
      "[223]\tvalidation_0-auc:0.7788\tvalidation_1-auc:0.745215\n",
      "[224]\tvalidation_0-auc:0.778917\tvalidation_1-auc:0.745228\n",
      "[225]\tvalidation_0-auc:0.77899\tvalidation_1-auc:0.745115\n",
      "[226]\tvalidation_0-auc:0.77903\tvalidation_1-auc:0.745142\n",
      "[227]\tvalidation_0-auc:0.779132\tvalidation_1-auc:0.745124\n",
      "[228]\tvalidation_0-auc:0.779265\tvalidation_1-auc:0.745121\n",
      "[229]\tvalidation_0-auc:0.779345\tvalidation_1-auc:0.745095\n",
      "[230]\tvalidation_0-auc:0.779375\tvalidation_1-auc:0.745127\n",
      "[231]\tvalidation_0-auc:0.779485\tvalidation_1-auc:0.745231\n",
      "[232]\tvalidation_0-auc:0.779599\tvalidation_1-auc:0.745196\n",
      "[233]\tvalidation_0-auc:0.779762\tvalidation_1-auc:0.745232\n",
      "[234]\tvalidation_0-auc:0.779869\tvalidation_1-auc:0.74521\n",
      "[235]\tvalidation_0-auc:0.779953\tvalidation_1-auc:0.7452\n",
      "[236]\tvalidation_0-auc:0.780029\tvalidation_1-auc:0.74524\n",
      "[237]\tvalidation_0-auc:0.780131\tvalidation_1-auc:0.745202\n",
      "[238]\tvalidation_0-auc:0.780235\tvalidation_1-auc:0.745134\n",
      "[239]\tvalidation_0-auc:0.780322\tvalidation_1-auc:0.745062\n",
      "[240]\tvalidation_0-auc:0.780428\tvalidation_1-auc:0.745046\n",
      "[241]\tvalidation_0-auc:0.780555\tvalidation_1-auc:0.744986\n",
      "[242]\tvalidation_0-auc:0.780606\tvalidation_1-auc:0.744953\n",
      "[243]\tvalidation_0-auc:0.780726\tvalidation_1-auc:0.744975\n",
      "[244]\tvalidation_0-auc:0.780821\tvalidation_1-auc:0.74498\n",
      "[245]\tvalidation_0-auc:0.780888\tvalidation_1-auc:0.744967\n",
      "[246]\tvalidation_0-auc:0.78101\tvalidation_1-auc:0.744981\n",
      "[247]\tvalidation_0-auc:0.781109\tvalidation_1-auc:0.745046\n",
      "[248]\tvalidation_0-auc:0.781258\tvalidation_1-auc:0.74512\n",
      "[249]\tvalidation_0-auc:0.781372\tvalidation_1-auc:0.745119\n",
      "[250]\tvalidation_0-auc:0.781531\tvalidation_1-auc:0.745205\n",
      "[251]\tvalidation_0-auc:0.781671\tvalidation_1-auc:0.745192\n",
      "[252]\tvalidation_0-auc:0.781794\tvalidation_1-auc:0.745224\n",
      "[253]\tvalidation_0-auc:0.781922\tvalidation_1-auc:0.74521\n",
      "[254]\tvalidation_0-auc:0.782021\tvalidation_1-auc:0.745268\n",
      "[255]\tvalidation_0-auc:0.782125\tvalidation_1-auc:0.745265\n",
      "[256]\tvalidation_0-auc:0.782259\tvalidation_1-auc:0.74525\n",
      "[257]\tvalidation_0-auc:0.782341\tvalidation_1-auc:0.745255\n",
      "[258]\tvalidation_0-auc:0.782473\tvalidation_1-auc:0.74531\n",
      "[259]\tvalidation_0-auc:0.782569\tvalidation_1-auc:0.745322\n",
      "[260]\tvalidation_0-auc:0.782705\tvalidation_1-auc:0.745338\n",
      "[261]\tvalidation_0-auc:0.782857\tvalidation_1-auc:0.745363\n",
      "[262]\tvalidation_0-auc:0.782978\tvalidation_1-auc:0.745359\n",
      "[263]\tvalidation_0-auc:0.783051\tvalidation_1-auc:0.745389\n",
      "[264]\tvalidation_0-auc:0.783103\tvalidation_1-auc:0.745399\n",
      "[265]\tvalidation_0-auc:0.783209\tvalidation_1-auc:0.745528\n",
      "[266]\tvalidation_0-auc:0.783368\tvalidation_1-auc:0.745597\n",
      "[267]\tvalidation_0-auc:0.783494\tvalidation_1-auc:0.745619\n",
      "[268]\tvalidation_0-auc:0.783614\tvalidation_1-auc:0.745605\n",
      "[269]\tvalidation_0-auc:0.783657\tvalidation_1-auc:0.74564\n",
      "[270]\tvalidation_0-auc:0.78382\tvalidation_1-auc:0.745651\n",
      "[271]\tvalidation_0-auc:0.783878\tvalidation_1-auc:0.745615\n",
      "[272]\tvalidation_0-auc:0.78397\tvalidation_1-auc:0.745669\n",
      "[273]\tvalidation_0-auc:0.784061\tvalidation_1-auc:0.74566\n",
      "[274]\tvalidation_0-auc:0.784186\tvalidation_1-auc:0.74559\n",
      "[275]\tvalidation_0-auc:0.784305\tvalidation_1-auc:0.745663\n",
      "[276]\tvalidation_0-auc:0.784359\tvalidation_1-auc:0.74567\n",
      "[277]\tvalidation_0-auc:0.784437\tvalidation_1-auc:0.745709\n",
      "[278]\tvalidation_0-auc:0.78457\tvalidation_1-auc:0.745739\n",
      "[279]\tvalidation_0-auc:0.784657\tvalidation_1-auc:0.745715\n",
      "[280]\tvalidation_0-auc:0.784736\tvalidation_1-auc:0.745737\n",
      "[281]\tvalidation_0-auc:0.78482\tvalidation_1-auc:0.745763\n",
      "[282]\tvalidation_0-auc:0.784957\tvalidation_1-auc:0.745726\n",
      "[283]\tvalidation_0-auc:0.785065\tvalidation_1-auc:0.745785\n",
      "[284]\tvalidation_0-auc:0.785224\tvalidation_1-auc:0.745833\n",
      "[285]\tvalidation_0-auc:0.785308\tvalidation_1-auc:0.745809\n"
     ]
    },
    {
     "name": "stdout",
     "output_type": "stream",
     "text": [
      "[286]\tvalidation_0-auc:0.785363\tvalidation_1-auc:0.745785\n",
      "[287]\tvalidation_0-auc:0.78552\tvalidation_1-auc:0.745825\n",
      "[288]\tvalidation_0-auc:0.785646\tvalidation_1-auc:0.745881\n",
      "[289]\tvalidation_0-auc:0.785762\tvalidation_1-auc:0.745949\n",
      "[290]\tvalidation_0-auc:0.785926\tvalidation_1-auc:0.745946\n",
      "[291]\tvalidation_0-auc:0.786\tvalidation_1-auc:0.745911\n",
      "[292]\tvalidation_0-auc:0.786112\tvalidation_1-auc:0.745947\n",
      "[293]\tvalidation_0-auc:0.786183\tvalidation_1-auc:0.745908\n",
      "[294]\tvalidation_0-auc:0.786264\tvalidation_1-auc:0.745923\n",
      "[295]\tvalidation_0-auc:0.786328\tvalidation_1-auc:0.745951\n",
      "[296]\tvalidation_0-auc:0.786468\tvalidation_1-auc:0.745905\n",
      "[297]\tvalidation_0-auc:0.786613\tvalidation_1-auc:0.745893\n",
      "[298]\tvalidation_0-auc:0.786713\tvalidation_1-auc:0.745918\n",
      "[299]\tvalidation_0-auc:0.786869\tvalidation_1-auc:0.74587\n",
      "[300]\tvalidation_0-auc:0.786957\tvalidation_1-auc:0.745873\n",
      "[301]\tvalidation_0-auc:0.787022\tvalidation_1-auc:0.745842\n",
      "[302]\tvalidation_0-auc:0.787144\tvalidation_1-auc:0.745858\n",
      "[303]\tvalidation_0-auc:0.787245\tvalidation_1-auc:0.745834\n",
      "[304]\tvalidation_0-auc:0.787314\tvalidation_1-auc:0.745835\n",
      "[305]\tvalidation_0-auc:0.787401\tvalidation_1-auc:0.745852\n",
      "[306]\tvalidation_0-auc:0.787499\tvalidation_1-auc:0.745846\n",
      "[307]\tvalidation_0-auc:0.787566\tvalidation_1-auc:0.745843\n",
      "[308]\tvalidation_0-auc:0.787681\tvalidation_1-auc:0.745878\n",
      "[309]\tvalidation_0-auc:0.787766\tvalidation_1-auc:0.745861\n",
      "[310]\tvalidation_0-auc:0.787927\tvalidation_1-auc:0.745883\n",
      "[311]\tvalidation_0-auc:0.788131\tvalidation_1-auc:0.745951\n",
      "[312]\tvalidation_0-auc:0.788172\tvalidation_1-auc:0.745956\n",
      "[313]\tvalidation_0-auc:0.788247\tvalidation_1-auc:0.745905\n",
      "[314]\tvalidation_0-auc:0.788291\tvalidation_1-auc:0.745902\n",
      "[315]\tvalidation_0-auc:0.78842\tvalidation_1-auc:0.745948\n",
      "[316]\tvalidation_0-auc:0.788504\tvalidation_1-auc:0.745991\n",
      "[317]\tvalidation_0-auc:0.788578\tvalidation_1-auc:0.745998\n",
      "[318]\tvalidation_0-auc:0.788793\tvalidation_1-auc:0.745978\n",
      "[319]\tvalidation_0-auc:0.788819\tvalidation_1-auc:0.745992\n",
      "[320]\tvalidation_0-auc:0.7889\tvalidation_1-auc:0.746036\n",
      "[321]\tvalidation_0-auc:0.788995\tvalidation_1-auc:0.746019\n",
      "[322]\tvalidation_0-auc:0.789085\tvalidation_1-auc:0.745993\n",
      "[323]\tvalidation_0-auc:0.789162\tvalidation_1-auc:0.746027\n",
      "[324]\tvalidation_0-auc:0.789325\tvalidation_1-auc:0.746\n",
      "[325]\tvalidation_0-auc:0.789425\tvalidation_1-auc:0.746015\n",
      "[326]\tvalidation_0-auc:0.789575\tvalidation_1-auc:0.746001\n",
      "[327]\tvalidation_0-auc:0.789663\tvalidation_1-auc:0.746008\n",
      "[328]\tvalidation_0-auc:0.789775\tvalidation_1-auc:0.746045\n",
      "[329]\tvalidation_0-auc:0.789849\tvalidation_1-auc:0.746091\n",
      "[330]\tvalidation_0-auc:0.789945\tvalidation_1-auc:0.746142\n",
      "[331]\tvalidation_0-auc:0.790054\tvalidation_1-auc:0.746158\n",
      "[332]\tvalidation_0-auc:0.790156\tvalidation_1-auc:0.746182\n",
      "[333]\tvalidation_0-auc:0.790254\tvalidation_1-auc:0.746191\n",
      "[334]\tvalidation_0-auc:0.790429\tvalidation_1-auc:0.74618\n",
      "[335]\tvalidation_0-auc:0.790565\tvalidation_1-auc:0.746231\n",
      "[336]\tvalidation_0-auc:0.790677\tvalidation_1-auc:0.746212\n",
      "[337]\tvalidation_0-auc:0.790782\tvalidation_1-auc:0.746237\n",
      "[338]\tvalidation_0-auc:0.790874\tvalidation_1-auc:0.746258\n",
      "[339]\tvalidation_0-auc:0.79096\tvalidation_1-auc:0.746272\n",
      "[340]\tvalidation_0-auc:0.79105\tvalidation_1-auc:0.74628\n",
      "[341]\tvalidation_0-auc:0.791154\tvalidation_1-auc:0.746262\n",
      "[342]\tvalidation_0-auc:0.791247\tvalidation_1-auc:0.746273\n",
      "[343]\tvalidation_0-auc:0.791368\tvalidation_1-auc:0.746259\n",
      "[344]\tvalidation_0-auc:0.791447\tvalidation_1-auc:0.746278\n",
      "[345]\tvalidation_0-auc:0.791492\tvalidation_1-auc:0.74628\n",
      "[346]\tvalidation_0-auc:0.791624\tvalidation_1-auc:0.746266\n",
      "[347]\tvalidation_0-auc:0.791666\tvalidation_1-auc:0.746253\n",
      "[348]\tvalidation_0-auc:0.791803\tvalidation_1-auc:0.746188\n",
      "[349]\tvalidation_0-auc:0.791876\tvalidation_1-auc:0.746249\n",
      "[350]\tvalidation_0-auc:0.791977\tvalidation_1-auc:0.746273\n",
      "[351]\tvalidation_0-auc:0.792076\tvalidation_1-auc:0.746298\n",
      "[352]\tvalidation_0-auc:0.792179\tvalidation_1-auc:0.74629\n",
      "[353]\tvalidation_0-auc:0.792249\tvalidation_1-auc:0.746237\n",
      "[354]\tvalidation_0-auc:0.792338\tvalidation_1-auc:0.746243\n",
      "[355]\tvalidation_0-auc:0.79242\tvalidation_1-auc:0.746275\n",
      "[356]\tvalidation_0-auc:0.792509\tvalidation_1-auc:0.7462\n",
      "[357]\tvalidation_0-auc:0.792574\tvalidation_1-auc:0.746207\n",
      "[358]\tvalidation_0-auc:0.792657\tvalidation_1-auc:0.746252\n",
      "[359]\tvalidation_0-auc:0.792742\tvalidation_1-auc:0.746269\n",
      "[360]\tvalidation_0-auc:0.792868\tvalidation_1-auc:0.746273\n",
      "[361]\tvalidation_0-auc:0.792946\tvalidation_1-auc:0.746261\n",
      "[362]\tvalidation_0-auc:0.793057\tvalidation_1-auc:0.746286\n",
      "[363]\tvalidation_0-auc:0.793142\tvalidation_1-auc:0.7463\n",
      "[364]\tvalidation_0-auc:0.79325\tvalidation_1-auc:0.746327\n",
      "[365]\tvalidation_0-auc:0.793351\tvalidation_1-auc:0.746311\n",
      "[366]\tvalidation_0-auc:0.793443\tvalidation_1-auc:0.74636\n",
      "[367]\tvalidation_0-auc:0.793603\tvalidation_1-auc:0.746346\n",
      "[368]\tvalidation_0-auc:0.793692\tvalidation_1-auc:0.746331\n",
      "[369]\tvalidation_0-auc:0.793738\tvalidation_1-auc:0.746289\n",
      "[370]\tvalidation_0-auc:0.793904\tvalidation_1-auc:0.746261\n",
      "[371]\tvalidation_0-auc:0.794001\tvalidation_1-auc:0.746259\n",
      "[372]\tvalidation_0-auc:0.794128\tvalidation_1-auc:0.746262\n",
      "[373]\tvalidation_0-auc:0.794284\tvalidation_1-auc:0.746327\n",
      "[374]\tvalidation_0-auc:0.794355\tvalidation_1-auc:0.746348\n",
      "[375]\tvalidation_0-auc:0.794483\tvalidation_1-auc:0.746312\n",
      "[376]\tvalidation_0-auc:0.794568\tvalidation_1-auc:0.746304\n",
      "[377]\tvalidation_0-auc:0.794659\tvalidation_1-auc:0.746326\n",
      "[378]\tvalidation_0-auc:0.794789\tvalidation_1-auc:0.746343\n",
      "[379]\tvalidation_0-auc:0.794881\tvalidation_1-auc:0.746378\n",
      "[380]\tvalidation_0-auc:0.794997\tvalidation_1-auc:0.746369\n",
      "[381]\tvalidation_0-auc:0.795138\tvalidation_1-auc:0.74638\n",
      "[382]\tvalidation_0-auc:0.7952\tvalidation_1-auc:0.746359\n",
      "[383]\tvalidation_0-auc:0.795288\tvalidation_1-auc:0.746387\n",
      "[384]\tvalidation_0-auc:0.795423\tvalidation_1-auc:0.746433\n",
      "[385]\tvalidation_0-auc:0.795537\tvalidation_1-auc:0.746446\n",
      "[386]\tvalidation_0-auc:0.795628\tvalidation_1-auc:0.746464\n",
      "[387]\tvalidation_0-auc:0.795674\tvalidation_1-auc:0.746475\n",
      "[388]\tvalidation_0-auc:0.795763\tvalidation_1-auc:0.746504\n",
      "[389]\tvalidation_0-auc:0.795817\tvalidation_1-auc:0.746494\n",
      "[390]\tvalidation_0-auc:0.795844\tvalidation_1-auc:0.746487\n",
      "[391]\tvalidation_0-auc:0.795941\tvalidation_1-auc:0.746494\n",
      "[392]\tvalidation_0-auc:0.796048\tvalidation_1-auc:0.74654\n",
      "[393]\tvalidation_0-auc:0.796185\tvalidation_1-auc:0.746595\n",
      "[394]\tvalidation_0-auc:0.79625\tvalidation_1-auc:0.746585\n",
      "[395]\tvalidation_0-auc:0.796334\tvalidation_1-auc:0.746608\n",
      "[396]\tvalidation_0-auc:0.796403\tvalidation_1-auc:0.746573\n",
      "[397]\tvalidation_0-auc:0.796568\tvalidation_1-auc:0.746537\n",
      "[398]\tvalidation_0-auc:0.796731\tvalidation_1-auc:0.746483\n",
      "[399]\tvalidation_0-auc:0.796843\tvalidation_1-auc:0.746483\n",
      "[400]\tvalidation_0-auc:0.79687\tvalidation_1-auc:0.746483\n",
      "[401]\tvalidation_0-auc:0.796983\tvalidation_1-auc:0.746515\n",
      "[402]\tvalidation_0-auc:0.797089\tvalidation_1-auc:0.746507\n",
      "[403]\tvalidation_0-auc:0.797123\tvalidation_1-auc:0.746476\n",
      "[404]\tvalidation_0-auc:0.797176\tvalidation_1-auc:0.746495\n",
      "[405]\tvalidation_0-auc:0.797357\tvalidation_1-auc:0.746539\n",
      "[406]\tvalidation_0-auc:0.797474\tvalidation_1-auc:0.746506\n",
      "[407]\tvalidation_0-auc:0.797534\tvalidation_1-auc:0.746533\n",
      "[408]\tvalidation_0-auc:0.797634\tvalidation_1-auc:0.746559\n",
      "[409]\tvalidation_0-auc:0.797739\tvalidation_1-auc:0.746612\n",
      "[410]\tvalidation_0-auc:0.7978\tvalidation_1-auc:0.746637\n",
      "[411]\tvalidation_0-auc:0.797885\tvalidation_1-auc:0.746693\n",
      "[412]\tvalidation_0-auc:0.797982\tvalidation_1-auc:0.746721\n",
      "[413]\tvalidation_0-auc:0.798058\tvalidation_1-auc:0.746712\n",
      "[414]\tvalidation_0-auc:0.798108\tvalidation_1-auc:0.746727\n",
      "[415]\tvalidation_0-auc:0.798152\tvalidation_1-auc:0.746723\n",
      "[416]\tvalidation_0-auc:0.798237\tvalidation_1-auc:0.746691\n",
      "[417]\tvalidation_0-auc:0.798338\tvalidation_1-auc:0.746735\n",
      "[418]\tvalidation_0-auc:0.798464\tvalidation_1-auc:0.746726\n",
      "[419]\tvalidation_0-auc:0.798588\tvalidation_1-auc:0.746765\n",
      "[420]\tvalidation_0-auc:0.79861\tvalidation_1-auc:0.746775\n",
      "[421]\tvalidation_0-auc:0.798682\tvalidation_1-auc:0.746797\n",
      "[422]\tvalidation_0-auc:0.798757\tvalidation_1-auc:0.746832\n",
      "[423]\tvalidation_0-auc:0.798869\tvalidation_1-auc:0.746872\n",
      "[424]\tvalidation_0-auc:0.798894\tvalidation_1-auc:0.746897\n",
      "[425]\tvalidation_0-auc:0.798984\tvalidation_1-auc:0.746873\n",
      "[426]\tvalidation_0-auc:0.799062\tvalidation_1-auc:0.746857\n",
      "[427]\tvalidation_0-auc:0.799243\tvalidation_1-auc:0.746809\n"
     ]
    },
    {
     "name": "stdout",
     "output_type": "stream",
     "text": [
      "[428]\tvalidation_0-auc:0.799263\tvalidation_1-auc:0.7468\n",
      "[429]\tvalidation_0-auc:0.799411\tvalidation_1-auc:0.746812\n",
      "[430]\tvalidation_0-auc:0.799585\tvalidation_1-auc:0.746855\n",
      "[431]\tvalidation_0-auc:0.799669\tvalidation_1-auc:0.746823\n",
      "[432]\tvalidation_0-auc:0.799729\tvalidation_1-auc:0.746791\n",
      "[433]\tvalidation_0-auc:0.799771\tvalidation_1-auc:0.746833\n",
      "[434]\tvalidation_0-auc:0.799898\tvalidation_1-auc:0.746849\n",
      "[435]\tvalidation_0-auc:0.799967\tvalidation_1-auc:0.746867\n",
      "[436]\tvalidation_0-auc:0.799991\tvalidation_1-auc:0.746848\n",
      "[437]\tvalidation_0-auc:0.800032\tvalidation_1-auc:0.74683\n",
      "[438]\tvalidation_0-auc:0.800116\tvalidation_1-auc:0.746859\n",
      "[439]\tvalidation_0-auc:0.800303\tvalidation_1-auc:0.746871\n",
      "[440]\tvalidation_0-auc:0.800426\tvalidation_1-auc:0.746891\n",
      "[441]\tvalidation_0-auc:0.800526\tvalidation_1-auc:0.746933\n",
      "[442]\tvalidation_0-auc:0.800604\tvalidation_1-auc:0.746899\n",
      "[443]\tvalidation_0-auc:0.800655\tvalidation_1-auc:0.746882\n",
      "[444]\tvalidation_0-auc:0.800718\tvalidation_1-auc:0.746897\n",
      "[445]\tvalidation_0-auc:0.800797\tvalidation_1-auc:0.746898\n",
      "[446]\tvalidation_0-auc:0.800917\tvalidation_1-auc:0.746896\n",
      "[447]\tvalidation_0-auc:0.80104\tvalidation_1-auc:0.746851\n",
      "[448]\tvalidation_0-auc:0.80113\tvalidation_1-auc:0.746841\n",
      "[449]\tvalidation_0-auc:0.801199\tvalidation_1-auc:0.746826\n",
      "[450]\tvalidation_0-auc:0.801263\tvalidation_1-auc:0.746774\n",
      "[451]\tvalidation_0-auc:0.80149\tvalidation_1-auc:0.746744\n",
      "[452]\tvalidation_0-auc:0.801545\tvalidation_1-auc:0.746774\n",
      "[453]\tvalidation_0-auc:0.80164\tvalidation_1-auc:0.746752\n",
      "[454]\tvalidation_0-auc:0.801664\tvalidation_1-auc:0.746743\n",
      "[455]\tvalidation_0-auc:0.801793\tvalidation_1-auc:0.746737\n",
      "[456]\tvalidation_0-auc:0.801884\tvalidation_1-auc:0.746773\n",
      "[457]\tvalidation_0-auc:0.801952\tvalidation_1-auc:0.746774\n",
      "[458]\tvalidation_0-auc:0.802021\tvalidation_1-auc:0.746757\n",
      "[459]\tvalidation_0-auc:0.802111\tvalidation_1-auc:0.746765\n",
      "[460]\tvalidation_0-auc:0.80219\tvalidation_1-auc:0.746822\n",
      "[461]\tvalidation_0-auc:0.802286\tvalidation_1-auc:0.746813\n",
      "[462]\tvalidation_0-auc:0.802434\tvalidation_1-auc:0.746899\n",
      "[463]\tvalidation_0-auc:0.802632\tvalidation_1-auc:0.746958\n",
      "[464]\tvalidation_0-auc:0.80271\tvalidation_1-auc:0.746965\n",
      "[465]\tvalidation_0-auc:0.802864\tvalidation_1-auc:0.747013\n",
      "[466]\tvalidation_0-auc:0.803003\tvalidation_1-auc:0.746978\n",
      "[467]\tvalidation_0-auc:0.803046\tvalidation_1-auc:0.746977\n",
      "[468]\tvalidation_0-auc:0.803105\tvalidation_1-auc:0.746943\n",
      "[469]\tvalidation_0-auc:0.803181\tvalidation_1-auc:0.746957\n",
      "[470]\tvalidation_0-auc:0.803292\tvalidation_1-auc:0.746953\n",
      "[471]\tvalidation_0-auc:0.803339\tvalidation_1-auc:0.746951\n",
      "[472]\tvalidation_0-auc:0.803446\tvalidation_1-auc:0.746922\n",
      "[473]\tvalidation_0-auc:0.803489\tvalidation_1-auc:0.746944\n",
      "[474]\tvalidation_0-auc:0.803569\tvalidation_1-auc:0.746899\n",
      "[475]\tvalidation_0-auc:0.803629\tvalidation_1-auc:0.746897\n",
      "[476]\tvalidation_0-auc:0.803701\tvalidation_1-auc:0.746919\n",
      "[477]\tvalidation_0-auc:0.803843\tvalidation_1-auc:0.746949\n",
      "[478]\tvalidation_0-auc:0.803982\tvalidation_1-auc:0.747046\n",
      "[479]\tvalidation_0-auc:0.804091\tvalidation_1-auc:0.747029\n",
      "[480]\tvalidation_0-auc:0.804159\tvalidation_1-auc:0.747103\n",
      "[481]\tvalidation_0-auc:0.804238\tvalidation_1-auc:0.747108\n",
      "[482]\tvalidation_0-auc:0.80429\tvalidation_1-auc:0.747113\n",
      "[483]\tvalidation_0-auc:0.804388\tvalidation_1-auc:0.74709\n",
      "[484]\tvalidation_0-auc:0.804544\tvalidation_1-auc:0.747043\n",
      "[485]\tvalidation_0-auc:0.804584\tvalidation_1-auc:0.747063\n",
      "[486]\tvalidation_0-auc:0.804654\tvalidation_1-auc:0.747036\n",
      "[487]\tvalidation_0-auc:0.804692\tvalidation_1-auc:0.747044\n",
      "[488]\tvalidation_0-auc:0.804774\tvalidation_1-auc:0.747037\n",
      "[489]\tvalidation_0-auc:0.80496\tvalidation_1-auc:0.746982\n",
      "[490]\tvalidation_0-auc:0.8051\tvalidation_1-auc:0.746984\n",
      "[491]\tvalidation_0-auc:0.805215\tvalidation_1-auc:0.746947\n",
      "[492]\tvalidation_0-auc:0.805336\tvalidation_1-auc:0.746911\n",
      "[493]\tvalidation_0-auc:0.805436\tvalidation_1-auc:0.746928\n",
      "[494]\tvalidation_0-auc:0.805496\tvalidation_1-auc:0.746921\n",
      "[495]\tvalidation_0-auc:0.805548\tvalidation_1-auc:0.746908\n",
      "[496]\tvalidation_0-auc:0.805612\tvalidation_1-auc:0.746926\n",
      "[497]\tvalidation_0-auc:0.805729\tvalidation_1-auc:0.746926\n",
      "[498]\tvalidation_0-auc:0.805756\tvalidation_1-auc:0.746923\n",
      "[499]\tvalidation_0-auc:0.805836\tvalidation_1-auc:0.746948\n"
     ]
    },
    {
     "data": {
      "text/plain": [
       "XGBClassifier(base_score=0.5, booster='gbtree', colsample_bylevel=1,\n",
       "       colsample_bytree=0.5, gamma=0.0, learning_rate=0.01,\n",
       "       max_delta_step=0, max_depth=5, min_child_weight=10, missing=None,\n",
       "       n_estimators=500, n_jobs=4, nthread=None,\n",
       "       objective='binary:logistic', random_state=0, reg_alpha=0.1,\n",
       "       reg_lambda=1, scale_pos_weight=1, seed=None, silent=True,\n",
       "       subsample=0.75)"
      ]
     },
     "execution_count": 32,
     "metadata": {},
     "output_type": "execute_result"
    }
   ],
   "source": [
    "best_params['learning_rate'] = 0.01\n",
    "best_params['n_estimators'] = 500\n",
    "\n",
    "clf_xgb = xgb.XGBClassifier(**best_params)\n",
    "\n",
    "clf_xgb.fit(X_train, y_train, eval_metric='auc', eval_set=[[X_train, y_train], [X_test, y_test]])"
   ]
  },
  {
   "cell_type": "markdown",
   "metadata": {},
   "source": [
    "Визуализируем метрику в зависимости от итерации"
   ]
  },
  {
   "cell_type": "code",
   "execution_count": 33,
   "metadata": {
    "ExecuteTime": {
     "end_time": "2018-04-26T05:09:50.404695Z",
     "start_time": "2018-04-26T05:09:49.733905Z"
    }
   },
   "outputs": [
    {
     "data": {
      "text/plain": [
       "Text(0.5,0,'iteration number')"
      ]
     },
     "execution_count": 33,
     "metadata": {},
     "output_type": "execute_result"
    },
    {
     "data": {
      "image/png": "[encoded data removed]",
      "text/plain": [
       "<matplotlib.figure.Figure at 0x9640e48>"
      ]
     },
     "metadata": {
      "image/png": {
       "height": 277,
       "width": 380
      }
     },
     "output_type": "display_data"
    },
    {
     "data": {
      "image/png": "[encoded data removed]",
      "text/plain": [
       "<matplotlib.figure.Figure at 0x96a7f98>"
      ]
     },
     "metadata": {
      "image/png": {
       "height": 277,
       "width": 393
      }
     },
     "output_type": "display_data"
    }
   ],
   "source": [
    "res = save_online_metric(clf_xgb)\n",
    "res.plot(ylim=(0.72, 0.8), title='ROC AUC')\n",
    "plt.xlabel('iteration number')\n",
    "plt.figure()\n",
    "res.test.plot(ylim=(0.72, 0.74), title='ROC AUC TEST')\n",
    "plt.xlabel('iteration number')"
   ]
  },
  {
   "cell_type": "markdown",
   "metadata": {},
   "source": [
    "### HyperOpt"
   ]
  },
  {
   "cell_type": "markdown",
   "metadata": {},
   "source": [
    "http://hyperopt.github.io/hyperopt/\n",
    "\n",
    "Инструмент для автоматической \"умной\" оптимизации большого числа гиперпараметров. Использует алгоритм Tree of Parzen Estimators"
   ]
  },
  {
   "cell_type": "code",
   "execution_count": 36,
   "metadata": {
    "ExecuteTime": {
     "end_time": "2018-04-26T09:46:03.275271Z",
     "start_time": "2018-04-26T09:41:50.359976Z"
    }
   },
   "outputs": [
    {
     "ename": "TypeError",
     "evalue": "'generator' object is not subscriptable",
     "output_type": "error",
     "traceback": [
      "\u001b[1;31m---------------------------------------------------------------------------\u001b[0m",
      "\u001b[1;31mTypeError\u001b[0m                                 Traceback (most recent call last)",
      "\u001b[1;32m<ipython-input-36-798a90fcce92>\u001b[0m in \u001b[0;36m<module>\u001b[1;34m()\u001b[0m\n\u001b[0;32m     27\u001b[0m \u001b[0mtrials\u001b[0m \u001b[1;33m=\u001b[0m \u001b[0mTrials\u001b[0m\u001b[1;33m(\u001b[0m\u001b[1;33m)\u001b[0m\u001b[1;33m\u001b[0m\u001b[0m\n\u001b[0;32m     28\u001b[0m \u001b[1;33m\u001b[0m\u001b[0m\n\u001b[1;32m---> 29\u001b[1;33m \u001b[0mbest\u001b[0m \u001b[1;33m=\u001b[0m \u001b[0mfmin\u001b[0m\u001b[1;33m(\u001b[0m\u001b[0mscore\u001b[0m\u001b[1;33m,\u001b[0m \u001b[0mspace\u001b[0m\u001b[1;33m,\u001b[0m \u001b[0malgo\u001b[0m\u001b[1;33m=\u001b[0m\u001b[0mtpe\u001b[0m\u001b[1;33m.\u001b[0m\u001b[0msuggest\u001b[0m\u001b[1;33m,\u001b[0m \u001b[0mtrials\u001b[0m\u001b[1;33m=\u001b[0m\u001b[0mtrials\u001b[0m\u001b[1;33m,\u001b[0m \u001b[0mmax_evals\u001b[0m\u001b[1;33m=\u001b[0m\u001b[1;36m20\u001b[0m\u001b[1;33m)\u001b[0m\u001b[1;33m\u001b[0m\u001b[0m\n\u001b[0m",
      "\u001b[1;32mC:\\ProgramData\\Anaconda3\\lib\\site-packages\\hyperopt\\fmin.py\u001b[0m in \u001b[0;36mfmin\u001b[1;34m(fn, space, algo, max_evals, trials, rstate, allow_trials_fmin, pass_expr_memo_ctrl, catch_eval_exceptions, verbose, return_argmin)\u001b[0m\n\u001b[0;32m    305\u001b[0m             \u001b[0mverbose\u001b[0m\u001b[1;33m=\u001b[0m\u001b[0mverbose\u001b[0m\u001b[1;33m,\u001b[0m\u001b[1;33m\u001b[0m\u001b[0m\n\u001b[0;32m    306\u001b[0m             \u001b[0mcatch_eval_exceptions\u001b[0m\u001b[1;33m=\u001b[0m\u001b[0mcatch_eval_exceptions\u001b[0m\u001b[1;33m,\u001b[0m\u001b[1;33m\u001b[0m\u001b[0m\n\u001b[1;32m--> 307\u001b[1;33m             \u001b[0mreturn_argmin\u001b[0m\u001b[1;33m=\u001b[0m\u001b[0mreturn_argmin\u001b[0m\u001b[1;33m,\u001b[0m\u001b[1;33m\u001b[0m\u001b[0m\n\u001b[0m\u001b[0;32m    308\u001b[0m         )\n\u001b[0;32m    309\u001b[0m \u001b[1;33m\u001b[0m\u001b[0m\n",
      "\u001b[1;32mC:\\ProgramData\\Anaconda3\\lib\\site-packages\\hyperopt\\base.py\u001b[0m in \u001b[0;36mfmin\u001b[1;34m(self, fn, space, algo, max_evals, rstate, verbose, pass_expr_memo_ctrl, catch_eval_exceptions, return_argmin)\u001b[0m\n\u001b[0;32m    633\u001b[0m             \u001b[0mpass_expr_memo_ctrl\u001b[0m\u001b[1;33m=\u001b[0m\u001b[0mpass_expr_memo_ctrl\u001b[0m\u001b[1;33m,\u001b[0m\u001b[1;33m\u001b[0m\u001b[0m\n\u001b[0;32m    634\u001b[0m             \u001b[0mcatch_eval_exceptions\u001b[0m\u001b[1;33m=\u001b[0m\u001b[0mcatch_eval_exceptions\u001b[0m\u001b[1;33m,\u001b[0m\u001b[1;33m\u001b[0m\u001b[0m\n\u001b[1;32m--> 635\u001b[1;33m             return_argmin=return_argmin)\n\u001b[0m\u001b[0;32m    636\u001b[0m \u001b[1;33m\u001b[0m\u001b[0m\n\u001b[0;32m    637\u001b[0m \u001b[1;33m\u001b[0m\u001b[0m\n",
      "\u001b[1;32mC:\\ProgramData\\Anaconda3\\lib\\site-packages\\hyperopt\\fmin.py\u001b[0m in \u001b[0;36mfmin\u001b[1;34m(fn, space, algo, max_evals, trials, rstate, allow_trials_fmin, pass_expr_memo_ctrl, catch_eval_exceptions, verbose, return_argmin)\u001b[0m\n\u001b[0;32m    312\u001b[0m \u001b[1;33m\u001b[0m\u001b[0m\n\u001b[0;32m    313\u001b[0m     domain = base.Domain(fn, space,\n\u001b[1;32m--> 314\u001b[1;33m                          pass_expr_memo_ctrl=pass_expr_memo_ctrl)\n\u001b[0m\u001b[0;32m    315\u001b[0m \u001b[1;33m\u001b[0m\u001b[0m\n\u001b[0;32m    316\u001b[0m     rval = FMinIter(algo, domain, trials, max_evals=max_evals,\n",
      "\u001b[1;32mC:\\ProgramData\\Anaconda3\\lib\\site-packages\\hyperopt\\base.py\u001b[0m in \u001b[0;36m__init__\u001b[1;34m(self, fn, expr, workdir, pass_expr_memo_ctrl, name, loss_target)\u001b[0m\n\u001b[0;32m    784\u001b[0m         \u001b[0mbefore\u001b[0m \u001b[1;33m=\u001b[0m \u001b[0mpyll\u001b[0m\u001b[1;33m.\u001b[0m\u001b[0mdfs\u001b[0m\u001b[1;33m(\u001b[0m\u001b[0mself\u001b[0m\u001b[1;33m.\u001b[0m\u001b[0mexpr\u001b[0m\u001b[1;33m)\u001b[0m\u001b[1;33m\u001b[0m\u001b[0m\n\u001b[0;32m    785\u001b[0m         \u001b[1;31m# -- raises exception if expr contains cycles\u001b[0m\u001b[1;33m\u001b[0m\u001b[1;33m\u001b[0m\u001b[0m\n\u001b[1;32m--> 786\u001b[1;33m         \u001b[0mpyll\u001b[0m\u001b[1;33m.\u001b[0m\u001b[0mtoposort\u001b[0m\u001b[1;33m(\u001b[0m\u001b[0mself\u001b[0m\u001b[1;33m.\u001b[0m\u001b[0mexpr\u001b[0m\u001b[1;33m)\u001b[0m\u001b[1;33m\u001b[0m\u001b[0m\n\u001b[0m\u001b[0;32m    787\u001b[0m         \u001b[0mvh\u001b[0m \u001b[1;33m=\u001b[0m \u001b[0mself\u001b[0m\u001b[1;33m.\u001b[0m\u001b[0mvh\u001b[0m \u001b[1;33m=\u001b[0m \u001b[0mVectorizeHelper\u001b[0m\u001b[1;33m(\u001b[0m\u001b[0mself\u001b[0m\u001b[1;33m.\u001b[0m\u001b[0mexpr\u001b[0m\u001b[1;33m,\u001b[0m \u001b[0mself\u001b[0m\u001b[1;33m.\u001b[0m\u001b[0ms_new_ids\u001b[0m\u001b[1;33m)\u001b[0m\u001b[1;33m\u001b[0m\u001b[0m\n\u001b[0;32m    788\u001b[0m         \u001b[1;31m# -- raises exception if v_expr contains cycles\u001b[0m\u001b[1;33m\u001b[0m\u001b[1;33m\u001b[0m\u001b[0m\n",
      "\u001b[1;32mC:\\ProgramData\\Anaconda3\\lib\\site-packages\\hyperopt\\pyll\\base.py\u001b[0m in \u001b[0;36mtoposort\u001b[1;34m(expr)\u001b[0m\n\u001b[0;32m    713\u001b[0m         \u001b[0mG\u001b[0m\u001b[1;33m.\u001b[0m\u001b[0madd_edges_from\u001b[0m\u001b[1;33m(\u001b[0m\u001b[1;33m[\u001b[0m\u001b[1;33m(\u001b[0m\u001b[0mn_in\u001b[0m\u001b[1;33m,\u001b[0m \u001b[0mnode\u001b[0m\u001b[1;33m)\u001b[0m \u001b[1;32mfor\u001b[0m \u001b[0mn_in\u001b[0m \u001b[1;32min\u001b[0m \u001b[0mnode\u001b[0m\u001b[1;33m.\u001b[0m\u001b[0minputs\u001b[0m\u001b[1;33m(\u001b[0m\u001b[1;33m)\u001b[0m\u001b[1;33m]\u001b[0m\u001b[1;33m)\u001b[0m\u001b[1;33m\u001b[0m\u001b[0m\n\u001b[0;32m    714\u001b[0m     \u001b[0morder\u001b[0m \u001b[1;33m=\u001b[0m \u001b[0mnx\u001b[0m\u001b[1;33m.\u001b[0m\u001b[0mtopological_sort\u001b[0m\u001b[1;33m(\u001b[0m\u001b[0mG\u001b[0m\u001b[1;33m)\u001b[0m\u001b[1;33m\u001b[0m\u001b[0m\n\u001b[1;32m--> 715\u001b[1;33m     \u001b[1;32massert\u001b[0m \u001b[0morder\u001b[0m\u001b[1;33m[\u001b[0m\u001b[1;33m-\u001b[0m\u001b[1;36m1\u001b[0m\u001b[1;33m]\u001b[0m \u001b[1;33m==\u001b[0m \u001b[0mexpr\u001b[0m\u001b[1;33m\u001b[0m\u001b[0m\n\u001b[0m\u001b[0;32m    716\u001b[0m     \u001b[1;32mreturn\u001b[0m \u001b[0morder\u001b[0m\u001b[1;33m\u001b[0m\u001b[0m\n\u001b[0;32m    717\u001b[0m \u001b[1;33m\u001b[0m\u001b[0m\n",
      "\u001b[1;31mTypeError\u001b[0m: 'generator' object is not subscriptable"
     ]
    }
   ],
   "source": [
    "from hyperopt import hp, fmin, tpe, STATUS_OK, Trials\n",
    "\n",
    "#функция, которую будем МИНИМИЗИРОВАТЬ\n",
    "def score(params):\n",
    "    params['max_depth'] = int(params['max_depth'])\n",
    "    params['n_jobs'] = -1\n",
    "    print(\"Training with params : \", params)\n",
    "    clf = xgb.XGBClassifier(**params)\n",
    "    clf.fit(X_train, y_train)\n",
    "    y_pred_xgb_test = clf.predict_proba(X_test)[:, 1]\n",
    "    auc = calc_auc(y_test, y_pred_xgb_test, prin=False)\n",
    "    result = {'loss': 1-auc, 'status': STATUS_OK}\n",
    "    print('TEST ROC AUC: {0:.4f}'.format(auc))\n",
    "    return result\n",
    "\n",
    "\n",
    "\n",
    "space = {'max_depth' : hp.quniform('max_depth', 1, 10, 1),\n",
    "         'min_child_weight' : hp.quniform('min_child_weight', 1, 10, 1),\n",
    "         'subsample' : hp.quniform('subsample', 0.5, 1, 0.05),\n",
    "         'gamma' : hp.quniform('gamma', 0.5, 1, 0.05),\n",
    "         'colsample_bytree' : hp.quniform('colsample_bytree', 0.5, 1, 0.05),\n",
    "         'silent' : 1,\n",
    "         'n_estimators': 50,\n",
    "         'learning_rate': 0.03\n",
    "         }\n",
    "trials = Trials()\n",
    "\n",
    "best = fmin(score, space, algo=tpe.suggest, trials=trials, max_evals=20)"
   ]
  },
  {
   "cell_type": "code",
   "execution_count": 35,
   "metadata": {
    "ExecuteTime": {
     "end_time": "2018-04-26T09:52:41.188763Z",
     "start_time": "2018-04-26T09:52:41.183776Z"
    }
   },
   "outputs": [
    {
     "ename": "NameError",
     "evalue": "name 'best' is not defined",
     "output_type": "error",
     "traceback": [
      "\u001b[1;31m---------------------------------------------------------------------------\u001b[0m",
      "\u001b[1;31mNameError\u001b[0m                                 Traceback (most recent call last)",
      "\u001b[1;32m<ipython-input-35-377027ff61a3>\u001b[0m in \u001b[0;36m<module>\u001b[1;34m()\u001b[0m\n\u001b[1;32m----> 1\u001b[1;33m \u001b[0mbest\u001b[0m\u001b[1;33m\u001b[0m\u001b[0m\n\u001b[0m",
      "\u001b[1;31mNameError\u001b[0m: name 'best' is not defined"
     ]
    }
   ],
   "source": [
    "best"
   ]
  },
  {
   "cell_type": "code",
   "execution_count": null,
   "metadata": {
    "ExecuteTime": {
     "end_time": "2018-04-26T09:52:42.562330Z",
     "start_time": "2018-04-26T09:52:42.556313Z"
    }
   },
   "outputs": [],
   "source": [
    "trials.best_trial"
   ]
  },
  {
   "cell_type": "markdown",
   "metadata": {},
   "source": [
    "### Важность признаков"
   ]
  },
  {
   "cell_type": "markdown",
   "metadata": {},
   "source": [
    "#### Встроенные методы\n",
    "\n",
    "Нужно вытащить из sklearn обертки оригинальный объект класса xgboost.core.Booster\n",
    "\n",
    "Есть 3 типа важности в get_score():\n",
    "\n",
    "    weight - суммарное кол-во раз, когда признак использовался для разбиения вершины\n",
    "    gain - средний прирост качества, когда признак использовался для разбиения вершины\n",
    "    cover - среднее кол-во объектов, которые попадали в разбиение по признаку, когда он использовался для разбиения вершины"
   ]
  },
  {
   "cell_type": "code",
   "execution_count": 37,
   "metadata": {
    "ExecuteTime": {
     "end_time": "2018-04-26T08:46:21.086165Z",
     "start_time": "2018-04-26T08:46:20.369208Z"
    }
   },
   "outputs": [
    {
     "data": {
      "image/png": "[encoded data removed]",
      "text/plain": [
       "<matplotlib.figure.Figure at 0x95d5390>"
      ]
     },
     "metadata": {
      "image/png": {
       "height": 263,
       "width": 444
      }
     },
     "output_type": "display_data"
    },
    {
     "data": {
      "image/png": "[encoded data removed]",
      "text/plain": [
       "<matplotlib.figure.Figure at 0x95d3f98>"
      ]
     },
     "metadata": {
      "image/png": {
       "height": 263,
       "width": 438
      }
     },
     "output_type": "display_data"
    },
    {
     "data": {
      "image/png": "[encoded data removed]",
      "text/plain": [
       "<matplotlib.figure.Figure at 0x95bc048>"
      ]
     },
     "metadata": {
      "image/png": {
       "height": 263,
       "width": 395
      }
     },
     "output_type": "display_data"
    }
   ],
   "source": [
    "bst = clf_xgb.get_booster()\n",
    "\n",
    "for kind in ['weight', 'gain', 'cover']:\n",
    "    imp = pd.Series(bst.get_score(importance_type=kind))\n",
    "    plt.figure()\n",
    "    imp.sort_values(ascending=False).iloc[:10].plot(kind='barh', title=kind)"
   ]
  },
  {
   "cell_type": "markdown",
   "metadata": {},
   "source": [
    "#### XGBFI\n",
    "\n",
    "Позволяет оценивать важности взаимодействия признаков\n",
    "\n",
    "https://github.com/limexp/xgbfir"
   ]
  },
  {
   "cell_type": "code",
   "execution_count": 39,
   "metadata": {
    "ExecuteTime": {
     "end_time": "2018-04-26T08:52:02.819360Z",
     "start_time": "2018-04-26T08:52:02.807345Z"
    }
   },
   "outputs": [],
   "source": [
    "import xgbfir\n",
    "xgbfir.saveXgbFI(clf_xgb, OutputXlsxFile='xgbfi_report.xlsx')"
   ]
  },
  {
   "cell_type": "code",
   "execution_count": 41,
   "metadata": {
    "ExecuteTime": {
     "end_time": "2018-04-26T09:11:16.336379Z",
     "start_time": "2018-04-26T09:11:16.203202Z"
    }
   },
   "outputs": [
    {
     "name": "stderr",
     "output_type": "stream",
     "text": [
      "C:\\ProgramData\\Anaconda3\\lib\\site-packages\\pandas\\util\\_decorators.py:118: FutureWarning: The `sheetname` keyword is deprecated, use `sheet_name` instead\n",
      "  return func(*args, **kwargs)\n"
     ]
    },
    {
     "data": {
      "text/html": [
       "<div>\n",
       "<style scoped>\n",
       "    .dataframe tbody tr th:only-of-type {\n",
       "        vertical-align: middle;\n",
       "    }\n",
       "\n",
       "    .dataframe tbody tr th {\n",
       "        vertical-align: top;\n",
       "    }\n",
       "\n",
       "    .dataframe thead th {\n",
       "        text-align: right;\n",
       "    }\n",
       "</style>\n",
       "<table border=\"1\" class=\"dataframe\">\n",
       "  <thead>\n",
       "    <tr style=\"text-align: right;\">\n",
       "      <th></th>\n",
       "      <th>Interaction</th>\n",
       "      <th>Gain</th>\n",
       "      <th>FScore</th>\n",
       "      <th>wFScore</th>\n",
       "      <th>Average wFScore</th>\n",
       "      <th>Average Gain</th>\n",
       "      <th>Expected Gain</th>\n",
       "      <th>Gain Rank</th>\n",
       "      <th>FScore Rank</th>\n",
       "      <th>wFScore Rank</th>\n",
       "      <th>Avg wFScore Rank</th>\n",
       "      <th>Avg Gain Rank</th>\n",
       "      <th>Expected Gain Rank</th>\n",
       "      <th>Average Rank</th>\n",
       "      <th>Average Tree Index</th>\n",
       "      <th>Average Tree Depth</th>\n",
       "    </tr>\n",
       "  </thead>\n",
       "  <tbody>\n",
       "    <tr>\n",
       "      <th>0</th>\n",
       "      <td>mean_pred_v56|v50</td>\n",
       "      <td>18055.526026</td>\n",
       "      <td>96</td>\n",
       "      <td>29.854023</td>\n",
       "      <td>0.310979</td>\n",
       "      <td>188.078396</td>\n",
       "      <td>8169.408435</td>\n",
       "      <td>1</td>\n",
       "      <td>1</td>\n",
       "      <td>1</td>\n",
       "      <td>20</td>\n",
       "      <td>13</td>\n",
       "      <td>2</td>\n",
       "      <td>6.333333</td>\n",
       "      <td>45.656250</td>\n",
       "      <td>2.208333</td>\n",
       "    </tr>\n",
       "    <tr>\n",
       "      <th>1</th>\n",
       "      <td>v50|v50</td>\n",
       "      <td>14728.428359</td>\n",
       "      <td>49</td>\n",
       "      <td>22.021742</td>\n",
       "      <td>0.449423</td>\n",
       "      <td>300.580171</td>\n",
       "      <td>8741.897698</td>\n",
       "      <td>2</td>\n",
       "      <td>4</td>\n",
       "      <td>2</td>\n",
       "      <td>10</td>\n",
       "      <td>2</td>\n",
       "      <td>1</td>\n",
       "      <td>3.500000</td>\n",
       "      <td>46.755102</td>\n",
       "      <td>1.714286</td>\n",
       "    </tr>\n",
       "    <tr>\n",
       "      <th>2</th>\n",
       "      <td>mean_pred_v113|v50</td>\n",
       "      <td>14063.401640</td>\n",
       "      <td>62</td>\n",
       "      <td>15.015182</td>\n",
       "      <td>0.242180</td>\n",
       "      <td>226.829059</td>\n",
       "      <td>4483.029654</td>\n",
       "      <td>3</td>\n",
       "      <td>3</td>\n",
       "      <td>3</td>\n",
       "      <td>34</td>\n",
       "      <td>6</td>\n",
       "      <td>3</td>\n",
       "      <td>8.666667</td>\n",
       "      <td>44.467742</td>\n",
       "      <td>2.000000</td>\n",
       "    </tr>\n",
       "    <tr>\n",
       "      <th>3</th>\n",
       "      <td>v50|v66_B</td>\n",
       "      <td>8745.435240</td>\n",
       "      <td>86</td>\n",
       "      <td>12.279489</td>\n",
       "      <td>0.142785</td>\n",
       "      <td>101.691107</td>\n",
       "      <td>1362.342831</td>\n",
       "      <td>4</td>\n",
       "      <td>2</td>\n",
       "      <td>4</td>\n",
       "      <td>78</td>\n",
       "      <td>31</td>\n",
       "      <td>8</td>\n",
       "      <td>21.166667</td>\n",
       "      <td>47.267442</td>\n",
       "      <td>2.848837</td>\n",
       "    </tr>\n",
       "    <tr>\n",
       "      <th>4</th>\n",
       "      <td>mean_pred_v79|v50</td>\n",
       "      <td>4942.187370</td>\n",
       "      <td>32</td>\n",
       "      <td>6.879308</td>\n",
       "      <td>0.214978</td>\n",
       "      <td>154.443355</td>\n",
       "      <td>1655.534600</td>\n",
       "      <td>5</td>\n",
       "      <td>8</td>\n",
       "      <td>8</td>\n",
       "      <td>44</td>\n",
       "      <td>17</td>\n",
       "      <td>6</td>\n",
       "      <td>14.666667</td>\n",
       "      <td>24.937500</td>\n",
       "      <td>2.437500</td>\n",
       "    </tr>\n",
       "    <tr>\n",
       "      <th>5</th>\n",
       "      <td>mean_pred_v66|v50</td>\n",
       "      <td>4241.832000</td>\n",
       "      <td>49</td>\n",
       "      <td>6.785379</td>\n",
       "      <td>0.138477</td>\n",
       "      <td>86.568000</td>\n",
       "      <td>719.555946</td>\n",
       "      <td>6</td>\n",
       "      <td>5</td>\n",
       "      <td>9</td>\n",
       "      <td>80</td>\n",
       "      <td>46</td>\n",
       "      <td>14</td>\n",
       "      <td>26.666667</td>\n",
       "      <td>58.918367</td>\n",
       "      <td>2.918367</td>\n",
       "    </tr>\n",
       "    <tr>\n",
       "      <th>6</th>\n",
       "      <td>mean_pred_v31|v50</td>\n",
       "      <td>4181.793995</td>\n",
       "      <td>28</td>\n",
       "      <td>7.524578</td>\n",
       "      <td>0.268735</td>\n",
       "      <td>149.349786</td>\n",
       "      <td>1760.569443</td>\n",
       "      <td>7</td>\n",
       "      <td>10</td>\n",
       "      <td>6</td>\n",
       "      <td>28</td>\n",
       "      <td>19</td>\n",
       "      <td>5</td>\n",
       "      <td>12.500000</td>\n",
       "      <td>37.250000</td>\n",
       "      <td>2.107143</td>\n",
       "    </tr>\n",
       "    <tr>\n",
       "      <th>7</th>\n",
       "      <td>mean_pred_v79|v66_C</td>\n",
       "      <td>3587.156890</td>\n",
       "      <td>17</td>\n",
       "      <td>8.730438</td>\n",
       "      <td>0.513555</td>\n",
       "      <td>211.009229</td>\n",
       "      <td>2194.249624</td>\n",
       "      <td>8</td>\n",
       "      <td>18</td>\n",
       "      <td>5</td>\n",
       "      <td>8</td>\n",
       "      <td>9</td>\n",
       "      <td>4</td>\n",
       "      <td>8.666667</td>\n",
       "      <td>32.000000</td>\n",
       "      <td>1.823529</td>\n",
       "    </tr>\n",
       "    <tr>\n",
       "      <th>8</th>\n",
       "      <td>mean_pred_v56|mean_pred_v79</td>\n",
       "      <td>2765.560300</td>\n",
       "      <td>13</td>\n",
       "      <td>6.353961</td>\n",
       "      <td>0.488766</td>\n",
       "      <td>212.735408</td>\n",
       "      <td>1648.582876</td>\n",
       "      <td>9</td>\n",
       "      <td>25</td>\n",
       "      <td>11</td>\n",
       "      <td>9</td>\n",
       "      <td>8</td>\n",
       "      <td>7</td>\n",
       "      <td>11.500000</td>\n",
       "      <td>41.692308</td>\n",
       "      <td>1.615385</td>\n",
       "    </tr>\n",
       "    <tr>\n",
       "      <th>9</th>\n",
       "      <td>mean_pred_v113|mean_pred_v56</td>\n",
       "      <td>2569.924300</td>\n",
       "      <td>19</td>\n",
       "      <td>6.882416</td>\n",
       "      <td>0.362232</td>\n",
       "      <td>135.259174</td>\n",
       "      <td>1294.932873</td>\n",
       "      <td>10</td>\n",
       "      <td>15</td>\n",
       "      <td>7</td>\n",
       "      <td>14</td>\n",
       "      <td>20</td>\n",
       "      <td>9</td>\n",
       "      <td>12.500000</td>\n",
       "      <td>39.526316</td>\n",
       "      <td>2.368421</td>\n",
       "    </tr>\n",
       "    <tr>\n",
       "      <th>10</th>\n",
       "      <td>v50|v66_C</td>\n",
       "      <td>2515.238754</td>\n",
       "      <td>34</td>\n",
       "      <td>4.437950</td>\n",
       "      <td>0.130528</td>\n",
       "      <td>73.977610</td>\n",
       "      <td>391.283248</td>\n",
       "      <td>11</td>\n",
       "      <td>7</td>\n",
       "      <td>16</td>\n",
       "      <td>82</td>\n",
       "      <td>57</td>\n",
       "      <td>20</td>\n",
       "      <td>32.166667</td>\n",
       "      <td>37.000000</td>\n",
       "      <td>3.323529</td>\n",
       "    </tr>\n",
       "    <tr>\n",
       "      <th>11</th>\n",
       "      <td>mean_pred_v47|v50</td>\n",
       "      <td>2510.031050</td>\n",
       "      <td>31</td>\n",
       "      <td>4.858528</td>\n",
       "      <td>0.156727</td>\n",
       "      <td>80.968744</td>\n",
       "      <td>759.092388</td>\n",
       "      <td>12</td>\n",
       "      <td>9</td>\n",
       "      <td>13</td>\n",
       "      <td>71</td>\n",
       "      <td>51</td>\n",
       "      <td>13</td>\n",
       "      <td>28.166667</td>\n",
       "      <td>39.838710</td>\n",
       "      <td>3.258065</td>\n",
       "    </tr>\n",
       "    <tr>\n",
       "      <th>12</th>\n",
       "      <td>mean_pred_v56|v31_A</td>\n",
       "      <td>2376.082600</td>\n",
       "      <td>13</td>\n",
       "      <td>4.954250</td>\n",
       "      <td>0.381096</td>\n",
       "      <td>182.775585</td>\n",
       "      <td>1178.221626</td>\n",
       "      <td>13</td>\n",
       "      <td>26</td>\n",
       "      <td>12</td>\n",
       "      <td>13</td>\n",
       "      <td>14</td>\n",
       "      <td>10</td>\n",
       "      <td>14.666667</td>\n",
       "      <td>42.307692</td>\n",
       "      <td>1.461538</td>\n",
       "    </tr>\n",
       "    <tr>\n",
       "      <th>13</th>\n",
       "      <td>v10|v12</td>\n",
       "      <td>2166.029870</td>\n",
       "      <td>38</td>\n",
       "      <td>6.715756</td>\n",
       "      <td>0.176730</td>\n",
       "      <td>57.000786</td>\n",
       "      <td>469.007857</td>\n",
       "      <td>14</td>\n",
       "      <td>6</td>\n",
       "      <td>10</td>\n",
       "      <td>64</td>\n",
       "      <td>76</td>\n",
       "      <td>17</td>\n",
       "      <td>31.166667</td>\n",
       "      <td>61.157895</td>\n",
       "      <td>3.210526</td>\n",
       "    </tr>\n",
       "    <tr>\n",
       "      <th>14</th>\n",
       "      <td>mean_pred_v56|v66_C</td>\n",
       "      <td>1532.613350</td>\n",
       "      <td>22</td>\n",
       "      <td>4.049746</td>\n",
       "      <td>0.184079</td>\n",
       "      <td>69.664243</td>\n",
       "      <td>360.516516</td>\n",
       "      <td>15</td>\n",
       "      <td>11</td>\n",
       "      <td>17</td>\n",
       "      <td>60</td>\n",
       "      <td>64</td>\n",
       "      <td>22</td>\n",
       "      <td>31.500000</td>\n",
       "      <td>50.863636</td>\n",
       "      <td>2.818182</td>\n",
       "    </tr>\n",
       "    <tr>\n",
       "      <th>15</th>\n",
       "      <td>v110_B|v50</td>\n",
       "      <td>1414.372730</td>\n",
       "      <td>22</td>\n",
       "      <td>3.973046</td>\n",
       "      <td>0.180593</td>\n",
       "      <td>64.289670</td>\n",
       "      <td>373.285798</td>\n",
       "      <td>16</td>\n",
       "      <td>12</td>\n",
       "      <td>18</td>\n",
       "      <td>63</td>\n",
       "      <td>68</td>\n",
       "      <td>21</td>\n",
       "      <td>33.000000</td>\n",
       "      <td>41.272727</td>\n",
       "      <td>3.181818</td>\n",
       "    </tr>\n",
       "    <tr>\n",
       "      <th>16</th>\n",
       "      <td>mean_pred_v113|v66_C</td>\n",
       "      <td>1357.225300</td>\n",
       "      <td>13</td>\n",
       "      <td>3.178863</td>\n",
       "      <td>0.244528</td>\n",
       "      <td>104.401946</td>\n",
       "      <td>482.602845</td>\n",
       "      <td>17</td>\n",
       "      <td>27</td>\n",
       "      <td>24</td>\n",
       "      <td>33</td>\n",
       "      <td>29</td>\n",
       "      <td>16</td>\n",
       "      <td>24.333333</td>\n",
       "      <td>29.615385</td>\n",
       "      <td>2.615385</td>\n",
       "    </tr>\n",
       "    <tr>\n",
       "      <th>17</th>\n",
       "      <td>mean_pred_v56|mean_pred_v66</td>\n",
       "      <td>1353.188710</td>\n",
       "      <td>17</td>\n",
       "      <td>3.647481</td>\n",
       "      <td>0.214558</td>\n",
       "      <td>79.599336</td>\n",
       "      <td>434.246845</td>\n",
       "      <td>18</td>\n",
       "      <td>19</td>\n",
       "      <td>20</td>\n",
       "      <td>45</td>\n",
       "      <td>53</td>\n",
       "      <td>19</td>\n",
       "      <td>29.000000</td>\n",
       "      <td>55.294118</td>\n",
       "      <td>2.705882</td>\n",
       "    </tr>\n",
       "    <tr>\n",
       "      <th>18</th>\n",
       "      <td>mean_pred_v31|mean_pred_v56</td>\n",
       "      <td>1316.990420</td>\n",
       "      <td>13</td>\n",
       "      <td>3.117018</td>\n",
       "      <td>0.239771</td>\n",
       "      <td>101.306955</td>\n",
       "      <td>442.247243</td>\n",
       "      <td>19</td>\n",
       "      <td>28</td>\n",
       "      <td>25</td>\n",
       "      <td>35</td>\n",
       "      <td>33</td>\n",
       "      <td>18</td>\n",
       "      <td>26.333333</td>\n",
       "      <td>44.384615</td>\n",
       "      <td>2.153846</td>\n",
       "    </tr>\n",
       "    <tr>\n",
       "      <th>19</th>\n",
       "      <td>mean_pred_v56|mean_pred_v56</td>\n",
       "      <td>1283.952778</td>\n",
       "      <td>12</td>\n",
       "      <td>4.684135</td>\n",
       "      <td>0.390345</td>\n",
       "      <td>106.996065</td>\n",
       "      <td>805.916536</td>\n",
       "      <td>20</td>\n",
       "      <td>32</td>\n",
       "      <td>14</td>\n",
       "      <td>11</td>\n",
       "      <td>26</td>\n",
       "      <td>12</td>\n",
       "      <td>19.166667</td>\n",
       "      <td>66.833333</td>\n",
       "      <td>2.333333</td>\n",
       "    </tr>\n",
       "    <tr>\n",
       "      <th>20</th>\n",
       "      <td>mean_pred_v47|v66_C</td>\n",
       "      <td>1247.835129</td>\n",
       "      <td>20</td>\n",
       "      <td>3.904673</td>\n",
       "      <td>0.195234</td>\n",
       "      <td>62.391756</td>\n",
       "      <td>314.253910</td>\n",
       "      <td>21</td>\n",
       "      <td>14</td>\n",
       "      <td>19</td>\n",
       "      <td>55</td>\n",
       "      <td>71</td>\n",
       "      <td>24</td>\n",
       "      <td>34.000000</td>\n",
       "      <td>45.400000</td>\n",
       "      <td>3.200000</td>\n",
       "    </tr>\n",
       "    <tr>\n",
       "      <th>21</th>\n",
       "      <td>mean_pred_v66|mean_pred_v79</td>\n",
       "      <td>1204.619420</td>\n",
       "      <td>6</td>\n",
       "      <td>3.628392</td>\n",
       "      <td>0.604732</td>\n",
       "      <td>200.769903</td>\n",
       "      <td>850.454299</td>\n",
       "      <td>22</td>\n",
       "      <td>49</td>\n",
       "      <td>21</td>\n",
       "      <td>4</td>\n",
       "      <td>12</td>\n",
       "      <td>11</td>\n",
       "      <td>19.833333</td>\n",
       "      <td>53.333333</td>\n",
       "      <td>1.666667</td>\n",
       "    </tr>\n",
       "    <tr>\n",
       "      <th>22</th>\n",
       "      <td>mean_pred_v79|v10</td>\n",
       "      <td>1183.696070</td>\n",
       "      <td>13</td>\n",
       "      <td>2.748538</td>\n",
       "      <td>0.211426</td>\n",
       "      <td>91.053544</td>\n",
       "      <td>304.060093</td>\n",
       "      <td>23</td>\n",
       "      <td>29</td>\n",
       "      <td>29</td>\n",
       "      <td>47</td>\n",
       "      <td>41</td>\n",
       "      <td>26</td>\n",
       "      <td>32.500000</td>\n",
       "      <td>38.307692</td>\n",
       "      <td>2.846154</td>\n",
       "    </tr>\n",
       "    <tr>\n",
       "      <th>23</th>\n",
       "      <td>mean_pred_v24|mean_pred_v79</td>\n",
       "      <td>1142.046100</td>\n",
       "      <td>12</td>\n",
       "      <td>1.815074</td>\n",
       "      <td>0.151256</td>\n",
       "      <td>95.170508</td>\n",
       "      <td>279.542520</td>\n",
       "      <td>24</td>\n",
       "      <td>33</td>\n",
       "      <td>38</td>\n",
       "      <td>75</td>\n",
       "      <td>39</td>\n",
       "      <td>29</td>\n",
       "      <td>39.666667</td>\n",
       "      <td>59.000000</td>\n",
       "      <td>1.750000</td>\n",
       "    </tr>\n",
       "    <tr>\n",
       "      <th>24</th>\n",
       "      <td>mean_pred_v56|v10</td>\n",
       "      <td>1074.342739</td>\n",
       "      <td>18</td>\n",
       "      <td>3.283135</td>\n",
       "      <td>0.182396</td>\n",
       "      <td>59.685708</td>\n",
       "      <td>299.167568</td>\n",
       "      <td>25</td>\n",
       "      <td>17</td>\n",
       "      <td>23</td>\n",
       "      <td>61</td>\n",
       "      <td>74</td>\n",
       "      <td>27</td>\n",
       "      <td>37.833333</td>\n",
       "      <td>46.277778</td>\n",
       "      <td>2.666667</td>\n",
       "    </tr>\n",
       "    <tr>\n",
       "      <th>25</th>\n",
       "      <td>v110_B|v66_C</td>\n",
       "      <td>1020.132860</td>\n",
       "      <td>19</td>\n",
       "      <td>4.661149</td>\n",
       "      <td>0.245324</td>\n",
       "      <td>53.691203</td>\n",
       "      <td>356.326547</td>\n",
       "      <td>26</td>\n",
       "      <td>16</td>\n",
       "      <td>15</td>\n",
       "      <td>32</td>\n",
       "      <td>83</td>\n",
       "      <td>23</td>\n",
       "      <td>32.500000</td>\n",
       "      <td>48.315789</td>\n",
       "      <td>3.157895</td>\n",
       "    </tr>\n",
       "    <tr>\n",
       "      <th>26</th>\n",
       "      <td>mean_pred_v56|v66_B</td>\n",
       "      <td>1003.851870</td>\n",
       "      <td>21</td>\n",
       "      <td>2.954395</td>\n",
       "      <td>0.140685</td>\n",
       "      <td>47.802470</td>\n",
       "      <td>186.446153</td>\n",
       "      <td>27</td>\n",
       "      <td>13</td>\n",
       "      <td>27</td>\n",
       "      <td>79</td>\n",
       "      <td>87</td>\n",
       "      <td>39</td>\n",
       "      <td>45.333333</td>\n",
       "      <td>48.714286</td>\n",
       "      <td>2.761905</td>\n",
       "    </tr>\n",
       "    <tr>\n",
       "      <th>27</th>\n",
       "      <td>mean_pred_v56|v114</td>\n",
       "      <td>993.057088</td>\n",
       "      <td>11</td>\n",
       "      <td>1.356122</td>\n",
       "      <td>0.123284</td>\n",
       "      <td>90.277917</td>\n",
       "      <td>207.032544</td>\n",
       "      <td>28</td>\n",
       "      <td>36</td>\n",
       "      <td>50</td>\n",
       "      <td>84</td>\n",
       "      <td>42</td>\n",
       "      <td>35</td>\n",
       "      <td>45.833333</td>\n",
       "      <td>48.818182</td>\n",
       "      <td>2.727273</td>\n",
       "    </tr>\n",
       "    <tr>\n",
       "      <th>28</th>\n",
       "      <td>v10|v66_C</td>\n",
       "      <td>982.745300</td>\n",
       "      <td>14</td>\n",
       "      <td>1.659603</td>\n",
       "      <td>0.118543</td>\n",
       "      <td>70.196093</td>\n",
       "      <td>138.013480</td>\n",
       "      <td>29</td>\n",
       "      <td>24</td>\n",
       "      <td>44</td>\n",
       "      <td>87</td>\n",
       "      <td>62</td>\n",
       "      <td>51</td>\n",
       "      <td>49.500000</td>\n",
       "      <td>48.428571</td>\n",
       "      <td>2.714286</td>\n",
       "    </tr>\n",
       "    <tr>\n",
       "      <th>29</th>\n",
       "      <td>mean_pred_v110|v50</td>\n",
       "      <td>892.974990</td>\n",
       "      <td>9</td>\n",
       "      <td>1.836417</td>\n",
       "      <td>0.204046</td>\n",
       "      <td>99.219443</td>\n",
       "      <td>273.242997</td>\n",
       "      <td>30</td>\n",
       "      <td>41</td>\n",
       "      <td>37</td>\n",
       "      <td>52</td>\n",
       "      <td>34</td>\n",
       "      <td>30</td>\n",
       "      <td>37.333333</td>\n",
       "      <td>39.222222</td>\n",
       "      <td>2.666667</td>\n",
       "    </tr>\n",
       "    <tr>\n",
       "      <th>...</th>\n",
       "      <td>...</td>\n",
       "      <td>...</td>\n",
       "      <td>...</td>\n",
       "      <td>...</td>\n",
       "      <td>...</td>\n",
       "      <td>...</td>\n",
       "      <td>...</td>\n",
       "      <td>...</td>\n",
       "      <td>...</td>\n",
       "      <td>...</td>\n",
       "      <td>...</td>\n",
       "      <td>...</td>\n",
       "      <td>...</td>\n",
       "      <td>...</td>\n",
       "      <td>...</td>\n",
       "      <td>...</td>\n",
       "    </tr>\n",
       "    <tr>\n",
       "      <th>70</th>\n",
       "      <td>v31_A|v66_C</td>\n",
       "      <td>305.788300</td>\n",
       "      <td>1</td>\n",
       "      <td>0.772495</td>\n",
       "      <td>0.772495</td>\n",
       "      <td>305.788300</td>\n",
       "      <td>236.219957</td>\n",
       "      <td>71</td>\n",
       "      <td>97</td>\n",
       "      <td>74</td>\n",
       "      <td>1</td>\n",
       "      <td>1</td>\n",
       "      <td>33</td>\n",
       "      <td>46.166667</td>\n",
       "      <td>18.000000</td>\n",
       "      <td>1.000000</td>\n",
       "    </tr>\n",
       "    <tr>\n",
       "      <th>71</th>\n",
       "      <td>mean_pred_v66|v110_A</td>\n",
       "      <td>304.300400</td>\n",
       "      <td>3</td>\n",
       "      <td>1.081242</td>\n",
       "      <td>0.360414</td>\n",
       "      <td>101.433467</td>\n",
       "      <td>123.904994</td>\n",
       "      <td>72</td>\n",
       "      <td>77</td>\n",
       "      <td>59</td>\n",
       "      <td>15</td>\n",
       "      <td>32</td>\n",
       "      <td>52</td>\n",
       "      <td>51.166667</td>\n",
       "      <td>76.333333</td>\n",
       "      <td>2.333333</td>\n",
       "    </tr>\n",
       "    <tr>\n",
       "      <th>72</th>\n",
       "      <td>mean_pred_v31|v66_B</td>\n",
       "      <td>292.443300</td>\n",
       "      <td>3</td>\n",
       "      <td>1.074752</td>\n",
       "      <td>0.358251</td>\n",
       "      <td>97.481100</td>\n",
       "      <td>139.389449</td>\n",
       "      <td>73</td>\n",
       "      <td>78</td>\n",
       "      <td>60</td>\n",
       "      <td>16</td>\n",
       "      <td>36</td>\n",
       "      <td>50</td>\n",
       "      <td>52.166667</td>\n",
       "      <td>52.333333</td>\n",
       "      <td>2.666667</td>\n",
       "    </tr>\n",
       "    <tr>\n",
       "      <th>73</th>\n",
       "      <td>mean_pred_v31|v24_E</td>\n",
       "      <td>291.757570</td>\n",
       "      <td>3</td>\n",
       "      <td>0.503398</td>\n",
       "      <td>0.167799</td>\n",
       "      <td>97.252523</td>\n",
       "      <td>55.868591</td>\n",
       "      <td>74</td>\n",
       "      <td>79</td>\n",
       "      <td>88</td>\n",
       "      <td>68</td>\n",
       "      <td>37</td>\n",
       "      <td>81</td>\n",
       "      <td>71.166667</td>\n",
       "      <td>79.000000</td>\n",
       "      <td>1.333333</td>\n",
       "    </tr>\n",
       "    <tr>\n",
       "      <th>74</th>\n",
       "      <td>mean_pred_v47|v79_E</td>\n",
       "      <td>289.690800</td>\n",
       "      <td>1</td>\n",
       "      <td>0.520146</td>\n",
       "      <td>0.520146</td>\n",
       "      <td>289.690800</td>\n",
       "      <td>150.681454</td>\n",
       "      <td>75</td>\n",
       "      <td>98</td>\n",
       "      <td>85</td>\n",
       "      <td>7</td>\n",
       "      <td>3</td>\n",
       "      <td>44</td>\n",
       "      <td>52.000000</td>\n",
       "      <td>15.000000</td>\n",
       "      <td>1.000000</td>\n",
       "    </tr>\n",
       "    <tr>\n",
       "      <th>75</th>\n",
       "      <td>v21|v50</td>\n",
       "      <td>285.560497</td>\n",
       "      <td>10</td>\n",
       "      <td>0.706798</td>\n",
       "      <td>0.070680</td>\n",
       "      <td>28.556050</td>\n",
       "      <td>22.346238</td>\n",
       "      <td>76</td>\n",
       "      <td>40</td>\n",
       "      <td>76</td>\n",
       "      <td>99</td>\n",
       "      <td>100</td>\n",
       "      <td>95</td>\n",
       "      <td>81.000000</td>\n",
       "      <td>49.100000</td>\n",
       "      <td>3.200000</td>\n",
       "    </tr>\n",
       "    <tr>\n",
       "      <th>76</th>\n",
       "      <td>mean_pred_v31|mean_pred_v66</td>\n",
       "      <td>283.150700</td>\n",
       "      <td>4</td>\n",
       "      <td>1.198852</td>\n",
       "      <td>0.299713</td>\n",
       "      <td>70.787675</td>\n",
       "      <td>77.815479</td>\n",
       "      <td>77</td>\n",
       "      <td>69</td>\n",
       "      <td>54</td>\n",
       "      <td>22</td>\n",
       "      <td>60</td>\n",
       "      <td>65</td>\n",
       "      <td>57.833333</td>\n",
       "      <td>52.500000</td>\n",
       "      <td>2.250000</td>\n",
       "    </tr>\n",
       "    <tr>\n",
       "      <th>77</th>\n",
       "      <td>v110_A|v50</td>\n",
       "      <td>282.520000</td>\n",
       "      <td>5</td>\n",
       "      <td>0.852066</td>\n",
       "      <td>0.170413</td>\n",
       "      <td>56.504000</td>\n",
       "      <td>60.059229</td>\n",
       "      <td>78</td>\n",
       "      <td>65</td>\n",
       "      <td>70</td>\n",
       "      <td>65</td>\n",
       "      <td>77</td>\n",
       "      <td>76</td>\n",
       "      <td>71.833333</td>\n",
       "      <td>51.800000</td>\n",
       "      <td>3.200000</td>\n",
       "    </tr>\n",
       "    <tr>\n",
       "      <th>78</th>\n",
       "      <td>mean_pred_v113|v21</td>\n",
       "      <td>282.211050</td>\n",
       "      <td>5</td>\n",
       "      <td>0.553157</td>\n",
       "      <td>0.110631</td>\n",
       "      <td>56.442210</td>\n",
       "      <td>36.080664</td>\n",
       "      <td>79</td>\n",
       "      <td>66</td>\n",
       "      <td>83</td>\n",
       "      <td>89</td>\n",
       "      <td>78</td>\n",
       "      <td>90</td>\n",
       "      <td>80.833333</td>\n",
       "      <td>37.400000</td>\n",
       "      <td>2.600000</td>\n",
       "    </tr>\n",
       "    <tr>\n",
       "      <th>79</th>\n",
       "      <td>v10|v50</td>\n",
       "      <td>267.754820</td>\n",
       "      <td>6</td>\n",
       "      <td>1.085141</td>\n",
       "      <td>0.180857</td>\n",
       "      <td>44.625803</td>\n",
       "      <td>53.210812</td>\n",
       "      <td>80</td>\n",
       "      <td>60</td>\n",
       "      <td>58</td>\n",
       "      <td>62</td>\n",
       "      <td>91</td>\n",
       "      <td>82</td>\n",
       "      <td>72.166667</td>\n",
       "      <td>30.166667</td>\n",
       "      <td>3.333333</td>\n",
       "    </tr>\n",
       "    <tr>\n",
       "      <th>80</th>\n",
       "      <td>v24_C|v79_E</td>\n",
       "      <td>266.926200</td>\n",
       "      <td>3</td>\n",
       "      <td>0.884272</td>\n",
       "      <td>0.294757</td>\n",
       "      <td>88.975400</td>\n",
       "      <td>72.530095</td>\n",
       "      <td>81</td>\n",
       "      <td>80</td>\n",
       "      <td>69</td>\n",
       "      <td>24</td>\n",
       "      <td>43</td>\n",
       "      <td>66</td>\n",
       "      <td>60.500000</td>\n",
       "      <td>23.000000</td>\n",
       "      <td>2.333333</td>\n",
       "    </tr>\n",
       "    <tr>\n",
       "      <th>81</th>\n",
       "      <td>v110_B|v12</td>\n",
       "      <td>243.064800</td>\n",
       "      <td>3</td>\n",
       "      <td>0.666556</td>\n",
       "      <td>0.222185</td>\n",
       "      <td>81.021600</td>\n",
       "      <td>68.561992</td>\n",
       "      <td>82</td>\n",
       "      <td>81</td>\n",
       "      <td>77</td>\n",
       "      <td>40</td>\n",
       "      <td>50</td>\n",
       "      <td>69</td>\n",
       "      <td>66.500000</td>\n",
       "      <td>40.666667</td>\n",
       "      <td>3.000000</td>\n",
       "    </tr>\n",
       "    <tr>\n",
       "      <th>82</th>\n",
       "      <td>mean_pred_v113|v31_A</td>\n",
       "      <td>239.373565</td>\n",
       "      <td>4</td>\n",
       "      <td>0.819394</td>\n",
       "      <td>0.204848</td>\n",
       "      <td>59.843391</td>\n",
       "      <td>67.923824</td>\n",
       "      <td>83</td>\n",
       "      <td>70</td>\n",
       "      <td>71</td>\n",
       "      <td>51</td>\n",
       "      <td>73</td>\n",
       "      <td>71</td>\n",
       "      <td>69.833333</td>\n",
       "      <td>39.500000</td>\n",
       "      <td>2.750000</td>\n",
       "    </tr>\n",
       "    <tr>\n",
       "      <th>83</th>\n",
       "      <td>mean_pred_v113|v47_C</td>\n",
       "      <td>237.335000</td>\n",
       "      <td>3</td>\n",
       "      <td>0.362228</td>\n",
       "      <td>0.120743</td>\n",
       "      <td>79.111667</td>\n",
       "      <td>25.663756</td>\n",
       "      <td>84</td>\n",
       "      <td>82</td>\n",
       "      <td>92</td>\n",
       "      <td>85</td>\n",
       "      <td>54</td>\n",
       "      <td>94</td>\n",
       "      <td>81.833333</td>\n",
       "      <td>10.000000</td>\n",
       "      <td>3.333333</td>\n",
       "    </tr>\n",
       "    <tr>\n",
       "      <th>84</th>\n",
       "      <td>mean_pred_v56|v47_I</td>\n",
       "      <td>233.575700</td>\n",
       "      <td>3</td>\n",
       "      <td>0.637019</td>\n",
       "      <td>0.212340</td>\n",
       "      <td>77.858567</td>\n",
       "      <td>49.592219</td>\n",
       "      <td>85</td>\n",
       "      <td>83</td>\n",
       "      <td>79</td>\n",
       "      <td>46</td>\n",
       "      <td>55</td>\n",
       "      <td>84</td>\n",
       "      <td>72.000000</td>\n",
       "      <td>15.666667</td>\n",
       "      <td>3.000000</td>\n",
       "    </tr>\n",
       "    <tr>\n",
       "      <th>85</th>\n",
       "      <td>mean_pred_v24|v31_B</td>\n",
       "      <td>226.043040</td>\n",
       "      <td>2</td>\n",
       "      <td>0.306041</td>\n",
       "      <td>0.153021</td>\n",
       "      <td>113.021520</td>\n",
       "      <td>34.652628</td>\n",
       "      <td>86</td>\n",
       "      <td>90</td>\n",
       "      <td>93</td>\n",
       "      <td>73</td>\n",
       "      <td>22</td>\n",
       "      <td>91</td>\n",
       "      <td>75.833333</td>\n",
       "      <td>69.500000</td>\n",
       "      <td>1.000000</td>\n",
       "    </tr>\n",
       "    <tr>\n",
       "      <th>86</th>\n",
       "      <td>mean_pred_v66|v31_B</td>\n",
       "      <td>225.876300</td>\n",
       "      <td>2</td>\n",
       "      <td>1.290413</td>\n",
       "      <td>0.645207</td>\n",
       "      <td>112.938150</td>\n",
       "      <td>163.192471</td>\n",
       "      <td>87</td>\n",
       "      <td>91</td>\n",
       "      <td>52</td>\n",
       "      <td>2</td>\n",
       "      <td>23</td>\n",
       "      <td>42</td>\n",
       "      <td>49.500000</td>\n",
       "      <td>46.500000</td>\n",
       "      <td>2.000000</td>\n",
       "    </tr>\n",
       "    <tr>\n",
       "      <th>87</th>\n",
       "      <td>mean_pred_v24|v31_A</td>\n",
       "      <td>225.842000</td>\n",
       "      <td>1</td>\n",
       "      <td>0.227505</td>\n",
       "      <td>0.227505</td>\n",
       "      <td>225.842000</td>\n",
       "      <td>51.380100</td>\n",
       "      <td>88</td>\n",
       "      <td>99</td>\n",
       "      <td>98</td>\n",
       "      <td>36</td>\n",
       "      <td>7</td>\n",
       "      <td>83</td>\n",
       "      <td>68.500000</td>\n",
       "      <td>18.000000</td>\n",
       "      <td>1.000000</td>\n",
       "    </tr>\n",
       "    <tr>\n",
       "      <th>88</th>\n",
       "      <td>v110_B|v34</td>\n",
       "      <td>224.565200</td>\n",
       "      <td>4</td>\n",
       "      <td>0.787461</td>\n",
       "      <td>0.196865</td>\n",
       "      <td>56.141300</td>\n",
       "      <td>42.652136</td>\n",
       "      <td>89</td>\n",
       "      <td>71</td>\n",
       "      <td>72</td>\n",
       "      <td>53</td>\n",
       "      <td>79</td>\n",
       "      <td>86</td>\n",
       "      <td>75.000000</td>\n",
       "      <td>35.500000</td>\n",
       "      <td>3.500000</td>\n",
       "    </tr>\n",
       "    <tr>\n",
       "      <th>89</th>\n",
       "      <td>mean_pred_v47|v66_B</td>\n",
       "      <td>219.543520</td>\n",
       "      <td>4</td>\n",
       "      <td>0.287540</td>\n",
       "      <td>0.071885</td>\n",
       "      <td>54.885880</td>\n",
       "      <td>10.339759</td>\n",
       "      <td>90</td>\n",
       "      <td>72</td>\n",
       "      <td>94</td>\n",
       "      <td>98</td>\n",
       "      <td>82</td>\n",
       "      <td>100</td>\n",
       "      <td>89.333333</td>\n",
       "      <td>58.500000</td>\n",
       "      <td>2.750000</td>\n",
       "    </tr>\n",
       "    <tr>\n",
       "      <th>90</th>\n",
       "      <td>mean_pred_v113|mean_pred_v79</td>\n",
       "      <td>219.133000</td>\n",
       "      <td>2</td>\n",
       "      <td>0.439827</td>\n",
       "      <td>0.219914</td>\n",
       "      <td>109.566500</td>\n",
       "      <td>42.517748</td>\n",
       "      <td>91</td>\n",
       "      <td>92</td>\n",
       "      <td>90</td>\n",
       "      <td>41</td>\n",
       "      <td>24</td>\n",
       "      <td>87</td>\n",
       "      <td>70.833333</td>\n",
       "      <td>52.500000</td>\n",
       "      <td>2.000000</td>\n",
       "    </tr>\n",
       "    <tr>\n",
       "      <th>91</th>\n",
       "      <td>mean_pred_v110|v66_B</td>\n",
       "      <td>215.692300</td>\n",
       "      <td>2</td>\n",
       "      <td>0.219251</td>\n",
       "      <td>0.109625</td>\n",
       "      <td>107.846150</td>\n",
       "      <td>27.888564</td>\n",
       "      <td>92</td>\n",
       "      <td>93</td>\n",
       "      <td>99</td>\n",
       "      <td>90</td>\n",
       "      <td>25</td>\n",
       "      <td>93</td>\n",
       "      <td>82.000000</td>\n",
       "      <td>46.000000</td>\n",
       "      <td>2.500000</td>\n",
       "    </tr>\n",
       "    <tr>\n",
       "      <th>92</th>\n",
       "      <td>v31_B|v66_C</td>\n",
       "      <td>211.527000</td>\n",
       "      <td>2</td>\n",
       "      <td>1.042234</td>\n",
       "      <td>0.521117</td>\n",
       "      <td>105.763500</td>\n",
       "      <td>149.609708</td>\n",
       "      <td>93</td>\n",
       "      <td>94</td>\n",
       "      <td>63</td>\n",
       "      <td>6</td>\n",
       "      <td>28</td>\n",
       "      <td>45</td>\n",
       "      <td>54.833333</td>\n",
       "      <td>51.000000</td>\n",
       "      <td>1.500000</td>\n",
       "    </tr>\n",
       "    <tr>\n",
       "      <th>93</th>\n",
       "      <td>v66_B|v66_C</td>\n",
       "      <td>210.461500</td>\n",
       "      <td>3</td>\n",
       "      <td>0.196570</td>\n",
       "      <td>0.065523</td>\n",
       "      <td>70.153833</td>\n",
       "      <td>13.294842</td>\n",
       "      <td>94</td>\n",
       "      <td>84</td>\n",
       "      <td>100</td>\n",
       "      <td>100</td>\n",
       "      <td>63</td>\n",
       "      <td>99</td>\n",
       "      <td>90.000000</td>\n",
       "      <td>43.666667</td>\n",
       "      <td>3.666667</td>\n",
       "    </tr>\n",
       "    <tr>\n",
       "      <th>94</th>\n",
       "      <td>v40|v66_B</td>\n",
       "      <td>208.683350</td>\n",
       "      <td>6</td>\n",
       "      <td>0.485925</td>\n",
       "      <td>0.080988</td>\n",
       "      <td>34.780558</td>\n",
       "      <td>16.479502</td>\n",
       "      <td>95</td>\n",
       "      <td>61</td>\n",
       "      <td>89</td>\n",
       "      <td>95</td>\n",
       "      <td>97</td>\n",
       "      <td>98</td>\n",
       "      <td>89.166667</td>\n",
       "      <td>46.166667</td>\n",
       "      <td>3.666667</td>\n",
       "    </tr>\n",
       "    <tr>\n",
       "      <th>95</th>\n",
       "      <td>mean_pred_v113|v129</td>\n",
       "      <td>207.631900</td>\n",
       "      <td>2</td>\n",
       "      <td>0.507395</td>\n",
       "      <td>0.253697</td>\n",
       "      <td>103.815950</td>\n",
       "      <td>62.410703</td>\n",
       "      <td>96</td>\n",
       "      <td>95</td>\n",
       "      <td>86</td>\n",
       "      <td>31</td>\n",
       "      <td>30</td>\n",
       "      <td>75</td>\n",
       "      <td>68.833333</td>\n",
       "      <td>23.500000</td>\n",
       "      <td>2.500000</td>\n",
       "    </tr>\n",
       "    <tr>\n",
       "      <th>96</th>\n",
       "      <td>mean_pred_v113|v31_B</td>\n",
       "      <td>201.723400</td>\n",
       "      <td>1</td>\n",
       "      <td>0.613888</td>\n",
       "      <td>0.613888</td>\n",
       "      <td>201.723400</td>\n",
       "      <td>123.835591</td>\n",
       "      <td>97</td>\n",
       "      <td>100</td>\n",
       "      <td>81</td>\n",
       "      <td>3</td>\n",
       "      <td>11</td>\n",
       "      <td>53</td>\n",
       "      <td>57.500000</td>\n",
       "      <td>39.000000</td>\n",
       "      <td>1.000000</td>\n",
       "    </tr>\n",
       "    <tr>\n",
       "      <th>97</th>\n",
       "      <td>v66_A|v66_B</td>\n",
       "      <td>189.297900</td>\n",
       "      <td>4</td>\n",
       "      <td>1.051422</td>\n",
       "      <td>0.262855</td>\n",
       "      <td>47.324475</td>\n",
       "      <td>66.483571</td>\n",
       "      <td>98</td>\n",
       "      <td>73</td>\n",
       "      <td>62</td>\n",
       "      <td>29</td>\n",
       "      <td>89</td>\n",
       "      <td>72</td>\n",
       "      <td>70.500000</td>\n",
       "      <td>52.750000</td>\n",
       "      <td>3.250000</td>\n",
       "    </tr>\n",
       "    <tr>\n",
       "      <th>98</th>\n",
       "      <td>mean_pred_v66|mean_pred_v66</td>\n",
       "      <td>188.239560</td>\n",
       "      <td>2</td>\n",
       "      <td>0.231217</td>\n",
       "      <td>0.115609</td>\n",
       "      <td>94.119780</td>\n",
       "      <td>21.933184</td>\n",
       "      <td>99</td>\n",
       "      <td>96</td>\n",
       "      <td>97</td>\n",
       "      <td>88</td>\n",
       "      <td>40</td>\n",
       "      <td>96</td>\n",
       "      <td>86.000000</td>\n",
       "      <td>54.500000</td>\n",
       "      <td>2.000000</td>\n",
       "    </tr>\n",
       "    <tr>\n",
       "      <th>99</th>\n",
       "      <td>v110_A|v24_C</td>\n",
       "      <td>187.633480</td>\n",
       "      <td>3</td>\n",
       "      <td>0.622836</td>\n",
       "      <td>0.207612</td>\n",
       "      <td>62.544493</td>\n",
       "      <td>40.188908</td>\n",
       "      <td>100</td>\n",
       "      <td>85</td>\n",
       "      <td>80</td>\n",
       "      <td>50</td>\n",
       "      <td>69</td>\n",
       "      <td>88</td>\n",
       "      <td>78.666667</td>\n",
       "      <td>65.000000</td>\n",
       "      <td>3.333333</td>\n",
       "    </tr>\n",
       "  </tbody>\n",
       "</table>\n",
       "<p>100 rows × 16 columns</p>\n",
       "</div>"
      ],
      "text/plain": [
       "                     Interaction          Gain  FScore    wFScore  \\\n",
       "0              mean_pred_v56|v50  18055.526026      96  29.854023   \n",
       "1                        v50|v50  14728.428359      49  22.021742   \n",
       "2             mean_pred_v113|v50  14063.401640      62  15.015182   \n",
       "3                      v50|v66_B   8745.435240      86  12.279489   \n",
       "4              mean_pred_v79|v50   4942.187370      32   6.879308   \n",
       "5              mean_pred_v66|v50   4241.832000      49   6.785379   \n",
       "6              mean_pred_v31|v50   4181.793995      28   7.524578   \n",
       "7            mean_pred_v79|v66_C   3587.156890      17   8.730438   \n",
       "8    mean_pred_v56|mean_pred_v79   2765.560300      13   6.353961   \n",
       "9   mean_pred_v113|mean_pred_v56   2569.924300      19   6.882416   \n",
       "10                     v50|v66_C   2515.238754      34   4.437950   \n",
       "11             mean_pred_v47|v50   2510.031050      31   4.858528   \n",
       "12           mean_pred_v56|v31_A   2376.082600      13   4.954250   \n",
       "13                       v10|v12   2166.029870      38   6.715756   \n",
       "14           mean_pred_v56|v66_C   1532.613350      22   4.049746   \n",
       "15                    v110_B|v50   1414.372730      22   3.973046   \n",
       "16          mean_pred_v113|v66_C   1357.225300      13   3.178863   \n",
       "17   mean_pred_v56|mean_pred_v66   1353.188710      17   3.647481   \n",
       "18   mean_pred_v31|mean_pred_v56   1316.990420      13   3.117018   \n",
       "19   mean_pred_v56|mean_pred_v56   1283.952778      12   4.684135   \n",
       "20           mean_pred_v47|v66_C   1247.835129      20   3.904673   \n",
       "21   mean_pred_v66|mean_pred_v79   1204.619420       6   3.628392   \n",
       "22             mean_pred_v79|v10   1183.696070      13   2.748538   \n",
       "23   mean_pred_v24|mean_pred_v79   1142.046100      12   1.815074   \n",
       "24             mean_pred_v56|v10   1074.342739      18   3.283135   \n",
       "25                  v110_B|v66_C   1020.132860      19   4.661149   \n",
       "26           mean_pred_v56|v66_B   1003.851870      21   2.954395   \n",
       "27            mean_pred_v56|v114    993.057088      11   1.356122   \n",
       "28                     v10|v66_C    982.745300      14   1.659603   \n",
       "29            mean_pred_v110|v50    892.974990       9   1.836417   \n",
       "..                           ...           ...     ...        ...   \n",
       "70                   v31_A|v66_C    305.788300       1   0.772495   \n",
       "71          mean_pred_v66|v110_A    304.300400       3   1.081242   \n",
       "72           mean_pred_v31|v66_B    292.443300       3   1.074752   \n",
       "73           mean_pred_v31|v24_E    291.757570       3   0.503398   \n",
       "74           mean_pred_v47|v79_E    289.690800       1   0.520146   \n",
       "75                       v21|v50    285.560497      10   0.706798   \n",
       "76   mean_pred_v31|mean_pred_v66    283.150700       4   1.198852   \n",
       "77                    v110_A|v50    282.520000       5   0.852066   \n",
       "78            mean_pred_v113|v21    282.211050       5   0.553157   \n",
       "79                       v10|v50    267.754820       6   1.085141   \n",
       "80                   v24_C|v79_E    266.926200       3   0.884272   \n",
       "81                    v110_B|v12    243.064800       3   0.666556   \n",
       "82          mean_pred_v113|v31_A    239.373565       4   0.819394   \n",
       "83          mean_pred_v113|v47_C    237.335000       3   0.362228   \n",
       "84           mean_pred_v56|v47_I    233.575700       3   0.637019   \n",
       "85           mean_pred_v24|v31_B    226.043040       2   0.306041   \n",
       "86           mean_pred_v66|v31_B    225.876300       2   1.290413   \n",
       "87           mean_pred_v24|v31_A    225.842000       1   0.227505   \n",
       "88                    v110_B|v34    224.565200       4   0.787461   \n",
       "89           mean_pred_v47|v66_B    219.543520       4   0.287540   \n",
       "90  mean_pred_v113|mean_pred_v79    219.133000       2   0.439827   \n",
       "91          mean_pred_v110|v66_B    215.692300       2   0.219251   \n",
       "92                   v31_B|v66_C    211.527000       2   1.042234   \n",
       "93                   v66_B|v66_C    210.461500       3   0.196570   \n",
       "94                     v40|v66_B    208.683350       6   0.485925   \n",
       "95           mean_pred_v113|v129    207.631900       2   0.507395   \n",
       "96          mean_pred_v113|v31_B    201.723400       1   0.613888   \n",
       "97                   v66_A|v66_B    189.297900       4   1.051422   \n",
       "98   mean_pred_v66|mean_pred_v66    188.239560       2   0.231217   \n",
       "99                  v110_A|v24_C    187.633480       3   0.622836   \n",
       "\n",
       "    Average wFScore  Average Gain  Expected Gain  Gain Rank  FScore Rank  \\\n",
       "0          0.310979    188.078396    8169.408435          1            1   \n",
       "1          0.449423    300.580171    8741.897698          2            4   \n",
       "2          0.242180    226.829059    4483.029654          3            3   \n",
       "3          0.142785    101.691107    1362.342831          4            2   \n",
       "4          0.214978    154.443355    1655.534600          5            8   \n",
       "5          0.138477     86.568000     719.555946          6            5   \n",
       "6          0.268735    149.349786    1760.569443          7           10   \n",
       "7          0.513555    211.009229    2194.249624          8           18   \n",
       "8          0.488766    212.735408    1648.582876          9           25   \n",
       "9          0.362232    135.259174    1294.932873         10           15   \n",
       "10         0.130528     73.977610     391.283248         11            7   \n",
       "11         0.156727     80.968744     759.092388         12            9   \n",
       "12         0.381096    182.775585    1178.221626         13           26   \n",
       "13         0.176730     57.000786     469.007857         14            6   \n",
       "14         0.184079     69.664243     360.516516         15           11   \n",
       "15         0.180593     64.289670     373.285798         16           12   \n",
       "16         0.244528    104.401946     482.602845         17           27   \n",
       "17         0.214558     79.599336     434.246845         18           19   \n",
       "18         0.239771    101.306955     442.247243         19           28   \n",
       "19         0.390345    106.996065     805.916536         20           32   \n",
       "20         0.195234     62.391756     314.253910         21           14   \n",
       "21         0.604732    200.769903     850.454299         22           49   \n",
       "22         0.211426     91.053544     304.060093         23           29   \n",
       "23         0.151256     95.170508     279.542520         24           33   \n",
       "24         0.182396     59.685708     299.167568         25           17   \n",
       "25         0.245324     53.691203     356.326547         26           16   \n",
       "26         0.140685     47.802470     186.446153         27           13   \n",
       "27         0.123284     90.277917     207.032544         28           36   \n",
       "28         0.118543     70.196093     138.013480         29           24   \n",
       "29         0.204046     99.219443     273.242997         30           41   \n",
       "..              ...           ...            ...        ...          ...   \n",
       "70         0.772495    305.788300     236.219957         71           97   \n",
       "71         0.360414    101.433467     123.904994         72           77   \n",
       "72         0.358251     97.481100     139.389449         73           78   \n",
       "73         0.167799     97.252523      55.868591         74           79   \n",
       "74         0.520146    289.690800     150.681454         75           98   \n",
       "75         0.070680     28.556050      22.346238         76           40   \n",
       "76         0.299713     70.787675      77.815479         77           69   \n",
       "77         0.170413     56.504000      60.059229         78           65   \n",
       "78         0.110631     56.442210      36.080664         79           66   \n",
       "79         0.180857     44.625803      53.210812         80           60   \n",
       "80         0.294757     88.975400      72.530095         81           80   \n",
       "81         0.222185     81.021600      68.561992         82           81   \n",
       "82         0.204848     59.843391      67.923824         83           70   \n",
       "83         0.120743     79.111667      25.663756         84           82   \n",
       "84         0.212340     77.858567      49.592219         85           83   \n",
       "85         0.153021    113.021520      34.652628         86           90   \n",
       "86         0.645207    112.938150     163.192471         87           91   \n",
       "87         0.227505    225.842000      51.380100         88           99   \n",
       "88         0.196865     56.141300      42.652136         89           71   \n",
       "89         0.071885     54.885880      10.339759         90           72   \n",
       "90         0.219914    109.566500      42.517748         91           92   \n",
       "91         0.109625    107.846150      27.888564         92           93   \n",
       "92         0.521117    105.763500     149.609708         93           94   \n",
       "93         0.065523     70.153833      13.294842         94           84   \n",
       "94         0.080988     34.780558      16.479502         95           61   \n",
       "95         0.253697    103.815950      62.410703         96           95   \n",
       "96         0.613888    201.723400     123.835591         97          100   \n",
       "97         0.262855     47.324475      66.483571         98           73   \n",
       "98         0.115609     94.119780      21.933184         99           96   \n",
       "99         0.207612     62.544493      40.188908        100           85   \n",
       "\n",
       "    wFScore Rank  Avg wFScore Rank  Avg Gain Rank  Expected Gain Rank  \\\n",
       "0              1                20             13                   2   \n",
       "1              2                10              2                   1   \n",
       "2              3                34              6                   3   \n",
       "3              4                78             31                   8   \n",
       "4              8                44             17                   6   \n",
       "5              9                80             46                  14   \n",
       "6              6                28             19                   5   \n",
       "7              5                 8              9                   4   \n",
       "8             11                 9              8                   7   \n",
       "9              7                14             20                   9   \n",
       "10            16                82             57                  20   \n",
       "11            13                71             51                  13   \n",
       "12            12                13             14                  10   \n",
       "13            10                64             76                  17   \n",
       "14            17                60             64                  22   \n",
       "15            18                63             68                  21   \n",
       "16            24                33             29                  16   \n",
       "17            20                45             53                  19   \n",
       "18            25                35             33                  18   \n",
       "19            14                11             26                  12   \n",
       "20            19                55             71                  24   \n",
       "21            21                 4             12                  11   \n",
       "22            29                47             41                  26   \n",
       "23            38                75             39                  29   \n",
       "24            23                61             74                  27   \n",
       "25            15                32             83                  23   \n",
       "26            27                79             87                  39   \n",
       "27            50                84             42                  35   \n",
       "28            44                87             62                  51   \n",
       "29            37                52             34                  30   \n",
       "..           ...               ...            ...                 ...   \n",
       "70            74                 1              1                  33   \n",
       "71            59                15             32                  52   \n",
       "72            60                16             36                  50   \n",
       "73            88                68             37                  81   \n",
       "74            85                 7              3                  44   \n",
       "75            76                99            100                  95   \n",
       "76            54                22             60                  65   \n",
       "77            70                65             77                  76   \n",
       "78            83                89             78                  90   \n",
       "79            58                62             91                  82   \n",
       "80            69                24             43                  66   \n",
       "81            77                40             50                  69   \n",
       "82            71                51             73                  71   \n",
       "83            92                85             54                  94   \n",
       "84            79                46             55                  84   \n",
       "85            93                73             22                  91   \n",
       "86            52                 2             23                  42   \n",
       "87            98                36              7                  83   \n",
       "88            72                53             79                  86   \n",
       "89            94                98             82                 100   \n",
       "90            90                41             24                  87   \n",
       "91            99                90             25                  93   \n",
       "92            63                 6             28                  45   \n",
       "93           100               100             63                  99   \n",
       "94            89                95             97                  98   \n",
       "95            86                31             30                  75   \n",
       "96            81                 3             11                  53   \n",
       "97            62                29             89                  72   \n",
       "98            97                88             40                  96   \n",
       "99            80                50             69                  88   \n",
       "\n",
       "    Average Rank  Average Tree Index  Average Tree Depth  \n",
       "0       6.333333           45.656250            2.208333  \n",
       "1       3.500000           46.755102            1.714286  \n",
       "2       8.666667           44.467742            2.000000  \n",
       "3      21.166667           47.267442            2.848837  \n",
       "4      14.666667           24.937500            2.437500  \n",
       "5      26.666667           58.918367            2.918367  \n",
       "6      12.500000           37.250000            2.107143  \n",
       "7       8.666667           32.000000            1.823529  \n",
       "8      11.500000           41.692308            1.615385  \n",
       "9      12.500000           39.526316            2.368421  \n",
       "10     32.166667           37.000000            3.323529  \n",
       "11     28.166667           39.838710            3.258065  \n",
       "12     14.666667           42.307692            1.461538  \n",
       "13     31.166667           61.157895            3.210526  \n",
       "14     31.500000           50.863636            2.818182  \n",
       "15     33.000000           41.272727            3.181818  \n",
       "16     24.333333           29.615385            2.615385  \n",
       "17     29.000000           55.294118            2.705882  \n",
       "18     26.333333           44.384615            2.153846  \n",
       "19     19.166667           66.833333            2.333333  \n",
       "20     34.000000           45.400000            3.200000  \n",
       "21     19.833333           53.333333            1.666667  \n",
       "22     32.500000           38.307692            2.846154  \n",
       "23     39.666667           59.000000            1.750000  \n",
       "24     37.833333           46.277778            2.666667  \n",
       "25     32.500000           48.315789            3.157895  \n",
       "26     45.333333           48.714286            2.761905  \n",
       "27     45.833333           48.818182            2.727273  \n",
       "28     49.500000           48.428571            2.714286  \n",
       "29     37.333333           39.222222            2.666667  \n",
       "..           ...                 ...                 ...  \n",
       "70     46.166667           18.000000            1.000000  \n",
       "71     51.166667           76.333333            2.333333  \n",
       "72     52.166667           52.333333            2.666667  \n",
       "73     71.166667           79.000000            1.333333  \n",
       "74     52.000000           15.000000            1.000000  \n",
       "75     81.000000           49.100000            3.200000  \n",
       "76     57.833333           52.500000            2.250000  \n",
       "77     71.833333           51.800000            3.200000  \n",
       "78     80.833333           37.400000            2.600000  \n",
       "79     72.166667           30.166667            3.333333  \n",
       "80     60.500000           23.000000            2.333333  \n",
       "81     66.500000           40.666667            3.000000  \n",
       "82     69.833333           39.500000            2.750000  \n",
       "83     81.833333           10.000000            3.333333  \n",
       "84     72.000000           15.666667            3.000000  \n",
       "85     75.833333           69.500000            1.000000  \n",
       "86     49.500000           46.500000            2.000000  \n",
       "87     68.500000           18.000000            1.000000  \n",
       "88     75.000000           35.500000            3.500000  \n",
       "89     89.333333           58.500000            2.750000  \n",
       "90     70.833333           52.500000            2.000000  \n",
       "91     82.000000           46.000000            2.500000  \n",
       "92     54.833333           51.000000            1.500000  \n",
       "93     90.000000           43.666667            3.666667  \n",
       "94     89.166667           46.166667            3.666667  \n",
       "95     68.833333           23.500000            2.500000  \n",
       "96     57.500000           39.000000            1.000000  \n",
       "97     70.500000           52.750000            3.250000  \n",
       "98     86.000000           54.500000            2.000000  \n",
       "99     78.666667           65.000000            3.333333  \n",
       "\n",
       "[100 rows x 16 columns]"
      ]
     },
     "execution_count": 41,
     "metadata": {},
     "output_type": "execute_result"
    }
   ],
   "source": [
    "pd.read_excel('xgbfi_report.xlsx', sheetname=1)"
   ]
  },
  {
   "cell_type": "markdown",
   "metadata": {},
   "source": [
    "# Домашняя работа\n",
    "\n",
    "#### Простая\n",
    "1. Решаем ту же задачу регрессии - предскажем цены на недвижимость. Использовать датасет https://www.kaggle.com/c/house-prices-advanced-regression-techniques/data (train.csv)\n",
    "2. Используем **objective = \"reg:linear\"** в xgboost\n",
    "5. Провести настройку гиперпараметров, используя либо hyperopt либо ручную настройку, как вам больше нравится\n",
    "6. Использовать отложенную выборку (как на занятии), чтобы следить за процессом обучения xgboost'а, но, как и в предыдущем домашнем задании, финальную оценку качества давать используя 10-fold кросс-валидацию.\n",
    "4. Проанализировать, насколько согласованы оценка на отложенной выборке и на кросс-валидации (одновременно уменьшаются/увеличиваются при изменении гиперпараметров или ведут себя по-разному)\n",
    "5. Проанализировать признаки, используя XGBFI, сделать выводы об интересных взаимодействиях\n",
    "7. В качестве решения:\n",
    "    Jupyter notebook с кодом и комментариями"
   ]
  }
 ],
 "metadata": {
  "kernelspec": {
   "display_name": "Python 3",
   "language": "python",
   "name": "python3"
  },
  "language_info": {
   "codemirror_mode": {
    "name": "ipython",
    "version": 3
   },
   "file_extension": ".py",
   "mimetype": "text/x-python",
   "name": "python",
   "nbconvert_exporter": "python",
   "pygments_lexer": "ipython3",
   "version": "3.6.4"
  },
  "toc": {
   "nav_menu": {},
   "number_sections": false,
   "sideBar": true,
   "skip_h1_title": false,
   "toc_cell": false,
   "toc_position": {
    "height": "calc(100% - 180px)",
    "left": "10px",
    "top": "150px",
    "width": "170px"
   },
   "toc_section_display": "block",
   "toc_window_display": true
  }
 },
 "nbformat": 4,
 "nbformat_minor": 2
}
